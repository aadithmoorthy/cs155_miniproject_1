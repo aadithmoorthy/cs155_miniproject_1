{
 "cells": [
  {
   "cell_type": "code",
   "execution_count": 1,
   "metadata": {},
   "outputs": [],
   "source": [
    "from utils import get_split_data\n",
    "from sklearn.svm import SVC, LinearSVC\n",
    "from sklearn.model_selection import GridSearchCV\n",
    "from sklearn.metrics import classification_report\n",
    "from sklearn.decomposition import PCA\n",
    "import numpy as np\n",
    "import time\n",
    "\n",
    "X_train, y_train, X_val, y_val = get_split_data()"
   ]
  },
  {
   "cell_type": "code",
   "execution_count": 2,
   "metadata": {},
   "outputs": [],
   "source": [
    "# Normalize input data to total word count of review\n",
    "\n",
    "#word_count_train = np.sum(X_train, axis=1)\n",
    "#word_count_train[word_count_train==0] = 1     # Reviews of length zero are given effective length one\n",
    "#X_train_normed = np.divide(X_train, np.stack([word_count_train]*X_train.shape[1], axis=1))\n",
    "\n",
    "#word_count_val = np.sum(X_val, axis=1)\n",
    "#word_count_val[word_count_val==0] = 1     # Reviews of length zero are given effective length one\n",
    "#X_val_normed = np.divide(X_val, np.stack([word_count_val]*X_val.shape[1], axis=1))"
   ]
  },
  {
   "cell_type": "code",
   "execution_count": 3,
   "metadata": {},
   "outputs": [],
   "source": [
    "# Truncate word counts to one\n",
    "X_train_trunc = np.minimum(X_train, np.ones(X_train.shape))\n",
    "X_val_trunc = np.minimum(X_val, np.ones(X_val.shape))"
   ]
  },
  {
   "cell_type": "code",
   "execution_count": 4,
   "metadata": {},
   "outputs": [],
   "source": [
    "# PCA based on raw input data\n",
    "raw_PCA = PCA()\n",
    "raw_PCA.fit(X_train)\n",
    "\n",
    "# Transform training and validation data\n",
    "X_train_raw_PCA = raw_PCA.transform(X_train)\n",
    "X_val_raw_PCA = raw_PCA.transform(X_val)"
   ]
  },
  {
   "cell_type": "code",
   "execution_count": 5,
   "metadata": {},
   "outputs": [],
   "source": [
    "# Whitened PCA based on raw input data\n",
    "raw_PCA_white = PCA(whiten=True)\n",
    "raw_PCA_white.fit(X_train)\n",
    "\n",
    "# Transform training and validation data\n",
    "X_train_raw_PCA_white = raw_PCA_white.transform(X_train)\n",
    "X_val_raw_PCA_white = raw_PCA_white.transform(X_val)"
   ]
  },
  {
   "cell_type": "code",
   "execution_count": 6,
   "metadata": {},
   "outputs": [],
   "source": [
    "# PCA based on truncated input data\n",
    "trunc_PCA = PCA()\n",
    "trunc_PCA.fit(X_train_trunc)\n",
    "\n",
    "X_train_trunc_PCA = trunc_PCA.transform(X_train_trunc)\n",
    "X_val_trunc_PCA = trunc_PCA.transform(X_val_trunc)"
   ]
  },
  {
   "cell_type": "code",
   "execution_count": 7,
   "metadata": {},
   "outputs": [],
   "source": [
    "# Whitened PCA based on truncated input data\n",
    "trunc_PCA_white = PCA(whiten=True)\n",
    "trunc_PCA_white.fit(X_train_trunc)\n",
    "\n",
    "X_train_trunc_PCA_white = trunc_PCA_white.transform(X_train_trunc)\n",
    "X_val_trunc_PCA_white = trunc_PCA_white.transform(X_val_trunc)"
   ]
  },
  {
   "cell_type": "code",
   "execution_count": 8,
   "metadata": {
    "scrolled": false
   },
   "outputs": [
    {
     "name": "stdout",
     "output_type": "stream",
     "text": [
      "Linear Kernel: Raw Data\n",
      "Training Time =  337.5080087184906\n",
      "Test Accuracy =  0.834\n",
      "Number of Support Vectors =  6383\n",
      "\n",
      "\n",
      "Linear Kernel: Trunc Data\n",
      "Training Time =  300.51007771492004\n",
      "Test Accuracy =  0.837\n",
      "Number of Support Vectors =  6614\n",
      "\n",
      "\n",
      "Linear Kernel: PCA Raw Data\n",
      "Training Time =  330.5796024799347\n",
      "Test Accuracy =  0.834\n",
      "Number of Support Vectors =  6381\n",
      "\n",
      "\n",
      "Linear Kernel: PCA Trunc Data\n",
      "Training Time =  299.9918556213379\n",
      "Test Accuracy =  0.837\n",
      "Number of Support Vectors =  6622\n",
      "\n",
      "\n",
      "Linear Kernel: Whitened PCA Raw Data\n",
      "Training Time =  2252.2509009838104\n",
      "Test Accuracy =  0.829\n",
      "Number of Support Vectors =  6295\n",
      "\n",
      "\n",
      "Linear Kernel: Whitened PCA Trunc Data\n",
      "Training Time =  2341.721186876297\n",
      "Test Accuracy =  0.836\n",
      "Number of Support Vectors =  6461\n",
      "\n",
      "\n"
     ]
    }
   ],
   "source": [
    "def linearSVCmodel(X_t, y_t, X_v, y_v):\n",
    "    start = time.time()\n",
    "    model = SVC(kernel='linear', cache_size=1000)\n",
    "    model.fit(X_t, y_t)\n",
    "    end = time.time()\n",
    "    print(\"Training Time = \", (end - start))\n",
    "    fCorr = sum(model.predict(X_v) == y_v)/len(y_v)\n",
    "    nSupp = len(model.support_)\n",
    "    print(\"Test Accuracy = \", fCorr)\n",
    "    print(\"Number of Support Vectors = \", nSupp)\n",
    "    print(\"\\n\")\n",
    "    return\n",
    "    \n",
    "print(\"Linear Kernel: Raw Data\")\n",
    "linearSVCmodel(X_train, y_train, X_val, y_val)\n",
    "\n",
    "print(\"Linear Kernel: Trunc Data\")\n",
    "linearSVCmodel(X_train_trunc, y_train, X_val_trunc, y_val)\n",
    "\n",
    "print(\"Linear Kernel: PCA Raw Data\")\n",
    "linearSVCmodel(X_train_raw_PCA, y_train, X_val_raw_PCA, y_val)\n",
    "\n",
    "print(\"Linear Kernel: PCA Trunc Data\")\n",
    "linearSVCmodel(X_train_trunc_PCA, y_train, X_val_trunc_PCA, y_val)\n",
    "\n",
    "print(\"Linear Kernel: Whitened PCA Raw Data\")\n",
    "linearSVCmodel(X_train_raw_PCA_white, y_train, X_val_raw_PCA_white, y_val)\n",
    "\n",
    "print(\"Linear Kernel: Whitened PCA Trunc Data\")\n",
    "linearSVCmodel(X_train_trunc_PCA_white, y_train, X_val_trunc_PCA_white, y_val)"
   ]
  },
  {
   "cell_type": "code",
   "execution_count": 9,
   "metadata": {},
   "outputs": [
    {
     "name": "stdout",
     "output_type": "stream",
     "text": [
      "RBF Kernel: Raw Data\n",
      "Training Time =  349.9552800655365\n",
      "Test Accuracy =  0.827\n",
      "Number of Support Vectors =  12302\n",
      "\n",
      "\n",
      "RBF Kernel: Trunc Data\n",
      "Training Time =  349.5130817890167\n",
      "Test Accuracy =  0.818\n",
      "Number of Support Vectors =  13238\n",
      "\n",
      "\n",
      "RBF Kernel: PCA Raw Data\n",
      "Training Time =  326.35124039649963\n",
      "Test Accuracy =  0.827\n",
      "Number of Support Vectors =  12302\n",
      "\n",
      "\n",
      "RBF Kernel: PCA Trunc Data\n",
      "Training Time =  350.7436020374298\n",
      "Test Accuracy =  0.818\n",
      "Number of Support Vectors =  13238\n",
      "\n",
      "\n",
      "RBF Kernel: Whitened PCA Raw Data\n",
      "Training Time =  377.951233625412\n",
      "Test Accuracy =  0.839\n",
      "Number of Support Vectors =  13622\n",
      "\n",
      "\n",
      "RBF Kernel: Whitened PCA Trunc Data\n",
      "Training Time =  380.8051128387451\n",
      "Test Accuracy =  0.834\n",
      "Number of Support Vectors =  13869\n",
      "\n",
      "\n"
     ]
    }
   ],
   "source": [
    "def rbfSVCmodel(X_t, y_t, X_v, y_v):\n",
    "    start = time.time()\n",
    "    model = SVC(kernel='rbf', cache_size=1000)\n",
    "    model.fit(X_t, y_t)\n",
    "    end = time.time()\n",
    "    print(\"Training Time = \", (end - start))\n",
    "    fCorr = sum(model.predict(X_v) == y_v) / float(len(y_v))\n",
    "    nSupp = len(model.support_)\n",
    "    print(\"Test Accuracy = \", fCorr)\n",
    "    print(\"Number of Support Vectors = \", nSupp)\n",
    "    print(\"\\n\")\n",
    "    return\n",
    "\n",
    "print(\"RBF Kernel: Raw Data\")\n",
    "rbfSVCmodel(X_train, y_train, X_val, y_val)\n",
    "\n",
    "print(\"RBF Kernel: Trunc Data\")\n",
    "rbfSVCmodel(X_train_trunc, y_train, X_val_trunc, y_val)\n",
    "\n",
    "print(\"RBF Kernel: PCA Raw Data\")\n",
    "rbfSVCmodel(X_train_raw_PCA, y_train, X_val_raw_PCA, y_val)\n",
    "\n",
    "print(\"RBF Kernel: PCA Trunc Data\")\n",
    "rbfSVCmodel(X_train_trunc_PCA, y_train, X_val_trunc_PCA, y_val)\n",
    "\n",
    "print(\"RBF Kernel: Whitened PCA Raw Data\")\n",
    "rbfSVCmodel(X_train_raw_PCA_white, y_train, X_val_raw_PCA_white, y_val)\n",
    "\n",
    "print(\"RBF Kernel: Whitened PCA Trunc Data\")\n",
    "rbfSVCmodel(X_train_trunc_PCA_white, y_train, X_val_trunc_PCA_white, y_val)"
   ]
  },
  {
   "cell_type": "markdown",
   "metadata": {},
   "source": [
    "Input data normalized to review length generally performs poorly.\n",
    "Polynomial Kernel performs very poorly.\n"
   ]
  }
 ],
 "metadata": {
  "kernelspec": {
   "display_name": "Python 3",
   "language": "python",
   "name": "python3"
  },
  "language_info": {
   "codemirror_mode": {
    "name": "ipython",
    "version": 3
   },
   "file_extension": ".py",
   "mimetype": "text/x-python",
   "name": "python",
   "nbconvert_exporter": "python",
   "pygments_lexer": "ipython3",
   "version": "3.5.2"
  }
 },
 "nbformat": 4,
 "nbformat_minor": 2
}
