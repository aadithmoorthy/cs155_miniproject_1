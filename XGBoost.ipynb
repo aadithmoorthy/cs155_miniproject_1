{
 "cells": [
  {
   "cell_type": "markdown",
   "metadata": {},
   "source": [
    "## Imports"
   ]
  },
  {
   "cell_type": "code",
   "execution_count": 1,
   "metadata": {},
   "outputs": [],
   "source": [
    "from utils import get_unsplit_data, get_test_data\n",
    "from sklearn.model_selection import GridSearchCV\n",
    "from sklearn.decomposition import PCA\n",
    "import numpy as np\n",
    "import xgboost\n",
    "import time\n",
    "import pickle\n",
    "import warnings\n",
    "warnings.filterwarnings(\"ignore\", category=DeprecationWarning) \n",
    "\n",
    "X_train, y_train, = get_unsplit_data()\n",
    "X_test = get_test_data()"
   ]
  },
  {
   "cell_type": "markdown",
   "metadata": {},
   "source": [
    "## Crossvalidation Function"
   ]
  },
  {
   "cell_type": "code",
   "execution_count": 2,
   "metadata": {},
   "outputs": [],
   "source": [
    "def crossvalidate_XGBoost(X_t, y_t, params, K_folds):\n",
    "    \n",
    "    start = time.time()\n",
    "    # Perform cross validation\n",
    "    clf = GridSearchCV(xgboost.XGBClassifier(), params, cv=K_folds, scoring='accuracy', n_jobs=4, verbose=2)\n",
    "    clf.fit(X_t, y_t)\n",
    "    end = time.time()\n",
    "    \n",
    "    print(\"Cross-validation Training Time = \", (end - start))\n",
    "    print()\n",
    "\n",
    "    print(\"Grid scores:\")\n",
    "    print()\n",
    "    means = clf.cv_results_['mean_test_score']\n",
    "    stds = clf.cv_results_['std_test_score']\n",
    "    for mean, std, params in zip(means, stds, clf.cv_results_['params']):\n",
    "        print(\"%0.3f (+/-%0.03f) for %r\" % (mean, std * 2, params))\n",
    "    print()\n",
    "    \n",
    "    print(\"Best parameter set:\")\n",
    "    print(clf.best_params_)\n",
    "    print()\n",
    "    \n",
    "    return"
   ]
  },
  {
   "cell_type": "markdown",
   "metadata": {},
   "source": [
    "## Hand-tuning"
   ]
  },
  {
   "cell_type": "markdown",
   "metadata": {},
   "source": [
    "Initial hand-tuning seems to indicate max_depth = 5 seems to work for default parameters. Early stopping indicated ~350 estimators is when overfitting begins. Start with these parameters.  \n",
    "\n",
    "First try to determine colsample_bytree."
   ]
  },
  {
   "cell_type": "code",
   "execution_count": 5,
   "metadata": {},
   "outputs": [
    {
     "name": "stdout",
     "output_type": "stream",
     "text": [
      "Fitting 3 folds for each of 7 candidates, totalling 21 fits\n",
      "[CV] booster=gbtree, max_depth=5, reg_lambda=1, n_estimators=350, colsample_bytree=0.7, subsample=1, learning_rate=0.1, gamma=0 \n",
      "[CV] booster=gbtree, max_depth=5, reg_lambda=1, n_estimators=350, colsample_bytree=0.7, subsample=1, learning_rate=0.1, gamma=0 \n",
      "[CV] booster=gbtree, max_depth=5, reg_lambda=1, n_estimators=350, colsample_bytree=0.7, subsample=1, learning_rate=0.1, gamma=0 \n",
      "[CV] booster=gbtree, max_depth=5, reg_lambda=1, n_estimators=350, colsample_bytree=0.75, subsample=1, learning_rate=0.1, gamma=0 \n"
     ]
    },
    {
     "name": "stderr",
     "output_type": "stream",
     "text": [
      "/home/tony/MachineLearning/env/lib/python3.5/site-packages/sklearn/preprocessing/label.py:151: DeprecationWarning: The truth value of an empty array is ambiguous. Returning False, but in future this will result in an error. Use `array.size > 0` to check that an array is not empty.\n",
      "  if diff:\n",
      "/home/tony/MachineLearning/env/lib/python3.5/site-packages/sklearn/preprocessing/label.py:151: DeprecationWarning: The truth value of an empty array is ambiguous. Returning False, but in future this will result in an error. Use `array.size > 0` to check that an array is not empty.\n",
      "  if diff:\n",
      "/home/tony/MachineLearning/env/lib/python3.5/site-packages/sklearn/preprocessing/label.py:151: DeprecationWarning: The truth value of an empty array is ambiguous. Returning False, but in future this will result in an error. Use `array.size > 0` to check that an array is not empty.\n",
      "  if diff:\n"
     ]
    },
    {
     "name": "stdout",
     "output_type": "stream",
     "text": [
      "[CV]  booster=gbtree, max_depth=5, reg_lambda=1, n_estimators=350, colsample_bytree=0.7, subsample=1, learning_rate=0.1, gamma=0, total= 1.3min\n",
      "[CV] booster=gbtree, max_depth=5, reg_lambda=1, n_estimators=350, colsample_bytree=0.75, subsample=1, learning_rate=0.1, gamma=0 \n"
     ]
    },
    {
     "name": "stderr",
     "output_type": "stream",
     "text": [
      "/home/tony/MachineLearning/env/lib/python3.5/site-packages/sklearn/preprocessing/label.py:151: DeprecationWarning: The truth value of an empty array is ambiguous. Returning False, but in future this will result in an error. Use `array.size > 0` to check that an array is not empty.\n",
      "  if diff:\n"
     ]
    },
    {
     "name": "stdout",
     "output_type": "stream",
     "text": [
      "[CV]  booster=gbtree, max_depth=5, reg_lambda=1, n_estimators=350, colsample_bytree=0.7, subsample=1, learning_rate=0.1, gamma=0, total= 1.4min\n",
      "[CV] booster=gbtree, max_depth=5, reg_lambda=1, n_estimators=350, colsample_bytree=0.75, subsample=1, learning_rate=0.1, gamma=0 \n"
     ]
    },
    {
     "name": "stderr",
     "output_type": "stream",
     "text": [
      "/home/tony/MachineLearning/env/lib/python3.5/site-packages/sklearn/preprocessing/label.py:151: DeprecationWarning: The truth value of an empty array is ambiguous. Returning False, but in future this will result in an error. Use `array.size > 0` to check that an array is not empty.\n",
      "  if diff:\n",
      "/home/tony/MachineLearning/env/lib/python3.5/site-packages/sklearn/preprocessing/label.py:151: DeprecationWarning: The truth value of an empty array is ambiguous. Returning False, but in future this will result in an error. Use `array.size > 0` to check that an array is not empty.\n",
      "  if diff:\n"
     ]
    },
    {
     "name": "stdout",
     "output_type": "stream",
     "text": [
      "[CV]  booster=gbtree, max_depth=5, reg_lambda=1, n_estimators=350, colsample_bytree=0.7, subsample=1, learning_rate=0.1, gamma=0, total= 1.4min\n",
      "[CV] booster=gbtree, max_depth=5, reg_lambda=1, n_estimators=350, colsample_bytree=0.8, subsample=1, learning_rate=0.1, gamma=0 \n"
     ]
    },
    {
     "name": "stderr",
     "output_type": "stream",
     "text": [
      "/home/tony/MachineLearning/env/lib/python3.5/site-packages/sklearn/preprocessing/label.py:151: DeprecationWarning: The truth value of an empty array is ambiguous. Returning False, but in future this will result in an error. Use `array.size > 0` to check that an array is not empty.\n",
      "  if diff:\n",
      "/home/tony/MachineLearning/env/lib/python3.5/site-packages/sklearn/preprocessing/label.py:151: DeprecationWarning: The truth value of an empty array is ambiguous. Returning False, but in future this will result in an error. Use `array.size > 0` to check that an array is not empty.\n",
      "  if diff:\n"
     ]
    },
    {
     "name": "stdout",
     "output_type": "stream",
     "text": [
      "[CV]  booster=gbtree, max_depth=5, reg_lambda=1, n_estimators=350, colsample_bytree=0.75, subsample=1, learning_rate=0.1, gamma=0, total= 1.4min\n",
      "[CV] booster=gbtree, max_depth=5, reg_lambda=1, n_estimators=350, colsample_bytree=0.8, subsample=1, learning_rate=0.1, gamma=0 \n"
     ]
    },
    {
     "name": "stderr",
     "output_type": "stream",
     "text": [
      "/home/tony/MachineLearning/env/lib/python3.5/site-packages/sklearn/preprocessing/label.py:151: DeprecationWarning: The truth value of an empty array is ambiguous. Returning False, but in future this will result in an error. Use `array.size > 0` to check that an array is not empty.\n",
      "  if diff:\n",
      "/home/tony/MachineLearning/env/lib/python3.5/site-packages/sklearn/preprocessing/label.py:151: DeprecationWarning: The truth value of an empty array is ambiguous. Returning False, but in future this will result in an error. Use `array.size > 0` to check that an array is not empty.\n",
      "  if diff:\n"
     ]
    },
    {
     "name": "stdout",
     "output_type": "stream",
     "text": [
      "[CV]  booster=gbtree, max_depth=5, reg_lambda=1, n_estimators=350, colsample_bytree=0.75, subsample=1, learning_rate=0.1, gamma=0, total= 1.4min\n",
      "[CV] booster=gbtree, max_depth=5, reg_lambda=1, n_estimators=350, colsample_bytree=0.8, subsample=1, learning_rate=0.1, gamma=0 \n"
     ]
    },
    {
     "name": "stderr",
     "output_type": "stream",
     "text": [
      "/home/tony/MachineLearning/env/lib/python3.5/site-packages/sklearn/preprocessing/label.py:151: DeprecationWarning: The truth value of an empty array is ambiguous. Returning False, but in future this will result in an error. Use `array.size > 0` to check that an array is not empty.\n",
      "  if diff:\n",
      "/home/tony/MachineLearning/env/lib/python3.5/site-packages/sklearn/preprocessing/label.py:151: DeprecationWarning: The truth value of an empty array is ambiguous. Returning False, but in future this will result in an error. Use `array.size > 0` to check that an array is not empty.\n",
      "  if diff:\n"
     ]
    },
    {
     "name": "stdout",
     "output_type": "stream",
     "text": [
      "[CV]  booster=gbtree, max_depth=5, reg_lambda=1, n_estimators=350, colsample_bytree=0.75, subsample=1, learning_rate=0.1, gamma=0, total= 1.5min\n",
      "[CV] booster=gbtree, max_depth=5, reg_lambda=1, n_estimators=350, colsample_bytree=0.85, subsample=1, learning_rate=0.1, gamma=0 \n"
     ]
    },
    {
     "name": "stderr",
     "output_type": "stream",
     "text": [
      "/home/tony/MachineLearning/env/lib/python3.5/site-packages/sklearn/preprocessing/label.py:151: DeprecationWarning: The truth value of an empty array is ambiguous. Returning False, but in future this will result in an error. Use `array.size > 0` to check that an array is not empty.\n",
      "  if diff:\n",
      "/home/tony/MachineLearning/env/lib/python3.5/site-packages/sklearn/preprocessing/label.py:151: DeprecationWarning: The truth value of an empty array is ambiguous. Returning False, but in future this will result in an error. Use `array.size > 0` to check that an array is not empty.\n",
      "  if diff:\n"
     ]
    },
    {
     "name": "stdout",
     "output_type": "stream",
     "text": [
      "[CV]  booster=gbtree, max_depth=5, reg_lambda=1, n_estimators=350, colsample_bytree=0.8, subsample=1, learning_rate=0.1, gamma=0, total= 1.5min\n",
      "[CV] booster=gbtree, max_depth=5, reg_lambda=1, n_estimators=350, colsample_bytree=0.85, subsample=1, learning_rate=0.1, gamma=0 \n"
     ]
    },
    {
     "name": "stderr",
     "output_type": "stream",
     "text": [
      "/home/tony/MachineLearning/env/lib/python3.5/site-packages/sklearn/preprocessing/label.py:151: DeprecationWarning: The truth value of an empty array is ambiguous. Returning False, but in future this will result in an error. Use `array.size > 0` to check that an array is not empty.\n",
      "  if diff:\n",
      "/home/tony/MachineLearning/env/lib/python3.5/site-packages/sklearn/preprocessing/label.py:151: DeprecationWarning: The truth value of an empty array is ambiguous. Returning False, but in future this will result in an error. Use `array.size > 0` to check that an array is not empty.\n",
      "  if diff:\n"
     ]
    },
    {
     "name": "stdout",
     "output_type": "stream",
     "text": [
      "[CV]  booster=gbtree, max_depth=5, reg_lambda=1, n_estimators=350, colsample_bytree=0.8, subsample=1, learning_rate=0.1, gamma=0, total= 1.6min\n",
      "[CV] booster=gbtree, max_depth=5, reg_lambda=1, n_estimators=350, colsample_bytree=0.85, subsample=1, learning_rate=0.1, gamma=0 \n"
     ]
    },
    {
     "name": "stderr",
     "output_type": "stream",
     "text": [
      "/home/tony/MachineLearning/env/lib/python3.5/site-packages/sklearn/preprocessing/label.py:151: DeprecationWarning: The truth value of an empty array is ambiguous. Returning False, but in future this will result in an error. Use `array.size > 0` to check that an array is not empty.\n",
      "  if diff:\n",
      "/home/tony/MachineLearning/env/lib/python3.5/site-packages/sklearn/preprocessing/label.py:151: DeprecationWarning: The truth value of an empty array is ambiguous. Returning False, but in future this will result in an error. Use `array.size > 0` to check that an array is not empty.\n",
      "  if diff:\n"
     ]
    },
    {
     "name": "stdout",
     "output_type": "stream",
     "text": [
      "[CV]  booster=gbtree, max_depth=5, reg_lambda=1, n_estimators=350, colsample_bytree=0.8, subsample=1, learning_rate=0.1, gamma=0, total= 1.5min\n",
      "[CV] booster=gbtree, max_depth=5, reg_lambda=1, n_estimators=350, colsample_bytree=0.9, subsample=1, learning_rate=0.1, gamma=0 \n"
     ]
    },
    {
     "name": "stderr",
     "output_type": "stream",
     "text": [
      "/home/tony/MachineLearning/env/lib/python3.5/site-packages/sklearn/preprocessing/label.py:151: DeprecationWarning: The truth value of an empty array is ambiguous. Returning False, but in future this will result in an error. Use `array.size > 0` to check that an array is not empty.\n",
      "  if diff:\n",
      "/home/tony/MachineLearning/env/lib/python3.5/site-packages/sklearn/preprocessing/label.py:151: DeprecationWarning: The truth value of an empty array is ambiguous. Returning False, but in future this will result in an error. Use `array.size > 0` to check that an array is not empty.\n",
      "  if diff:\n"
     ]
    },
    {
     "name": "stdout",
     "output_type": "stream",
     "text": [
      "[CV]  booster=gbtree, max_depth=5, reg_lambda=1, n_estimators=350, colsample_bytree=0.85, subsample=1, learning_rate=0.1, gamma=0, total= 1.7min\n",
      "[CV] booster=gbtree, max_depth=5, reg_lambda=1, n_estimators=350, colsample_bytree=0.9, subsample=1, learning_rate=0.1, gamma=0 \n"
     ]
    },
    {
     "name": "stderr",
     "output_type": "stream",
     "text": [
      "/home/tony/MachineLearning/env/lib/python3.5/site-packages/sklearn/preprocessing/label.py:151: DeprecationWarning: The truth value of an empty array is ambiguous. Returning False, but in future this will result in an error. Use `array.size > 0` to check that an array is not empty.\n",
      "  if diff:\n",
      "/home/tony/MachineLearning/env/lib/python3.5/site-packages/sklearn/preprocessing/label.py:151: DeprecationWarning: The truth value of an empty array is ambiguous. Returning False, but in future this will result in an error. Use `array.size > 0` to check that an array is not empty.\n",
      "  if diff:\n"
     ]
    },
    {
     "name": "stdout",
     "output_type": "stream",
     "text": [
      "[CV]  booster=gbtree, max_depth=5, reg_lambda=1, n_estimators=350, colsample_bytree=0.85, subsample=1, learning_rate=0.1, gamma=0, total= 1.6min\n",
      "[CV] booster=gbtree, max_depth=5, reg_lambda=1, n_estimators=350, colsample_bytree=0.9, subsample=1, learning_rate=0.1, gamma=0 \n"
     ]
    },
    {
     "name": "stderr",
     "output_type": "stream",
     "text": [
      "/home/tony/MachineLearning/env/lib/python3.5/site-packages/sklearn/preprocessing/label.py:151: DeprecationWarning: The truth value of an empty array is ambiguous. Returning False, but in future this will result in an error. Use `array.size > 0` to check that an array is not empty.\n",
      "  if diff:\n",
      "/home/tony/MachineLearning/env/lib/python3.5/site-packages/sklearn/preprocessing/label.py:151: DeprecationWarning: The truth value of an empty array is ambiguous. Returning False, but in future this will result in an error. Use `array.size > 0` to check that an array is not empty.\n",
      "  if diff:\n"
     ]
    },
    {
     "name": "stdout",
     "output_type": "stream",
     "text": [
      "[CV]  booster=gbtree, max_depth=5, reg_lambda=1, n_estimators=350, colsample_bytree=0.85, subsample=1, learning_rate=0.1, gamma=0, total= 1.6min\n",
      "[CV] booster=gbtree, max_depth=5, reg_lambda=1, n_estimators=350, colsample_bytree=0.95, subsample=1, learning_rate=0.1, gamma=0 \n"
     ]
    },
    {
     "name": "stderr",
     "output_type": "stream",
     "text": [
      "/home/tony/MachineLearning/env/lib/python3.5/site-packages/sklearn/preprocessing/label.py:151: DeprecationWarning: The truth value of an empty array is ambiguous. Returning False, but in future this will result in an error. Use `array.size > 0` to check that an array is not empty.\n",
      "  if diff:\n",
      "/home/tony/MachineLearning/env/lib/python3.5/site-packages/sklearn/preprocessing/label.py:151: DeprecationWarning: The truth value of an empty array is ambiguous. Returning False, but in future this will result in an error. Use `array.size > 0` to check that an array is not empty.\n",
      "  if diff:\n"
     ]
    },
    {
     "name": "stdout",
     "output_type": "stream",
     "text": [
      "[CV]  booster=gbtree, max_depth=5, reg_lambda=1, n_estimators=350, colsample_bytree=0.9, subsample=1, learning_rate=0.1, gamma=0, total= 1.6min\n",
      "[CV] booster=gbtree, max_depth=5, reg_lambda=1, n_estimators=350, colsample_bytree=0.95, subsample=1, learning_rate=0.1, gamma=0 \n"
     ]
    },
    {
     "name": "stderr",
     "output_type": "stream",
     "text": [
      "/home/tony/MachineLearning/env/lib/python3.5/site-packages/sklearn/preprocessing/label.py:151: DeprecationWarning: The truth value of an empty array is ambiguous. Returning False, but in future this will result in an error. Use `array.size > 0` to check that an array is not empty.\n",
      "  if diff:\n",
      "/home/tony/MachineLearning/env/lib/python3.5/site-packages/sklearn/preprocessing/label.py:151: DeprecationWarning: The truth value of an empty array is ambiguous. Returning False, but in future this will result in an error. Use `array.size > 0` to check that an array is not empty.\n",
      "  if diff:\n"
     ]
    },
    {
     "name": "stdout",
     "output_type": "stream",
     "text": [
      "[CV]  booster=gbtree, max_depth=5, reg_lambda=1, n_estimators=350, colsample_bytree=0.9, subsample=1, learning_rate=0.1, gamma=0, total= 1.8min\n",
      "[CV] booster=gbtree, max_depth=5, reg_lambda=1, n_estimators=350, colsample_bytree=0.95, subsample=1, learning_rate=0.1, gamma=0 \n"
     ]
    },
    {
     "name": "stderr",
     "output_type": "stream",
     "text": [
      "/home/tony/MachineLearning/env/lib/python3.5/site-packages/sklearn/preprocessing/label.py:151: DeprecationWarning: The truth value of an empty array is ambiguous. Returning False, but in future this will result in an error. Use `array.size > 0` to check that an array is not empty.\n",
      "  if diff:\n",
      "/home/tony/MachineLearning/env/lib/python3.5/site-packages/sklearn/preprocessing/label.py:151: DeprecationWarning: The truth value of an empty array is ambiguous. Returning False, but in future this will result in an error. Use `array.size > 0` to check that an array is not empty.\n",
      "  if diff:\n"
     ]
    },
    {
     "name": "stdout",
     "output_type": "stream",
     "text": [
      "[CV]  booster=gbtree, max_depth=5, reg_lambda=1, n_estimators=350, colsample_bytree=0.9, subsample=1, learning_rate=0.1, gamma=0, total= 1.7min\n",
      "[CV] booster=gbtree, max_depth=5, reg_lambda=1, n_estimators=350, colsample_bytree=1.0, subsample=1, learning_rate=0.1, gamma=0 \n"
     ]
    },
    {
     "name": "stderr",
     "output_type": "stream",
     "text": [
      "/home/tony/MachineLearning/env/lib/python3.5/site-packages/sklearn/preprocessing/label.py:151: DeprecationWarning: The truth value of an empty array is ambiguous. Returning False, but in future this will result in an error. Use `array.size > 0` to check that an array is not empty.\n",
      "  if diff:\n",
      "/home/tony/MachineLearning/env/lib/python3.5/site-packages/sklearn/preprocessing/label.py:151: DeprecationWarning: The truth value of an empty array is ambiguous. Returning False, but in future this will result in an error. Use `array.size > 0` to check that an array is not empty.\n",
      "  if diff:\n"
     ]
    },
    {
     "name": "stdout",
     "output_type": "stream",
     "text": [
      "[CV]  booster=gbtree, max_depth=5, reg_lambda=1, n_estimators=350, colsample_bytree=0.95, subsample=1, learning_rate=0.1, gamma=0, total= 1.8min\n",
      "[CV] booster=gbtree, max_depth=5, reg_lambda=1, n_estimators=350, colsample_bytree=1.0, subsample=1, learning_rate=0.1, gamma=0 \n"
     ]
    },
    {
     "name": "stderr",
     "output_type": "stream",
     "text": [
      "/home/tony/MachineLearning/env/lib/python3.5/site-packages/sklearn/preprocessing/label.py:151: DeprecationWarning: The truth value of an empty array is ambiguous. Returning False, but in future this will result in an error. Use `array.size > 0` to check that an array is not empty.\n",
      "  if diff:\n",
      "/home/tony/MachineLearning/env/lib/python3.5/site-packages/sklearn/preprocessing/label.py:151: DeprecationWarning: The truth value of an empty array is ambiguous. Returning False, but in future this will result in an error. Use `array.size > 0` to check that an array is not empty.\n",
      "  if diff:\n"
     ]
    },
    {
     "name": "stdout",
     "output_type": "stream",
     "text": [
      "[CV]  booster=gbtree, max_depth=5, reg_lambda=1, n_estimators=350, colsample_bytree=0.95, subsample=1, learning_rate=0.1, gamma=0, total= 1.7min\n",
      "[CV] booster=gbtree, max_depth=5, reg_lambda=1, n_estimators=350, colsample_bytree=1.0, subsample=1, learning_rate=0.1, gamma=0 \n"
     ]
    },
    {
     "name": "stderr",
     "output_type": "stream",
     "text": [
      "/home/tony/MachineLearning/env/lib/python3.5/site-packages/sklearn/preprocessing/label.py:151: DeprecationWarning: The truth value of an empty array is ambiguous. Returning False, but in future this will result in an error. Use `array.size > 0` to check that an array is not empty.\n",
      "  if diff:\n",
      "/home/tony/MachineLearning/env/lib/python3.5/site-packages/sklearn/preprocessing/label.py:151: DeprecationWarning: The truth value of an empty array is ambiguous. Returning False, but in future this will result in an error. Use `array.size > 0` to check that an array is not empty.\n",
      "  if diff:\n"
     ]
    },
    {
     "name": "stdout",
     "output_type": "stream",
     "text": [
      "[CV]  booster=gbtree, max_depth=5, reg_lambda=1, n_estimators=350, colsample_bytree=0.95, subsample=1, learning_rate=0.1, gamma=0, total= 1.8min\n"
     ]
    },
    {
     "name": "stderr",
     "output_type": "stream",
     "text": [
      "/home/tony/MachineLearning/env/lib/python3.5/site-packages/sklearn/preprocessing/label.py:151: DeprecationWarning: The truth value of an empty array is ambiguous. Returning False, but in future this will result in an error. Use `array.size > 0` to check that an array is not empty.\n",
      "  if diff:\n",
      "/home/tony/MachineLearning/env/lib/python3.5/site-packages/sklearn/preprocessing/label.py:151: DeprecationWarning: The truth value of an empty array is ambiguous. Returning False, but in future this will result in an error. Use `array.size > 0` to check that an array is not empty.\n",
      "  if diff:\n"
     ]
    },
    {
     "name": "stdout",
     "output_type": "stream",
     "text": [
      "[CV]  booster=gbtree, max_depth=5, reg_lambda=1, n_estimators=350, colsample_bytree=1.0, subsample=1, learning_rate=0.1, gamma=0, total= 1.9min\n"
     ]
    },
    {
     "name": "stderr",
     "output_type": "stream",
     "text": [
      "/home/tony/MachineLearning/env/lib/python3.5/site-packages/sklearn/preprocessing/label.py:151: DeprecationWarning: The truth value of an empty array is ambiguous. Returning False, but in future this will result in an error. Use `array.size > 0` to check that an array is not empty.\n",
      "  if diff:\n",
      "/home/tony/MachineLearning/env/lib/python3.5/site-packages/sklearn/preprocessing/label.py:151: DeprecationWarning: The truth value of an empty array is ambiguous. Returning False, but in future this will result in an error. Use `array.size > 0` to check that an array is not empty.\n",
      "  if diff:\n"
     ]
    },
    {
     "name": "stdout",
     "output_type": "stream",
     "text": [
      "[CV]  booster=gbtree, max_depth=5, reg_lambda=1, n_estimators=350, colsample_bytree=1.0, subsample=1, learning_rate=0.1, gamma=0, total= 1.9min\n"
     ]
    },
    {
     "name": "stderr",
     "output_type": "stream",
     "text": [
      "/home/tony/MachineLearning/env/lib/python3.5/site-packages/sklearn/preprocessing/label.py:151: DeprecationWarning: The truth value of an empty array is ambiguous. Returning False, but in future this will result in an error. Use `array.size > 0` to check that an array is not empty.\n",
      "  if diff:\n",
      "/home/tony/MachineLearning/env/lib/python3.5/site-packages/sklearn/preprocessing/label.py:151: DeprecationWarning: The truth value of an empty array is ambiguous. Returning False, but in future this will result in an error. Use `array.size > 0` to check that an array is not empty.\n",
      "  if diff:\n"
     ]
    },
    {
     "name": "stdout",
     "output_type": "stream",
     "text": [
      "[CV]  booster=gbtree, max_depth=5, reg_lambda=1, n_estimators=350, colsample_bytree=1.0, subsample=1, learning_rate=0.1, gamma=0, total= 1.7min\n"
     ]
    },
    {
     "name": "stderr",
     "output_type": "stream",
     "text": [
      "[Parallel(n_jobs=4)]: Done  21 out of  21 | elapsed:  9.6min finished\n"
     ]
    },
    {
     "name": "stdout",
     "output_type": "stream",
     "text": [
      "Cross-validation Training Time =  713.4897327423096\n",
      "\n",
      "Grid scores:\n",
      "\n",
      "0.840 (+/-0.004) for {'subsample': 1, 'max_depth': 5, 'reg_lambda': 1, 'gamma': 0, 'colsample_bytree': 0.7, 'booster': 'gbtree', 'learning_rate': 0.1, 'n_estimators': 350}\n",
      "0.839 (+/-0.008) for {'subsample': 1, 'max_depth': 5, 'reg_lambda': 1, 'gamma': 0, 'colsample_bytree': 0.75, 'booster': 'gbtree', 'learning_rate': 0.1, 'n_estimators': 350}\n",
      "0.839 (+/-0.004) for {'subsample': 1, 'max_depth': 5, 'reg_lambda': 1, 'gamma': 0, 'colsample_bytree': 0.8, 'booster': 'gbtree', 'learning_rate': 0.1, 'n_estimators': 350}\n",
      "0.842 (+/-0.005) for {'subsample': 1, 'max_depth': 5, 'reg_lambda': 1, 'gamma': 0, 'colsample_bytree': 0.85, 'booster': 'gbtree', 'learning_rate': 0.1, 'n_estimators': 350}\n",
      "0.839 (+/-0.005) for {'subsample': 1, 'max_depth': 5, 'reg_lambda': 1, 'gamma': 0, 'colsample_bytree': 0.9, 'booster': 'gbtree', 'learning_rate': 0.1, 'n_estimators': 350}\n",
      "0.840 (+/-0.006) for {'subsample': 1, 'max_depth': 5, 'reg_lambda': 1, 'gamma': 0, 'colsample_bytree': 0.95, 'booster': 'gbtree', 'learning_rate': 0.1, 'n_estimators': 350}\n",
      "0.840 (+/-0.005) for {'subsample': 1, 'max_depth': 5, 'reg_lambda': 1, 'gamma': 0, 'colsample_bytree': 1.0, 'booster': 'gbtree', 'learning_rate': 0.1, 'n_estimators': 350}\n",
      "\n",
      "Best parameter set:\n",
      "{'subsample': 1, 'max_depth': 5, 'reg_lambda': 1, 'gamma': 0, 'colsample_bytree': 0.85, 'booster': 'gbtree', 'learning_rate': 0.1, 'n_estimators': 350}\n",
      "\n"
     ]
    }
   ],
   "source": [
    "K_folds = 3\n",
    "params = [{'max_depth': [5], 'learning_rate': [.1], 'n_estimators':[350], 'gamma':[0], 'subsample':[1], 'colsample_bytree':[.7,.75,.8,.85,.9,.95,1.0], 'reg_lambda':[1]}]\n",
    "crossvalidate_XGBoost(X_train, y_train, params, K_folds)"
   ]
  },
  {
   "cell_type": "markdown",
   "metadata": {},
   "source": [
    "Find colsample_bytree = .85 works best.  \n",
    "\n",
    "Now try subsample."
   ]
  },
  {
   "cell_type": "code",
   "execution_count": 8,
   "metadata": {
    "scrolled": true
   },
   "outputs": [
    {
     "name": "stdout",
     "output_type": "stream",
     "text": [
      "Fitting 3 folds for each of 7 candidates, totalling 21 fits\n",
      "[CV] booster=gbtree, max_depth=5, reg_lambda=1, n_estimators=350, colsample_bytree=0.85, subsample=0.7, learning_rate=0.1, gamma=0 \n",
      "[CV] booster=gbtree, max_depth=5, reg_lambda=1, n_estimators=350, colsample_bytree=0.85, subsample=0.7, learning_rate=0.1, gamma=0 \n",
      "[CV] booster=gbtree, max_depth=5, reg_lambda=1, n_estimators=350, colsample_bytree=0.85, subsample=0.7, learning_rate=0.1, gamma=0 \n",
      "[CV] booster=gbtree, max_depth=5, reg_lambda=1, n_estimators=350, colsample_bytree=0.85, subsample=0.75, learning_rate=0.1, gamma=0 \n",
      "[CV]  booster=gbtree, max_depth=5, reg_lambda=1, n_estimators=350, colsample_bytree=0.85, subsample=0.75, learning_rate=0.1, gamma=0, total= 1.9min\n",
      "[CV] booster=gbtree, max_depth=5, reg_lambda=1, n_estimators=350, colsample_bytree=0.85, subsample=0.75, learning_rate=0.1, gamma=0 \n",
      "[CV]  booster=gbtree, max_depth=5, reg_lambda=1, n_estimators=350, colsample_bytree=0.85, subsample=0.7, learning_rate=0.1, gamma=0, total= 1.9min\n",
      "[CV] booster=gbtree, max_depth=5, reg_lambda=1, n_estimators=350, colsample_bytree=0.85, subsample=0.75, learning_rate=0.1, gamma=0 \n",
      "[CV]  booster=gbtree, max_depth=5, reg_lambda=1, n_estimators=350, colsample_bytree=0.85, subsample=0.7, learning_rate=0.1, gamma=0, total= 2.0min\n",
      "[CV] booster=gbtree, max_depth=5, reg_lambda=1, n_estimators=350, colsample_bytree=0.85, subsample=0.8, learning_rate=0.1, gamma=0 \n",
      "[CV]  booster=gbtree, max_depth=5, reg_lambda=1, n_estimators=350, colsample_bytree=0.85, subsample=0.7, learning_rate=0.1, gamma=0, total= 2.0min\n",
      "[CV] booster=gbtree, max_depth=5, reg_lambda=1, n_estimators=350, colsample_bytree=0.85, subsample=0.8, learning_rate=0.1, gamma=0 \n",
      "[CV]  booster=gbtree, max_depth=5, reg_lambda=1, n_estimators=350, colsample_bytree=0.85, subsample=0.75, learning_rate=0.1, gamma=0, total= 1.9min\n",
      "[CV] booster=gbtree, max_depth=5, reg_lambda=1, n_estimators=350, colsample_bytree=0.85, subsample=0.8, learning_rate=0.1, gamma=0 \n",
      "[CV]  booster=gbtree, max_depth=5, reg_lambda=1, n_estimators=350, colsample_bytree=0.85, subsample=0.8, learning_rate=0.1, gamma=0, total= 1.8min\n",
      "[CV] booster=gbtree, max_depth=5, reg_lambda=1, n_estimators=350, colsample_bytree=0.85, subsample=0.85, learning_rate=0.1, gamma=0 \n",
      "[CV]  booster=gbtree, max_depth=5, reg_lambda=1, n_estimators=350, colsample_bytree=0.85, subsample=0.75, learning_rate=0.1, gamma=0, total= 1.9min\n",
      "[CV] booster=gbtree, max_depth=5, reg_lambda=1, n_estimators=350, colsample_bytree=0.85, subsample=0.85, learning_rate=0.1, gamma=0 \n",
      "[CV]  booster=gbtree, max_depth=5, reg_lambda=1, n_estimators=350, colsample_bytree=0.85, subsample=0.8, learning_rate=0.1, gamma=0, total= 1.9min\n",
      "[CV] booster=gbtree, max_depth=5, reg_lambda=1, n_estimators=350, colsample_bytree=0.85, subsample=0.85, learning_rate=0.1, gamma=0 \n",
      "[CV]  booster=gbtree, max_depth=5, reg_lambda=1, n_estimators=350, colsample_bytree=0.85, subsample=0.85, learning_rate=0.1, gamma=0, total= 1.8min\n",
      "[CV] booster=gbtree, max_depth=5, reg_lambda=1, n_estimators=350, colsample_bytree=0.85, subsample=0.9, learning_rate=0.1, gamma=0 \n",
      "[CV]  booster=gbtree, max_depth=5, reg_lambda=1, n_estimators=350, colsample_bytree=0.85, subsample=0.8, learning_rate=0.1, gamma=0, total= 1.9min\n",
      "[CV] booster=gbtree, max_depth=5, reg_lambda=1, n_estimators=350, colsample_bytree=0.85, subsample=0.9, learning_rate=0.1, gamma=0 \n",
      "[CV]  booster=gbtree, max_depth=5, reg_lambda=1, n_estimators=350, colsample_bytree=0.85, subsample=0.85, learning_rate=0.1, gamma=0, total= 1.9min\n",
      "[CV] booster=gbtree, max_depth=5, reg_lambda=1, n_estimators=350, colsample_bytree=0.85, subsample=0.9, learning_rate=0.1, gamma=0 \n",
      "[CV]  booster=gbtree, max_depth=5, reg_lambda=1, n_estimators=350, colsample_bytree=0.85, subsample=0.85, learning_rate=0.1, gamma=0, total= 1.8min\n",
      "[CV] booster=gbtree, max_depth=5, reg_lambda=1, n_estimators=350, colsample_bytree=0.85, subsample=0.95, learning_rate=0.1, gamma=0 \n",
      "[CV]  booster=gbtree, max_depth=5, reg_lambda=1, n_estimators=350, colsample_bytree=0.85, subsample=0.9, learning_rate=0.1, gamma=0, total= 1.7min\n",
      "[CV] booster=gbtree, max_depth=5, reg_lambda=1, n_estimators=350, colsample_bytree=0.85, subsample=0.95, learning_rate=0.1, gamma=0 \n",
      "[CV]  booster=gbtree, max_depth=5, reg_lambda=1, n_estimators=350, colsample_bytree=0.85, subsample=0.95, learning_rate=0.1, gamma=0, total= 1.7min\n",
      "[CV] booster=gbtree, max_depth=5, reg_lambda=1, n_estimators=350, colsample_bytree=0.85, subsample=0.95, learning_rate=0.1, gamma=0 \n",
      "[CV]  booster=gbtree, max_depth=5, reg_lambda=1, n_estimators=350, colsample_bytree=0.85, subsample=0.9, learning_rate=0.1, gamma=0, total= 1.8min\n",
      "[CV] booster=gbtree, max_depth=5, reg_lambda=1, n_estimators=350, colsample_bytree=0.85, subsample=1.0, learning_rate=0.1, gamma=0 \n",
      "[CV]  booster=gbtree, max_depth=5, reg_lambda=1, n_estimators=350, colsample_bytree=0.85, subsample=0.9, learning_rate=0.1, gamma=0, total= 1.7min\n",
      "[CV] booster=gbtree, max_depth=5, reg_lambda=1, n_estimators=350, colsample_bytree=0.85, subsample=1.0, learning_rate=0.1, gamma=0 \n",
      "[CV]  booster=gbtree, max_depth=5, reg_lambda=1, n_estimators=350, colsample_bytree=0.85, subsample=0.95, learning_rate=0.1, gamma=0, total= 1.7min\n",
      "[CV] booster=gbtree, max_depth=5, reg_lambda=1, n_estimators=350, colsample_bytree=0.85, subsample=1.0, learning_rate=0.1, gamma=0 \n",
      "[CV]  booster=gbtree, max_depth=5, reg_lambda=1, n_estimators=350, colsample_bytree=0.85, subsample=1.0, learning_rate=0.1, gamma=0, total= 1.6min\n",
      "[CV]  booster=gbtree, max_depth=5, reg_lambda=1, n_estimators=350, colsample_bytree=0.85, subsample=1.0, learning_rate=0.1, gamma=0, total= 1.6min\n",
      "[CV]  booster=gbtree, max_depth=5, reg_lambda=1, n_estimators=350, colsample_bytree=0.85, subsample=0.95, learning_rate=0.1, gamma=0, total= 1.7min\n",
      "[CV]  booster=gbtree, max_depth=5, reg_lambda=1, n_estimators=350, colsample_bytree=0.85, subsample=1.0, learning_rate=0.1, gamma=0, total= 1.5min\n"
     ]
    },
    {
     "name": "stderr",
     "output_type": "stream",
     "text": [
      "[Parallel(n_jobs=4)]: Done  21 out of  21 | elapsed: 10.6min finished\n"
     ]
    },
    {
     "name": "stdout",
     "output_type": "stream",
     "text": [
      "Cross-validation Training Time =  784.4040081501007\n",
      "\n",
      "Grid scores:\n",
      "\n",
      "0.842 (+/-0.011) for {'subsample': 0.7, 'max_depth': 5, 'reg_lambda': 1, 'gamma': 0, 'colsample_bytree': 0.85, 'booster': 'gbtree', 'learning_rate': 0.1, 'n_estimators': 350}\n",
      "0.842 (+/-0.009) for {'subsample': 0.75, 'max_depth': 5, 'reg_lambda': 1, 'gamma': 0, 'colsample_bytree': 0.85, 'booster': 'gbtree', 'learning_rate': 0.1, 'n_estimators': 350}\n",
      "0.842 (+/-0.010) for {'subsample': 0.8, 'max_depth': 5, 'reg_lambda': 1, 'gamma': 0, 'colsample_bytree': 0.85, 'booster': 'gbtree', 'learning_rate': 0.1, 'n_estimators': 350}\n",
      "0.841 (+/-0.009) for {'subsample': 0.85, 'max_depth': 5, 'reg_lambda': 1, 'gamma': 0, 'colsample_bytree': 0.85, 'booster': 'gbtree', 'learning_rate': 0.1, 'n_estimators': 350}\n",
      "0.843 (+/-0.007) for {'subsample': 0.9, 'max_depth': 5, 'reg_lambda': 1, 'gamma': 0, 'colsample_bytree': 0.85, 'booster': 'gbtree', 'learning_rate': 0.1, 'n_estimators': 350}\n",
      "0.840 (+/-0.007) for {'subsample': 0.95, 'max_depth': 5, 'reg_lambda': 1, 'gamma': 0, 'colsample_bytree': 0.85, 'booster': 'gbtree', 'learning_rate': 0.1, 'n_estimators': 350}\n",
      "0.842 (+/-0.005) for {'subsample': 1.0, 'max_depth': 5, 'reg_lambda': 1, 'gamma': 0, 'colsample_bytree': 0.85, 'booster': 'gbtree', 'learning_rate': 0.1, 'n_estimators': 350}\n",
      "\n",
      "Best parameter set:\n",
      "{'subsample': 0.9, 'max_depth': 5, 'reg_lambda': 1, 'gamma': 0, 'colsample_bytree': 0.85, 'booster': 'gbtree', 'learning_rate': 0.1, 'n_estimators': 350}\n",
      "\n"
     ]
    }
   ],
   "source": [
    "K_folds = 3\n",
    "params = [{'max_depth': [5], 'learning_rate': [.1], 'n_estimators':[350], 'gamma':[0], 'subsample':[.7,.75,.8,.85,.9,.95,1.0], 'colsample_bytree':[.85], 'reg_lambda':[1]}]\n",
    "crossvalidate_XGBoost(X_train, y_train, params, K_folds)"
   ]
  },
  {
   "cell_type": "markdown",
   "metadata": {},
   "source": [
    "Find subsample = .9\n",
    "\n",
    "Now try gamma."
   ]
  },
  {
   "cell_type": "code",
   "execution_count": 9,
   "metadata": {
    "scrolled": true
   },
   "outputs": [
    {
     "name": "stdout",
     "output_type": "stream",
     "text": [
      "Fitting 3 folds for each of 8 candidates, totalling 24 fits\n",
      "[CV] booster=gbtree, max_depth=5, reg_lambda=1, n_estimators=350, colsample_bytree=0.85, subsample=0.9, learning_rate=0.1, gamma=0 \n",
      "[CV] booster=gbtree, max_depth=5, reg_lambda=1, n_estimators=350, colsample_bytree=0.85, subsample=0.9, learning_rate=0.1, gamma=0 \n",
      "[CV] booster=gbtree, max_depth=5, reg_lambda=1, n_estimators=350, colsample_bytree=0.85, subsample=0.9, learning_rate=0.1, gamma=0 \n",
      "[CV] booster=gbtree, max_depth=5, reg_lambda=1, n_estimators=350, colsample_bytree=0.85, subsample=0.9, learning_rate=0.1, gamma=0.2 \n",
      "[CV]  booster=gbtree, max_depth=5, reg_lambda=1, n_estimators=350, colsample_bytree=0.85, subsample=0.9, learning_rate=0.1, gamma=0, total= 1.7min\n",
      "[CV] booster=gbtree, max_depth=5, reg_lambda=1, n_estimators=350, colsample_bytree=0.85, subsample=0.9, learning_rate=0.1, gamma=0.2 \n",
      "[CV]  booster=gbtree, max_depth=5, reg_lambda=1, n_estimators=350, colsample_bytree=0.85, subsample=0.9, learning_rate=0.1, gamma=0.2, total= 1.7min\n",
      "[CV] booster=gbtree, max_depth=5, reg_lambda=1, n_estimators=350, colsample_bytree=0.85, subsample=0.9, learning_rate=0.1, gamma=0.2 \n",
      "[CV]  booster=gbtree, max_depth=5, reg_lambda=1, n_estimators=350, colsample_bytree=0.85, subsample=0.9, learning_rate=0.1, gamma=0, total= 1.8min\n",
      "[CV] booster=gbtree, max_depth=5, reg_lambda=1, n_estimators=350, colsample_bytree=0.85, subsample=0.9, learning_rate=0.1, gamma=0.4 \n",
      "[CV]  booster=gbtree, max_depth=5, reg_lambda=1, n_estimators=350, colsample_bytree=0.85, subsample=0.9, learning_rate=0.1, gamma=0, total= 1.8min\n",
      "[CV] booster=gbtree, max_depth=5, reg_lambda=1, n_estimators=350, colsample_bytree=0.85, subsample=0.9, learning_rate=0.1, gamma=0.4 \n",
      "[CV]  booster=gbtree, max_depth=5, reg_lambda=1, n_estimators=350, colsample_bytree=0.85, subsample=0.9, learning_rate=0.1, gamma=0.4, total= 1.7min\n",
      "[CV] booster=gbtree, max_depth=5, reg_lambda=1, n_estimators=350, colsample_bytree=0.85, subsample=0.9, learning_rate=0.1, gamma=0.4 \n",
      "[CV]  booster=gbtree, max_depth=5, reg_lambda=1, n_estimators=350, colsample_bytree=0.85, subsample=0.9, learning_rate=0.1, gamma=0.2, total= 1.8min\n",
      "[CV] booster=gbtree, max_depth=5, reg_lambda=1, n_estimators=350, colsample_bytree=0.85, subsample=0.9, learning_rate=0.1, gamma=0.6 \n",
      "[CV]  booster=gbtree, max_depth=5, reg_lambda=1, n_estimators=350, colsample_bytree=0.85, subsample=0.9, learning_rate=0.1, gamma=0.4, total= 1.8min\n",
      "[CV] booster=gbtree, max_depth=5, reg_lambda=1, n_estimators=350, colsample_bytree=0.85, subsample=0.9, learning_rate=0.1, gamma=0.6 \n",
      "[CV]  booster=gbtree, max_depth=5, reg_lambda=1, n_estimators=350, colsample_bytree=0.85, subsample=0.9, learning_rate=0.1, gamma=0.2, total= 1.9min\n",
      "[CV] booster=gbtree, max_depth=5, reg_lambda=1, n_estimators=350, colsample_bytree=0.85, subsample=0.9, learning_rate=0.1, gamma=0.6 \n",
      "[CV]  booster=gbtree, max_depth=5, reg_lambda=1, n_estimators=350, colsample_bytree=0.85, subsample=0.9, learning_rate=0.1, gamma=0.6, total= 1.8min\n",
      "[CV] booster=gbtree, max_depth=5, reg_lambda=1, n_estimators=350, colsample_bytree=0.85, subsample=0.9, learning_rate=0.1, gamma=0.8 \n",
      "[CV]  booster=gbtree, max_depth=5, reg_lambda=1, n_estimators=350, colsample_bytree=0.85, subsample=0.9, learning_rate=0.1, gamma=0.4, total= 1.8min\n",
      "[CV] booster=gbtree, max_depth=5, reg_lambda=1, n_estimators=350, colsample_bytree=0.85, subsample=0.9, learning_rate=0.1, gamma=0.8 \n",
      "[CV]  booster=gbtree, max_depth=5, reg_lambda=1, n_estimators=350, colsample_bytree=0.85, subsample=0.9, learning_rate=0.1, gamma=0.6, total= 1.8min\n",
      "[CV] booster=gbtree, max_depth=5, reg_lambda=1, n_estimators=350, colsample_bytree=0.85, subsample=0.9, learning_rate=0.1, gamma=0.8 \n",
      "[CV]  booster=gbtree, max_depth=5, reg_lambda=1, n_estimators=350, colsample_bytree=0.85, subsample=0.9, learning_rate=0.1, gamma=0.6, total= 1.8min\n",
      "[CV] booster=gbtree, max_depth=5, reg_lambda=1, n_estimators=350, colsample_bytree=0.85, subsample=0.9, learning_rate=0.1, gamma=1.0 \n",
      "[CV]  booster=gbtree, max_depth=5, reg_lambda=1, n_estimators=350, colsample_bytree=0.85, subsample=0.9, learning_rate=0.1, gamma=0.8, total= 1.7min\n",
      "[CV] booster=gbtree, max_depth=5, reg_lambda=1, n_estimators=350, colsample_bytree=0.85, subsample=0.9, learning_rate=0.1, gamma=1.0 \n",
      "[CV]  booster=gbtree, max_depth=5, reg_lambda=1, n_estimators=350, colsample_bytree=0.85, subsample=0.9, learning_rate=0.1, gamma=0.8, total= 1.8min\n",
      "[CV] booster=gbtree, max_depth=5, reg_lambda=1, n_estimators=350, colsample_bytree=0.85, subsample=0.9, learning_rate=0.1, gamma=1.0 \n",
      "[CV]  booster=gbtree, max_depth=5, reg_lambda=1, n_estimators=350, colsample_bytree=0.85, subsample=0.9, learning_rate=0.1, gamma=0.8, total= 1.8min\n",
      "[CV] booster=gbtree, max_depth=5, reg_lambda=1, n_estimators=350, colsample_bytree=0.85, subsample=0.9, learning_rate=0.1, gamma=1.2 \n",
      "[CV]  booster=gbtree, max_depth=5, reg_lambda=1, n_estimators=350, colsample_bytree=0.85, subsample=0.9, learning_rate=0.1, gamma=1.0, total= 1.8min\n",
      "[CV] booster=gbtree, max_depth=5, reg_lambda=1, n_estimators=350, colsample_bytree=0.85, subsample=0.9, learning_rate=0.1, gamma=1.2 \n",
      "[CV]  booster=gbtree, max_depth=5, reg_lambda=1, n_estimators=350, colsample_bytree=0.85, subsample=0.9, learning_rate=0.1, gamma=1.0, total= 1.7min\n",
      "[CV] booster=gbtree, max_depth=5, reg_lambda=1, n_estimators=350, colsample_bytree=0.85, subsample=0.9, learning_rate=0.1, gamma=1.2 \n",
      "[CV]  booster=gbtree, max_depth=5, reg_lambda=1, n_estimators=350, colsample_bytree=0.85, subsample=0.9, learning_rate=0.1, gamma=1.0, total= 1.7min\n",
      "[CV] booster=gbtree, max_depth=5, reg_lambda=1, n_estimators=350, colsample_bytree=0.85, subsample=0.9, learning_rate=0.1, gamma=1.4 \n",
      "[CV]  booster=gbtree, max_depth=5, reg_lambda=1, n_estimators=350, colsample_bytree=0.85, subsample=0.9, learning_rate=0.1, gamma=1.2, total= 1.7min\n",
      "[CV] booster=gbtree, max_depth=5, reg_lambda=1, n_estimators=350, colsample_bytree=0.85, subsample=0.9, learning_rate=0.1, gamma=1.4 \n",
      "[CV]  booster=gbtree, max_depth=5, reg_lambda=1, n_estimators=350, colsample_bytree=0.85, subsample=0.9, learning_rate=0.1, gamma=1.2, total= 1.8min\n",
      "[CV] booster=gbtree, max_depth=5, reg_lambda=1, n_estimators=350, colsample_bytree=0.85, subsample=0.9, learning_rate=0.1, gamma=1.4 \n",
      "[CV]  booster=gbtree, max_depth=5, reg_lambda=1, n_estimators=350, colsample_bytree=0.85, subsample=0.9, learning_rate=0.1, gamma=1.2, total= 1.7min\n",
      "[CV]  booster=gbtree, max_depth=5, reg_lambda=1, n_estimators=350, colsample_bytree=0.85, subsample=0.9, learning_rate=0.1, gamma=1.4, total= 1.7min\n",
      "[CV]  booster=gbtree, max_depth=5, reg_lambda=1, n_estimators=350, colsample_bytree=0.85, subsample=0.9, learning_rate=0.1, gamma=1.4, total= 1.7min\n",
      "[CV]  booster=gbtree, max_depth=5, reg_lambda=1, n_estimators=350, colsample_bytree=0.85, subsample=0.9, learning_rate=0.1, gamma=1.4, total= 1.8min\n"
     ]
    },
    {
     "name": "stderr",
     "output_type": "stream",
     "text": [
      "[Parallel(n_jobs=4)]: Done  24 out of  24 | elapsed: 10.7min finished\n"
     ]
    },
    {
     "name": "stdout",
     "output_type": "stream",
     "text": [
      "Cross-validation Training Time =  795.1574280261993\n",
      "\n",
      "Grid scores:\n",
      "\n",
      "0.843 (+/-0.007) for {'subsample': 0.9, 'max_depth': 5, 'reg_lambda': 1, 'gamma': 0, 'colsample_bytree': 0.85, 'booster': 'gbtree', 'learning_rate': 0.1, 'n_estimators': 350}\n",
      "0.842 (+/-0.005) for {'subsample': 0.9, 'max_depth': 5, 'reg_lambda': 1, 'gamma': 0.2, 'colsample_bytree': 0.85, 'booster': 'gbtree', 'learning_rate': 0.1, 'n_estimators': 350}\n",
      "0.842 (+/-0.004) for {'subsample': 0.9, 'max_depth': 5, 'reg_lambda': 1, 'gamma': 0.4, 'colsample_bytree': 0.85, 'booster': 'gbtree', 'learning_rate': 0.1, 'n_estimators': 350}\n",
      "0.841 (+/-0.008) for {'subsample': 0.9, 'max_depth': 5, 'reg_lambda': 1, 'gamma': 0.6, 'colsample_bytree': 0.85, 'booster': 'gbtree', 'learning_rate': 0.1, 'n_estimators': 350}\n",
      "0.842 (+/-0.005) for {'subsample': 0.9, 'max_depth': 5, 'reg_lambda': 1, 'gamma': 0.8, 'colsample_bytree': 0.85, 'booster': 'gbtree', 'learning_rate': 0.1, 'n_estimators': 350}\n",
      "0.842 (+/-0.008) for {'subsample': 0.9, 'max_depth': 5, 'reg_lambda': 1, 'gamma': 1.0, 'colsample_bytree': 0.85, 'booster': 'gbtree', 'learning_rate': 0.1, 'n_estimators': 350}\n",
      "0.842 (+/-0.008) for {'subsample': 0.9, 'max_depth': 5, 'reg_lambda': 1, 'gamma': 1.2, 'colsample_bytree': 0.85, 'booster': 'gbtree', 'learning_rate': 0.1, 'n_estimators': 350}\n",
      "0.841 (+/-0.005) for {'subsample': 0.9, 'max_depth': 5, 'reg_lambda': 1, 'gamma': 1.4, 'colsample_bytree': 0.85, 'booster': 'gbtree', 'learning_rate': 0.1, 'n_estimators': 350}\n",
      "\n",
      "Best parameter set:\n",
      "{'subsample': 0.9, 'max_depth': 5, 'reg_lambda': 1, 'gamma': 0, 'colsample_bytree': 0.85, 'booster': 'gbtree', 'learning_rate': 0.1, 'n_estimators': 350}\n",
      "\n"
     ]
    }
   ],
   "source": [
    "K_folds = 3\n",
    "params = [{'max_depth': [5], 'learning_rate': [.1], 'n_estimators':[350], 'gamma':[0,.2,.4,.6,.8,1.0,1.2,1.4], 'subsample':[.9], 'colsample_bytree':[.85], 'reg_lambda':[1]}]\n",
    "crossvalidate_XGBoost(X_train, y_train, params, K_folds)"
   ]
  },
  {
   "cell_type": "markdown",
   "metadata": {},
   "source": [
    "Find gamma = 0"
   ]
  },
  {
   "cell_type": "markdown",
   "metadata": {},
   "source": [
    "Now return to tuning of max_depth and min_child_weight. These are the most important parameters, so they will be evaluated together."
   ]
  },
  {
   "cell_type": "code",
   "execution_count": 11,
   "metadata": {},
   "outputs": [
    {
     "name": "stdout",
     "output_type": "stream",
     "text": [
      "Fitting 3 folds for each of 16 candidates, totalling 48 fits\n",
      "[CV] max_depth=4, reg_lambda=1, n_estimators=350, colsample_bytree=0.85, subsample=0.9, min_child_weight=1, learning_rate=0.1, gamma=0 \n",
      "[CV] max_depth=4, reg_lambda=1, n_estimators=350, colsample_bytree=0.85, subsample=0.9, min_child_weight=1, learning_rate=0.1, gamma=0 \n",
      "[CV] max_depth=4, reg_lambda=1, n_estimators=350, colsample_bytree=0.85, subsample=0.9, min_child_weight=1, learning_rate=0.1, gamma=0 \n",
      "[CV] max_depth=4, reg_lambda=1, n_estimators=350, colsample_bytree=0.85, subsample=0.9, min_child_weight=3, learning_rate=0.1, gamma=0 \n",
      "[CV]  max_depth=4, reg_lambda=1, n_estimators=350, colsample_bytree=0.85, subsample=0.9, min_child_weight=1, learning_rate=0.1, gamma=0, total= 1.4min\n",
      "[CV] max_depth=4, reg_lambda=1, n_estimators=350, colsample_bytree=0.85, subsample=0.9, min_child_weight=3, learning_rate=0.1, gamma=0 \n",
      "[CV]  max_depth=4, reg_lambda=1, n_estimators=350, colsample_bytree=0.85, subsample=0.9, min_child_weight=1, learning_rate=0.1, gamma=0, total= 1.4min\n",
      "[CV] max_depth=4, reg_lambda=1, n_estimators=350, colsample_bytree=0.85, subsample=0.9, min_child_weight=3, learning_rate=0.1, gamma=0 \n",
      "[CV]  max_depth=4, reg_lambda=1, n_estimators=350, colsample_bytree=0.85, subsample=0.9, min_child_weight=1, learning_rate=0.1, gamma=0, total= 1.4min\n",
      "[CV] max_depth=4, reg_lambda=1, n_estimators=350, colsample_bytree=0.85, subsample=0.9, min_child_weight=5, learning_rate=0.1, gamma=0 \n",
      "[CV]  max_depth=4, reg_lambda=1, n_estimators=350, colsample_bytree=0.85, subsample=0.9, min_child_weight=3, learning_rate=0.1, gamma=0, total= 1.4min\n",
      "[CV] max_depth=4, reg_lambda=1, n_estimators=350, colsample_bytree=0.85, subsample=0.9, min_child_weight=5, learning_rate=0.1, gamma=0 \n",
      "[CV]  max_depth=4, reg_lambda=1, n_estimators=350, colsample_bytree=0.85, subsample=0.9, min_child_weight=3, learning_rate=0.1, gamma=0, total= 1.5min\n",
      "[CV] max_depth=4, reg_lambda=1, n_estimators=350, colsample_bytree=0.85, subsample=0.9, min_child_weight=5, learning_rate=0.1, gamma=0 \n",
      "[CV]  max_depth=4, reg_lambda=1, n_estimators=350, colsample_bytree=0.85, subsample=0.9, min_child_weight=3, learning_rate=0.1, gamma=0, total= 1.5min\n",
      "[CV] max_depth=4, reg_lambda=1, n_estimators=350, colsample_bytree=0.85, subsample=0.9, min_child_weight=7, learning_rate=0.1, gamma=0 \n",
      "[CV]  max_depth=4, reg_lambda=1, n_estimators=350, colsample_bytree=0.85, subsample=0.9, min_child_weight=5, learning_rate=0.1, gamma=0, total= 1.5min\n",
      "[CV] max_depth=4, reg_lambda=1, n_estimators=350, colsample_bytree=0.85, subsample=0.9, min_child_weight=7, learning_rate=0.1, gamma=0 \n",
      "[CV]  max_depth=4, reg_lambda=1, n_estimators=350, colsample_bytree=0.85, subsample=0.9, min_child_weight=5, learning_rate=0.1, gamma=0, total= 1.4min\n",
      "[CV] max_depth=4, reg_lambda=1, n_estimators=350, colsample_bytree=0.85, subsample=0.9, min_child_weight=7, learning_rate=0.1, gamma=0 \n",
      "[CV]  max_depth=4, reg_lambda=1, n_estimators=350, colsample_bytree=0.85, subsample=0.9, min_child_weight=5, learning_rate=0.1, gamma=0, total= 1.4min\n",
      "[CV] max_depth=5, reg_lambda=1, n_estimators=350, colsample_bytree=0.85, subsample=0.9, min_child_weight=1, learning_rate=0.1, gamma=0 \n",
      "[CV]  max_depth=4, reg_lambda=1, n_estimators=350, colsample_bytree=0.85, subsample=0.9, min_child_weight=7, learning_rate=0.1, gamma=0, total= 1.4min\n",
      "[CV] max_depth=5, reg_lambda=1, n_estimators=350, colsample_bytree=0.85, subsample=0.9, min_child_weight=1, learning_rate=0.1, gamma=0 \n",
      "[CV]  max_depth=4, reg_lambda=1, n_estimators=350, colsample_bytree=0.85, subsample=0.9, min_child_weight=7, learning_rate=0.1, gamma=0, total= 1.4min\n",
      "[CV] max_depth=5, reg_lambda=1, n_estimators=350, colsample_bytree=0.85, subsample=0.9, min_child_weight=1, learning_rate=0.1, gamma=0 \n",
      "[CV]  max_depth=4, reg_lambda=1, n_estimators=350, colsample_bytree=0.85, subsample=0.9, min_child_weight=7, learning_rate=0.1, gamma=0, total= 1.4min\n",
      "[CV] max_depth=5, reg_lambda=1, n_estimators=350, colsample_bytree=0.85, subsample=0.9, min_child_weight=3, learning_rate=0.1, gamma=0 \n",
      "[CV]  max_depth=5, reg_lambda=1, n_estimators=350, colsample_bytree=0.85, subsample=0.9, min_child_weight=1, learning_rate=0.1, gamma=0, total= 1.8min\n",
      "[CV] max_depth=5, reg_lambda=1, n_estimators=350, colsample_bytree=0.85, subsample=0.9, min_child_weight=3, learning_rate=0.1, gamma=0 \n",
      "[CV]  max_depth=5, reg_lambda=1, n_estimators=350, colsample_bytree=0.85, subsample=0.9, min_child_weight=1, learning_rate=0.1, gamma=0, total= 1.8min\n",
      "[CV] max_depth=5, reg_lambda=1, n_estimators=350, colsample_bytree=0.85, subsample=0.9, min_child_weight=3, learning_rate=0.1, gamma=0 \n",
      "[CV]  max_depth=5, reg_lambda=1, n_estimators=350, colsample_bytree=0.85, subsample=0.9, min_child_weight=3, learning_rate=0.1, gamma=0, total= 1.8min\n",
      "[CV] max_depth=5, reg_lambda=1, n_estimators=350, colsample_bytree=0.85, subsample=0.9, min_child_weight=5, learning_rate=0.1, gamma=0 \n",
      "[CV]  max_depth=5, reg_lambda=1, n_estimators=350, colsample_bytree=0.85, subsample=0.9, min_child_weight=1, learning_rate=0.1, gamma=0, total= 1.9min\n",
      "[CV] max_depth=5, reg_lambda=1, n_estimators=350, colsample_bytree=0.85, subsample=0.9, min_child_weight=5, learning_rate=0.1, gamma=0 \n",
      "[CV]  max_depth=5, reg_lambda=1, n_estimators=350, colsample_bytree=0.85, subsample=0.9, min_child_weight=5, learning_rate=0.1, gamma=0, total= 1.7min\n",
      "[CV] max_depth=5, reg_lambda=1, n_estimators=350, colsample_bytree=0.85, subsample=0.9, min_child_weight=5, learning_rate=0.1, gamma=0 \n",
      "[CV]  max_depth=5, reg_lambda=1, n_estimators=350, colsample_bytree=0.85, subsample=0.9, min_child_weight=3, learning_rate=0.1, gamma=0, total= 1.8min\n",
      "[CV] max_depth=5, reg_lambda=1, n_estimators=350, colsample_bytree=0.85, subsample=0.9, min_child_weight=7, learning_rate=0.1, gamma=0 \n",
      "[CV]  max_depth=5, reg_lambda=1, n_estimators=350, colsample_bytree=0.85, subsample=0.9, min_child_weight=3, learning_rate=0.1, gamma=0, total= 1.8min\n",
      "[CV] max_depth=5, reg_lambda=1, n_estimators=350, colsample_bytree=0.85, subsample=0.9, min_child_weight=7, learning_rate=0.1, gamma=0 \n",
      "[CV]  max_depth=5, reg_lambda=1, n_estimators=350, colsample_bytree=0.85, subsample=0.9, min_child_weight=5, learning_rate=0.1, gamma=0, total= 1.7min\n",
      "[CV] max_depth=5, reg_lambda=1, n_estimators=350, colsample_bytree=0.85, subsample=0.9, min_child_weight=7, learning_rate=0.1, gamma=0 \n",
      "[CV]  max_depth=5, reg_lambda=1, n_estimators=350, colsample_bytree=0.85, subsample=0.9, min_child_weight=7, learning_rate=0.1, gamma=0, total= 1.7min\n",
      "[CV] max_depth=6, reg_lambda=1, n_estimators=350, colsample_bytree=0.85, subsample=0.9, min_child_weight=1, learning_rate=0.1, gamma=0 \n",
      "[CV]  max_depth=5, reg_lambda=1, n_estimators=350, colsample_bytree=0.85, subsample=0.9, min_child_weight=5, learning_rate=0.1, gamma=0, total= 1.8min\n",
      "[CV] max_depth=6, reg_lambda=1, n_estimators=350, colsample_bytree=0.85, subsample=0.9, min_child_weight=1, learning_rate=0.1, gamma=0 \n",
      "[CV]  max_depth=5, reg_lambda=1, n_estimators=350, colsample_bytree=0.85, subsample=0.9, min_child_weight=7, learning_rate=0.1, gamma=0, total= 1.8min\n",
      "[CV] max_depth=6, reg_lambda=1, n_estimators=350, colsample_bytree=0.85, subsample=0.9, min_child_weight=1, learning_rate=0.1, gamma=0 \n",
      "[CV]  max_depth=5, reg_lambda=1, n_estimators=350, colsample_bytree=0.85, subsample=0.9, min_child_weight=7, learning_rate=0.1, gamma=0, total= 1.7min\n",
      "[CV] max_depth=6, reg_lambda=1, n_estimators=350, colsample_bytree=0.85, subsample=0.9, min_child_weight=3, learning_rate=0.1, gamma=0 \n",
      "[CV]  max_depth=6, reg_lambda=1, n_estimators=350, colsample_bytree=0.85, subsample=0.9, min_child_weight=1, learning_rate=0.1, gamma=0, total= 2.1min\n",
      "[CV] max_depth=6, reg_lambda=1, n_estimators=350, colsample_bytree=0.85, subsample=0.9, min_child_weight=3, learning_rate=0.1, gamma=0 \n",
      "[CV]  max_depth=6, reg_lambda=1, n_estimators=350, colsample_bytree=0.85, subsample=0.9, min_child_weight=1, learning_rate=0.1, gamma=0, total= 2.0min\n",
      "[CV] max_depth=6, reg_lambda=1, n_estimators=350, colsample_bytree=0.85, subsample=0.9, min_child_weight=3, learning_rate=0.1, gamma=0 \n",
      "[CV]  max_depth=6, reg_lambda=1, n_estimators=350, colsample_bytree=0.85, subsample=0.9, min_child_weight=1, learning_rate=0.1, gamma=0, total= 2.1min\n"
     ]
    },
    {
     "name": "stdout",
     "output_type": "stream",
     "text": [
      "[CV] max_depth=6, reg_lambda=1, n_estimators=350, colsample_bytree=0.85, subsample=0.9, min_child_weight=5, learning_rate=0.1, gamma=0 \n",
      "[CV]  max_depth=6, reg_lambda=1, n_estimators=350, colsample_bytree=0.85, subsample=0.9, min_child_weight=3, learning_rate=0.1, gamma=0, total= 2.1min\n",
      "[CV] max_depth=6, reg_lambda=1, n_estimators=350, colsample_bytree=0.85, subsample=0.9, min_child_weight=5, learning_rate=0.1, gamma=0 \n",
      "[CV]  max_depth=6, reg_lambda=1, n_estimators=350, colsample_bytree=0.85, subsample=0.9, min_child_weight=3, learning_rate=0.1, gamma=0, total= 2.0min\n",
      "[CV] max_depth=6, reg_lambda=1, n_estimators=350, colsample_bytree=0.85, subsample=0.9, min_child_weight=5, learning_rate=0.1, gamma=0 \n",
      "[CV]  max_depth=6, reg_lambda=1, n_estimators=350, colsample_bytree=0.85, subsample=0.9, min_child_weight=5, learning_rate=0.1, gamma=0, total= 2.0min\n",
      "[CV] max_depth=6, reg_lambda=1, n_estimators=350, colsample_bytree=0.85, subsample=0.9, min_child_weight=7, learning_rate=0.1, gamma=0 \n",
      "[CV]  max_depth=6, reg_lambda=1, n_estimators=350, colsample_bytree=0.85, subsample=0.9, min_child_weight=3, learning_rate=0.1, gamma=0, total= 2.1min\n",
      "[CV] max_depth=6, reg_lambda=1, n_estimators=350, colsample_bytree=0.85, subsample=0.9, min_child_weight=7, learning_rate=0.1, gamma=0 \n",
      "[CV]  max_depth=6, reg_lambda=1, n_estimators=350, colsample_bytree=0.85, subsample=0.9, min_child_weight=5, learning_rate=0.1, gamma=0, total= 2.0min\n",
      "[CV] max_depth=6, reg_lambda=1, n_estimators=350, colsample_bytree=0.85, subsample=0.9, min_child_weight=7, learning_rate=0.1, gamma=0 \n",
      "[CV]  max_depth=6, reg_lambda=1, n_estimators=350, colsample_bytree=0.85, subsample=0.9, min_child_weight=5, learning_rate=0.1, gamma=0, total= 2.1min\n",
      "[CV] max_depth=7, reg_lambda=1, n_estimators=350, colsample_bytree=0.85, subsample=0.9, min_child_weight=1, learning_rate=0.1, gamma=0 \n"
     ]
    },
    {
     "name": "stderr",
     "output_type": "stream",
     "text": [
      "[Parallel(n_jobs=4)]: Done  33 tasks      | elapsed: 15.8min\n"
     ]
    },
    {
     "name": "stdout",
     "output_type": "stream",
     "text": [
      "[CV]  max_depth=6, reg_lambda=1, n_estimators=350, colsample_bytree=0.85, subsample=0.9, min_child_weight=7, learning_rate=0.1, gamma=0, total= 2.1min\n",
      "[CV] max_depth=7, reg_lambda=1, n_estimators=350, colsample_bytree=0.85, subsample=0.9, min_child_weight=1, learning_rate=0.1, gamma=0 \n",
      "[CV]  max_depth=6, reg_lambda=1, n_estimators=350, colsample_bytree=0.85, subsample=0.9, min_child_weight=7, learning_rate=0.1, gamma=0, total= 2.1min\n",
      "[CV] max_depth=7, reg_lambda=1, n_estimators=350, colsample_bytree=0.85, subsample=0.9, min_child_weight=1, learning_rate=0.1, gamma=0 \n",
      "[CV]  max_depth=6, reg_lambda=1, n_estimators=350, colsample_bytree=0.85, subsample=0.9, min_child_weight=7, learning_rate=0.1, gamma=0, total= 2.1min\n",
      "[CV] max_depth=7, reg_lambda=1, n_estimators=350, colsample_bytree=0.85, subsample=0.9, min_child_weight=3, learning_rate=0.1, gamma=0 \n",
      "[CV]  max_depth=7, reg_lambda=1, n_estimators=350, colsample_bytree=0.85, subsample=0.9, min_child_weight=1, learning_rate=0.1, gamma=0, total= 2.3min\n",
      "[CV] max_depth=7, reg_lambda=1, n_estimators=350, colsample_bytree=0.85, subsample=0.9, min_child_weight=3, learning_rate=0.1, gamma=0 \n",
      "[CV]  max_depth=7, reg_lambda=1, n_estimators=350, colsample_bytree=0.85, subsample=0.9, min_child_weight=1, learning_rate=0.1, gamma=0, total= 2.3min\n",
      "[CV] max_depth=7, reg_lambda=1, n_estimators=350, colsample_bytree=0.85, subsample=0.9, min_child_weight=3, learning_rate=0.1, gamma=0 \n",
      "[CV]  max_depth=7, reg_lambda=1, n_estimators=350, colsample_bytree=0.85, subsample=0.9, min_child_weight=1, learning_rate=0.1, gamma=0, total= 2.3min\n",
      "[CV] max_depth=7, reg_lambda=1, n_estimators=350, colsample_bytree=0.85, subsample=0.9, min_child_weight=5, learning_rate=0.1, gamma=0 \n",
      "[CV]  max_depth=7, reg_lambda=1, n_estimators=350, colsample_bytree=0.85, subsample=0.9, min_child_weight=3, learning_rate=0.1, gamma=0, total= 2.4min\n",
      "[CV] max_depth=7, reg_lambda=1, n_estimators=350, colsample_bytree=0.85, subsample=0.9, min_child_weight=5, learning_rate=0.1, gamma=0 \n",
      "[CV]  max_depth=7, reg_lambda=1, n_estimators=350, colsample_bytree=0.85, subsample=0.9, min_child_weight=3, learning_rate=0.1, gamma=0, total= 2.4min\n",
      "[CV] max_depth=7, reg_lambda=1, n_estimators=350, colsample_bytree=0.85, subsample=0.9, min_child_weight=5, learning_rate=0.1, gamma=0 \n",
      "[CV]  max_depth=7, reg_lambda=1, n_estimators=350, colsample_bytree=0.85, subsample=0.9, min_child_weight=3, learning_rate=0.1, gamma=0, total= 2.4min\n",
      "[CV] max_depth=7, reg_lambda=1, n_estimators=350, colsample_bytree=0.85, subsample=0.9, min_child_weight=7, learning_rate=0.1, gamma=0 \n",
      "[CV]  max_depth=7, reg_lambda=1, n_estimators=350, colsample_bytree=0.85, subsample=0.9, min_child_weight=5, learning_rate=0.1, gamma=0, total= 2.4min\n",
      "[CV] max_depth=7, reg_lambda=1, n_estimators=350, colsample_bytree=0.85, subsample=0.9, min_child_weight=7, learning_rate=0.1, gamma=0 \n",
      "[CV]  max_depth=7, reg_lambda=1, n_estimators=350, colsample_bytree=0.85, subsample=0.9, min_child_weight=5, learning_rate=0.1, gamma=0, total= 2.4min\n",
      "[CV] max_depth=7, reg_lambda=1, n_estimators=350, colsample_bytree=0.85, subsample=0.9, min_child_weight=7, learning_rate=0.1, gamma=0 \n",
      "[CV]  max_depth=7, reg_lambda=1, n_estimators=350, colsample_bytree=0.85, subsample=0.9, min_child_weight=5, learning_rate=0.1, gamma=0, total= 2.4min\n",
      "[CV]  max_depth=7, reg_lambda=1, n_estimators=350, colsample_bytree=0.85, subsample=0.9, min_child_weight=7, learning_rate=0.1, gamma=0, total= 2.4min\n",
      "[CV]  max_depth=7, reg_lambda=1, n_estimators=350, colsample_bytree=0.85, subsample=0.9, min_child_weight=7, learning_rate=0.1, gamma=0, total= 2.4min\n",
      "[CV]  max_depth=7, reg_lambda=1, n_estimators=350, colsample_bytree=0.85, subsample=0.9, min_child_weight=7, learning_rate=0.1, gamma=0, total= 2.4min\n"
     ]
    },
    {
     "name": "stderr",
     "output_type": "stream",
     "text": [
      "[Parallel(n_jobs=4)]: Done  48 out of  48 | elapsed: 23.1min finished\n"
     ]
    },
    {
     "name": "stdout",
     "output_type": "stream",
     "text": [
      "Cross-validation Training Time =  1592.945865869522\n",
      "\n",
      "Grid scores:\n",
      "\n",
      "0.840 (+/-0.004) for {'max_depth': 4, 'reg_lambda': 1, 'gamma': 0, 'colsample_bytree': 0.85, 'subsample': 0.9, 'min_child_weight': 1, 'learning_rate': 0.1, 'n_estimators': 350}\n",
      "0.836 (+/-0.007) for {'max_depth': 4, 'reg_lambda': 1, 'gamma': 0, 'colsample_bytree': 0.85, 'subsample': 0.9, 'min_child_weight': 3, 'learning_rate': 0.1, 'n_estimators': 350}\n",
      "0.835 (+/-0.008) for {'max_depth': 4, 'reg_lambda': 1, 'gamma': 0, 'colsample_bytree': 0.85, 'subsample': 0.9, 'min_child_weight': 5, 'learning_rate': 0.1, 'n_estimators': 350}\n",
      "0.838 (+/-0.007) for {'max_depth': 4, 'reg_lambda': 1, 'gamma': 0, 'colsample_bytree': 0.85, 'subsample': 0.9, 'min_child_weight': 7, 'learning_rate': 0.1, 'n_estimators': 350}\n",
      "0.843 (+/-0.007) for {'max_depth': 5, 'reg_lambda': 1, 'gamma': 0, 'colsample_bytree': 0.85, 'subsample': 0.9, 'min_child_weight': 1, 'learning_rate': 0.1, 'n_estimators': 350}\n",
      "0.839 (+/-0.005) for {'max_depth': 5, 'reg_lambda': 1, 'gamma': 0, 'colsample_bytree': 0.85, 'subsample': 0.9, 'min_child_weight': 3, 'learning_rate': 0.1, 'n_estimators': 350}\n",
      "0.841 (+/-0.009) for {'max_depth': 5, 'reg_lambda': 1, 'gamma': 0, 'colsample_bytree': 0.85, 'subsample': 0.9, 'min_child_weight': 5, 'learning_rate': 0.1, 'n_estimators': 350}\n",
      "0.842 (+/-0.008) for {'max_depth': 5, 'reg_lambda': 1, 'gamma': 0, 'colsample_bytree': 0.85, 'subsample': 0.9, 'min_child_weight': 7, 'learning_rate': 0.1, 'n_estimators': 350}\n",
      "0.843 (+/-0.009) for {'max_depth': 6, 'reg_lambda': 1, 'gamma': 0, 'colsample_bytree': 0.85, 'subsample': 0.9, 'min_child_weight': 1, 'learning_rate': 0.1, 'n_estimators': 350}\n",
      "0.842 (+/-0.008) for {'max_depth': 6, 'reg_lambda': 1, 'gamma': 0, 'colsample_bytree': 0.85, 'subsample': 0.9, 'min_child_weight': 3, 'learning_rate': 0.1, 'n_estimators': 350}\n",
      "0.843 (+/-0.007) for {'max_depth': 6, 'reg_lambda': 1, 'gamma': 0, 'colsample_bytree': 0.85, 'subsample': 0.9, 'min_child_weight': 5, 'learning_rate': 0.1, 'n_estimators': 350}\n",
      "0.843 (+/-0.005) for {'max_depth': 6, 'reg_lambda': 1, 'gamma': 0, 'colsample_bytree': 0.85, 'subsample': 0.9, 'min_child_weight': 7, 'learning_rate': 0.1, 'n_estimators': 350}\n",
      "0.844 (+/-0.007) for {'max_depth': 7, 'reg_lambda': 1, 'gamma': 0, 'colsample_bytree': 0.85, 'subsample': 0.9, 'min_child_weight': 1, 'learning_rate': 0.1, 'n_estimators': 350}\n",
      "0.843 (+/-0.007) for {'max_depth': 7, 'reg_lambda': 1, 'gamma': 0, 'colsample_bytree': 0.85, 'subsample': 0.9, 'min_child_weight': 3, 'learning_rate': 0.1, 'n_estimators': 350}\n",
      "0.845 (+/-0.008) for {'max_depth': 7, 'reg_lambda': 1, 'gamma': 0, 'colsample_bytree': 0.85, 'subsample': 0.9, 'min_child_weight': 5, 'learning_rate': 0.1, 'n_estimators': 350}\n",
      "0.844 (+/-0.006) for {'max_depth': 7, 'reg_lambda': 1, 'gamma': 0, 'colsample_bytree': 0.85, 'subsample': 0.9, 'min_child_weight': 7, 'learning_rate': 0.1, 'n_estimators': 350}\n",
      "\n",
      "Best parameter set:\n",
      "{'max_depth': 7, 'reg_lambda': 1, 'gamma': 0, 'colsample_bytree': 0.85, 'subsample': 0.9, 'min_child_weight': 5, 'learning_rate': 0.1, 'n_estimators': 350}\n",
      "\n"
     ]
    }
   ],
   "source": [
    "K_folds = 3\n",
    "params = [{'max_depth': [4,5,6,7], 'min_child_weight':[1,3,5,7], 'learning_rate': [.1], 'n_estimators':[350], 'gamma':[0], 'subsample':[.9], 'colsample_bytree':[.85], 'reg_lambda':[1]}]\n",
    "crossvalidate_XGBoost(X_train, y_train, params, K_folds)"
   ]
  },
  {
   "cell_type": "markdown",
   "metadata": {},
   "source": [
    "Find max_depth = 7 and min_child_weight = 5. Ideal max_depth was at top of search range. Expand search again."
   ]
  },
  {
   "cell_type": "code",
   "execution_count": 12,
   "metadata": {
    "scrolled": true
   },
   "outputs": [
    {
     "name": "stdout",
     "output_type": "stream",
     "text": [
      "Fitting 3 folds for each of 12 candidates, totalling 36 fits\n",
      "[CV] max_depth=7, reg_lambda=1, n_estimators=350, colsample_bytree=0.85, subsample=0.9, min_child_weight=4, learning_rate=0.1, gamma=0 \n",
      "[CV] max_depth=7, reg_lambda=1, n_estimators=350, colsample_bytree=0.85, subsample=0.9, min_child_weight=4, learning_rate=0.1, gamma=0 \n",
      "[CV] max_depth=7, reg_lambda=1, n_estimators=350, colsample_bytree=0.85, subsample=0.9, min_child_weight=4, learning_rate=0.1, gamma=0 \n",
      "[CV] max_depth=7, reg_lambda=1, n_estimators=350, colsample_bytree=0.85, subsample=0.9, min_child_weight=5, learning_rate=0.1, gamma=0 \n",
      "[CV]  max_depth=7, reg_lambda=1, n_estimators=350, colsample_bytree=0.85, subsample=0.9, min_child_weight=4, learning_rate=0.1, gamma=0, total= 2.4min\n",
      "[CV] max_depth=7, reg_lambda=1, n_estimators=350, colsample_bytree=0.85, subsample=0.9, min_child_weight=5, learning_rate=0.1, gamma=0 \n",
      "[CV]  max_depth=7, reg_lambda=1, n_estimators=350, colsample_bytree=0.85, subsample=0.9, min_child_weight=4, learning_rate=0.1, gamma=0, total= 2.4min\n",
      "[CV] max_depth=7, reg_lambda=1, n_estimators=350, colsample_bytree=0.85, subsample=0.9, min_child_weight=5, learning_rate=0.1, gamma=0 \n",
      "[CV]  max_depth=7, reg_lambda=1, n_estimators=350, colsample_bytree=0.85, subsample=0.9, min_child_weight=5, learning_rate=0.1, gamma=0, total= 2.5min\n",
      "[CV] max_depth=7, reg_lambda=1, n_estimators=350, colsample_bytree=0.85, subsample=0.9, min_child_weight=6, learning_rate=0.1, gamma=0 \n",
      "[CV]  max_depth=7, reg_lambda=1, n_estimators=350, colsample_bytree=0.85, subsample=0.9, min_child_weight=4, learning_rate=0.1, gamma=0, total= 2.5min\n",
      "[CV] max_depth=7, reg_lambda=1, n_estimators=350, colsample_bytree=0.85, subsample=0.9, min_child_weight=6, learning_rate=0.1, gamma=0 \n",
      "[CV]  max_depth=7, reg_lambda=1, n_estimators=350, colsample_bytree=0.85, subsample=0.9, min_child_weight=5, learning_rate=0.1, gamma=0, total= 2.4min\n",
      "[CV] max_depth=7, reg_lambda=1, n_estimators=350, colsample_bytree=0.85, subsample=0.9, min_child_weight=6, learning_rate=0.1, gamma=0 \n",
      "[CV]  max_depth=7, reg_lambda=1, n_estimators=350, colsample_bytree=0.85, subsample=0.9, min_child_weight=5, learning_rate=0.1, gamma=0, total= 2.5min\n",
      "[CV] max_depth=8, reg_lambda=1, n_estimators=350, colsample_bytree=0.85, subsample=0.9, min_child_weight=4, learning_rate=0.1, gamma=0 \n",
      "[CV]  max_depth=7, reg_lambda=1, n_estimators=350, colsample_bytree=0.85, subsample=0.9, min_child_weight=6, learning_rate=0.1, gamma=0, total= 2.4min\n",
      "[CV] max_depth=8, reg_lambda=1, n_estimators=350, colsample_bytree=0.85, subsample=0.9, min_child_weight=4, learning_rate=0.1, gamma=0 \n",
      "[CV]  max_depth=7, reg_lambda=1, n_estimators=350, colsample_bytree=0.85, subsample=0.9, min_child_weight=6, learning_rate=0.1, gamma=0, total= 2.4min\n",
      "[CV] max_depth=8, reg_lambda=1, n_estimators=350, colsample_bytree=0.85, subsample=0.9, min_child_weight=4, learning_rate=0.1, gamma=0 \n",
      "[CV]  max_depth=7, reg_lambda=1, n_estimators=350, colsample_bytree=0.85, subsample=0.9, min_child_weight=6, learning_rate=0.1, gamma=0, total= 2.4min\n",
      "[CV] max_depth=8, reg_lambda=1, n_estimators=350, colsample_bytree=0.85, subsample=0.9, min_child_weight=5, learning_rate=0.1, gamma=0 \n",
      "[CV]  max_depth=8, reg_lambda=1, n_estimators=350, colsample_bytree=0.85, subsample=0.9, min_child_weight=4, learning_rate=0.1, gamma=0, total= 2.7min\n",
      "[CV] max_depth=8, reg_lambda=1, n_estimators=350, colsample_bytree=0.85, subsample=0.9, min_child_weight=5, learning_rate=0.1, gamma=0 \n",
      "[CV]  max_depth=8, reg_lambda=1, n_estimators=350, colsample_bytree=0.85, subsample=0.9, min_child_weight=4, learning_rate=0.1, gamma=0, total= 2.7min\n",
      "[CV] max_depth=8, reg_lambda=1, n_estimators=350, colsample_bytree=0.85, subsample=0.9, min_child_weight=5, learning_rate=0.1, gamma=0 \n",
      "[CV]  max_depth=8, reg_lambda=1, n_estimators=350, colsample_bytree=0.85, subsample=0.9, min_child_weight=4, learning_rate=0.1, gamma=0, total= 2.7min\n",
      "[CV] max_depth=8, reg_lambda=1, n_estimators=350, colsample_bytree=0.85, subsample=0.9, min_child_weight=6, learning_rate=0.1, gamma=0 \n",
      "[CV]  max_depth=8, reg_lambda=1, n_estimators=350, colsample_bytree=0.85, subsample=0.9, min_child_weight=5, learning_rate=0.1, gamma=0, total= 2.7min\n",
      "[CV] max_depth=8, reg_lambda=1, n_estimators=350, colsample_bytree=0.85, subsample=0.9, min_child_weight=6, learning_rate=0.1, gamma=0 \n",
      "[CV]  max_depth=8, reg_lambda=1, n_estimators=350, colsample_bytree=0.85, subsample=0.9, min_child_weight=5, learning_rate=0.1, gamma=0, total= 2.7min\n",
      "[CV] max_depth=8, reg_lambda=1, n_estimators=350, colsample_bytree=0.85, subsample=0.9, min_child_weight=6, learning_rate=0.1, gamma=0 \n",
      "[CV]  max_depth=8, reg_lambda=1, n_estimators=350, colsample_bytree=0.85, subsample=0.9, min_child_weight=5, learning_rate=0.1, gamma=0, total= 2.7min\n",
      "[CV] max_depth=9, reg_lambda=1, n_estimators=350, colsample_bytree=0.85, subsample=0.9, min_child_weight=4, learning_rate=0.1, gamma=0 \n",
      "[CV]  max_depth=8, reg_lambda=1, n_estimators=350, colsample_bytree=0.85, subsample=0.9, min_child_weight=6, learning_rate=0.1, gamma=0, total= 2.8min\n",
      "[CV] max_depth=9, reg_lambda=1, n_estimators=350, colsample_bytree=0.85, subsample=0.9, min_child_weight=4, learning_rate=0.1, gamma=0 \n",
      "[CV]  max_depth=8, reg_lambda=1, n_estimators=350, colsample_bytree=0.85, subsample=0.9, min_child_weight=6, learning_rate=0.1, gamma=0, total= 2.7min\n",
      "[CV] max_depth=9, reg_lambda=1, n_estimators=350, colsample_bytree=0.85, subsample=0.9, min_child_weight=4, learning_rate=0.1, gamma=0 \n",
      "[CV]  max_depth=8, reg_lambda=1, n_estimators=350, colsample_bytree=0.85, subsample=0.9, min_child_weight=6, learning_rate=0.1, gamma=0, total= 2.7min\n",
      "[CV] max_depth=9, reg_lambda=1, n_estimators=350, colsample_bytree=0.85, subsample=0.9, min_child_weight=5, learning_rate=0.1, gamma=0 \n",
      "[CV]  max_depth=9, reg_lambda=1, n_estimators=350, colsample_bytree=0.85, subsample=0.9, min_child_weight=4, learning_rate=0.1, gamma=0, total= 3.1min\n",
      "[CV] max_depth=9, reg_lambda=1, n_estimators=350, colsample_bytree=0.85, subsample=0.9, min_child_weight=5, learning_rate=0.1, gamma=0 \n",
      "[CV]  max_depth=9, reg_lambda=1, n_estimators=350, colsample_bytree=0.85, subsample=0.9, min_child_weight=4, learning_rate=0.1, gamma=0, total= 3.0min\n",
      "[CV] max_depth=9, reg_lambda=1, n_estimators=350, colsample_bytree=0.85, subsample=0.9, min_child_weight=5, learning_rate=0.1, gamma=0 \n",
      "[CV]  max_depth=9, reg_lambda=1, n_estimators=350, colsample_bytree=0.85, subsample=0.9, min_child_weight=4, learning_rate=0.1, gamma=0, total= 3.1min\n",
      "[CV] max_depth=9, reg_lambda=1, n_estimators=350, colsample_bytree=0.85, subsample=0.9, min_child_weight=6, learning_rate=0.1, gamma=0 \n",
      "[CV]  max_depth=9, reg_lambda=1, n_estimators=350, colsample_bytree=0.85, subsample=0.9, min_child_weight=5, learning_rate=0.1, gamma=0, total= 3.0min\n",
      "[CV] max_depth=9, reg_lambda=1, n_estimators=350, colsample_bytree=0.85, subsample=0.9, min_child_weight=6, learning_rate=0.1, gamma=0 \n",
      "[CV]  max_depth=9, reg_lambda=1, n_estimators=350, colsample_bytree=0.85, subsample=0.9, min_child_weight=5, learning_rate=0.1, gamma=0, total= 3.1min\n",
      "[CV] max_depth=9, reg_lambda=1, n_estimators=350, colsample_bytree=0.85, subsample=0.9, min_child_weight=6, learning_rate=0.1, gamma=0 \n",
      "[CV]  max_depth=9, reg_lambda=1, n_estimators=350, colsample_bytree=0.85, subsample=0.9, min_child_weight=5, learning_rate=0.1, gamma=0, total= 3.1min\n",
      "[CV] max_depth=10, reg_lambda=1, n_estimators=350, colsample_bytree=0.85, subsample=0.9, min_child_weight=4, learning_rate=0.1, gamma=0 \n",
      "[CV]  max_depth=9, reg_lambda=1, n_estimators=350, colsample_bytree=0.85, subsample=0.9, min_child_weight=6, learning_rate=0.1, gamma=0, total= 3.1min\n",
      "[CV] max_depth=10, reg_lambda=1, n_estimators=350, colsample_bytree=0.85, subsample=0.9, min_child_weight=4, learning_rate=0.1, gamma=0 \n",
      "[CV]  max_depth=9, reg_lambda=1, n_estimators=350, colsample_bytree=0.85, subsample=0.9, min_child_weight=6, learning_rate=0.1, gamma=0, total= 3.1min\n",
      "[CV] max_depth=10, reg_lambda=1, n_estimators=350, colsample_bytree=0.85, subsample=0.9, min_child_weight=4, learning_rate=0.1, gamma=0 \n",
      "[CV]  max_depth=9, reg_lambda=1, n_estimators=350, colsample_bytree=0.85, subsample=0.9, min_child_weight=6, learning_rate=0.1, gamma=0, total= 3.1min\n"
     ]
    },
    {
     "name": "stdout",
     "output_type": "stream",
     "text": [
      "[CV] max_depth=10, reg_lambda=1, n_estimators=350, colsample_bytree=0.85, subsample=0.9, min_child_weight=5, learning_rate=0.1, gamma=0 \n",
      "[CV]  max_depth=10, reg_lambda=1, n_estimators=350, colsample_bytree=0.85, subsample=0.9, min_child_weight=4, learning_rate=0.1, gamma=0, total= 3.4min\n",
      "[CV] max_depth=10, reg_lambda=1, n_estimators=350, colsample_bytree=0.85, subsample=0.9, min_child_weight=5, learning_rate=0.1, gamma=0 \n",
      "[CV]  max_depth=10, reg_lambda=1, n_estimators=350, colsample_bytree=0.85, subsample=0.9, min_child_weight=4, learning_rate=0.1, gamma=0, total= 3.4min\n",
      "[CV] max_depth=10, reg_lambda=1, n_estimators=350, colsample_bytree=0.85, subsample=0.9, min_child_weight=5, learning_rate=0.1, gamma=0 \n",
      "[CV]  max_depth=10, reg_lambda=1, n_estimators=350, colsample_bytree=0.85, subsample=0.9, min_child_weight=4, learning_rate=0.1, gamma=0, total= 3.4min\n",
      "[CV] max_depth=10, reg_lambda=1, n_estimators=350, colsample_bytree=0.85, subsample=0.9, min_child_weight=6, learning_rate=0.1, gamma=0 \n",
      "[CV]  max_depth=10, reg_lambda=1, n_estimators=350, colsample_bytree=0.85, subsample=0.9, min_child_weight=5, learning_rate=0.1, gamma=0, total= 3.3min\n",
      "[CV] max_depth=10, reg_lambda=1, n_estimators=350, colsample_bytree=0.85, subsample=0.9, min_child_weight=6, learning_rate=0.1, gamma=0 \n",
      "[CV]  max_depth=10, reg_lambda=1, n_estimators=350, colsample_bytree=0.85, subsample=0.9, min_child_weight=5, learning_rate=0.1, gamma=0, total= 3.5min\n",
      "[CV] max_depth=10, reg_lambda=1, n_estimators=350, colsample_bytree=0.85, subsample=0.9, min_child_weight=6, learning_rate=0.1, gamma=0 \n",
      "[CV]  max_depth=10, reg_lambda=1, n_estimators=350, colsample_bytree=0.85, subsample=0.9, min_child_weight=5, learning_rate=0.1, gamma=0, total= 3.3min\n",
      "[CV]  max_depth=10, reg_lambda=1, n_estimators=350, colsample_bytree=0.85, subsample=0.9, min_child_weight=6, learning_rate=0.1, gamma=0, total= 3.3min\n",
      "[CV]  max_depth=10, reg_lambda=1, n_estimators=350, colsample_bytree=0.85, subsample=0.9, min_child_weight=6, learning_rate=0.1, gamma=0, total= 3.4min\n",
      "[CV]  max_depth=10, reg_lambda=1, n_estimators=350, colsample_bytree=0.85, subsample=0.9, min_child_weight=6, learning_rate=0.1, gamma=0, total= 3.3min\n"
     ]
    },
    {
     "name": "stderr",
     "output_type": "stream",
     "text": [
      "[Parallel(n_jobs=4)]: Done  36 out of  36 | elapsed: 26.8min finished\n"
     ]
    },
    {
     "name": "stdout",
     "output_type": "stream",
     "text": [
      "Cross-validation Training Time =  1896.5005655288696\n",
      "\n",
      "Grid scores:\n",
      "\n",
      "0.844 (+/-0.005) for {'max_depth': 7, 'reg_lambda': 1, 'gamma': 0, 'colsample_bytree': 0.85, 'subsample': 0.9, 'min_child_weight': 4, 'learning_rate': 0.1, 'n_estimators': 350}\n",
      "0.845 (+/-0.008) for {'max_depth': 7, 'reg_lambda': 1, 'gamma': 0, 'colsample_bytree': 0.85, 'subsample': 0.9, 'min_child_weight': 5, 'learning_rate': 0.1, 'n_estimators': 350}\n",
      "0.843 (+/-0.004) for {'max_depth': 7, 'reg_lambda': 1, 'gamma': 0, 'colsample_bytree': 0.85, 'subsample': 0.9, 'min_child_weight': 6, 'learning_rate': 0.1, 'n_estimators': 350}\n",
      "0.844 (+/-0.008) for {'max_depth': 8, 'reg_lambda': 1, 'gamma': 0, 'colsample_bytree': 0.85, 'subsample': 0.9, 'min_child_weight': 4, 'learning_rate': 0.1, 'n_estimators': 350}\n",
      "0.845 (+/-0.006) for {'max_depth': 8, 'reg_lambda': 1, 'gamma': 0, 'colsample_bytree': 0.85, 'subsample': 0.9, 'min_child_weight': 5, 'learning_rate': 0.1, 'n_estimators': 350}\n",
      "0.846 (+/-0.006) for {'max_depth': 8, 'reg_lambda': 1, 'gamma': 0, 'colsample_bytree': 0.85, 'subsample': 0.9, 'min_child_weight': 6, 'learning_rate': 0.1, 'n_estimators': 350}\n",
      "0.847 (+/-0.005) for {'max_depth': 9, 'reg_lambda': 1, 'gamma': 0, 'colsample_bytree': 0.85, 'subsample': 0.9, 'min_child_weight': 4, 'learning_rate': 0.1, 'n_estimators': 350}\n",
      "0.847 (+/-0.006) for {'max_depth': 9, 'reg_lambda': 1, 'gamma': 0, 'colsample_bytree': 0.85, 'subsample': 0.9, 'min_child_weight': 5, 'learning_rate': 0.1, 'n_estimators': 350}\n",
      "0.847 (+/-0.005) for {'max_depth': 9, 'reg_lambda': 1, 'gamma': 0, 'colsample_bytree': 0.85, 'subsample': 0.9, 'min_child_weight': 6, 'learning_rate': 0.1, 'n_estimators': 350}\n",
      "0.846 (+/-0.002) for {'max_depth': 10, 'reg_lambda': 1, 'gamma': 0, 'colsample_bytree': 0.85, 'subsample': 0.9, 'min_child_weight': 4, 'learning_rate': 0.1, 'n_estimators': 350}\n",
      "0.848 (+/-0.005) for {'max_depth': 10, 'reg_lambda': 1, 'gamma': 0, 'colsample_bytree': 0.85, 'subsample': 0.9, 'min_child_weight': 5, 'learning_rate': 0.1, 'n_estimators': 350}\n",
      "0.848 (+/-0.004) for {'max_depth': 10, 'reg_lambda': 1, 'gamma': 0, 'colsample_bytree': 0.85, 'subsample': 0.9, 'min_child_weight': 6, 'learning_rate': 0.1, 'n_estimators': 350}\n",
      "\n",
      "Best parameter set:\n",
      "{'max_depth': 10, 'reg_lambda': 1, 'gamma': 0, 'colsample_bytree': 0.85, 'subsample': 0.9, 'min_child_weight': 6, 'learning_rate': 0.1, 'n_estimators': 350}\n",
      "\n"
     ]
    }
   ],
   "source": [
    "K_folds = 3\n",
    "params = [{'max_depth': [7,8,9,10], 'min_child_weight':[4,5,6], 'learning_rate': [.1], 'n_estimators':[350], 'gamma':[0], 'subsample':[.9], 'colsample_bytree':[.85], 'reg_lambda':[1]}]\n",
    "crossvalidate_XGBoost(X_train, y_train, params, K_folds)"
   ]
  },
  {
   "cell_type": "markdown",
   "metadata": {},
   "source": [
    "Take second pass over other parameters. Search parameter space more narrowly and try to validate two parameters each time."
   ]
  },
  {
   "cell_type": "code",
   "execution_count": 3,
   "metadata": {
    "scrolled": true
   },
   "outputs": [
    {
     "name": "stdout",
     "output_type": "stream",
     "text": [
      "Fitting 3 folds for each of 25 candidates, totalling 75 fits\n",
      "[CV] colsample_bytree=0.8, max_depth=10, min_child_weight=6, gamma=0, n_estimators=350, learning_rate=0.1, subsample=0.85, reg_lambda=1 \n",
      "[CV] colsample_bytree=0.8, max_depth=10, min_child_weight=6, gamma=0, n_estimators=350, learning_rate=0.1, subsample=0.85, reg_lambda=1 \n",
      "[CV] colsample_bytree=0.8, max_depth=10, min_child_weight=6, gamma=0, n_estimators=350, learning_rate=0.1, subsample=0.85, reg_lambda=1 \n",
      "[CV] colsample_bytree=0.8, max_depth=10, min_child_weight=6, gamma=0, n_estimators=350, learning_rate=0.1, subsample=0.88, reg_lambda=1 \n",
      "[CV]  colsample_bytree=0.8, max_depth=10, min_child_weight=6, gamma=0, n_estimators=350, learning_rate=0.1, subsample=0.88, reg_lambda=1, total= 3.4min\n",
      "[CV] colsample_bytree=0.8, max_depth=10, min_child_weight=6, gamma=0, n_estimators=350, learning_rate=0.1, subsample=0.88, reg_lambda=1 \n",
      "[CV]  colsample_bytree=0.8, max_depth=10, min_child_weight=6, gamma=0, n_estimators=350, learning_rate=0.1, subsample=0.85, reg_lambda=1, total= 3.4min\n",
      "[CV] colsample_bytree=0.8, max_depth=10, min_child_weight=6, gamma=0, n_estimators=350, learning_rate=0.1, subsample=0.88, reg_lambda=1 \n",
      "[CV]  colsample_bytree=0.8, max_depth=10, min_child_weight=6, gamma=0, n_estimators=350, learning_rate=0.1, subsample=0.85, reg_lambda=1, total= 3.5min\n",
      "[CV] colsample_bytree=0.8, max_depth=10, min_child_weight=6, gamma=0, n_estimators=350, learning_rate=0.1, subsample=0.9, reg_lambda=1 \n",
      "[CV]  colsample_bytree=0.8, max_depth=10, min_child_weight=6, gamma=0, n_estimators=350, learning_rate=0.1, subsample=0.85, reg_lambda=1, total= 3.5min\n",
      "[CV] colsample_bytree=0.8, max_depth=10, min_child_weight=6, gamma=0, n_estimators=350, learning_rate=0.1, subsample=0.9, reg_lambda=1 \n",
      "[CV]  colsample_bytree=0.8, max_depth=10, min_child_weight=6, gamma=0, n_estimators=350, learning_rate=0.1, subsample=0.88, reg_lambda=1, total= 3.3min\n",
      "[CV] colsample_bytree=0.8, max_depth=10, min_child_weight=6, gamma=0, n_estimators=350, learning_rate=0.1, subsample=0.9, reg_lambda=1 \n",
      "[CV]  colsample_bytree=0.8, max_depth=10, min_child_weight=6, gamma=0, n_estimators=350, learning_rate=0.1, subsample=0.9, reg_lambda=1, total= 3.3min\n",
      "[CV] colsample_bytree=0.8, max_depth=10, min_child_weight=6, gamma=0, n_estimators=350, learning_rate=0.1, subsample=0.92, reg_lambda=1 \n",
      "[CV]  colsample_bytree=0.8, max_depth=10, min_child_weight=6, gamma=0, n_estimators=350, learning_rate=0.1, subsample=0.88, reg_lambda=1, total= 3.4min\n",
      "[CV] colsample_bytree=0.8, max_depth=10, min_child_weight=6, gamma=0, n_estimators=350, learning_rate=0.1, subsample=0.92, reg_lambda=1 \n",
      "[CV]  colsample_bytree=0.8, max_depth=10, min_child_weight=6, gamma=0, n_estimators=350, learning_rate=0.1, subsample=0.9, reg_lambda=1, total= 3.4min\n",
      "[CV] colsample_bytree=0.8, max_depth=10, min_child_weight=6, gamma=0, n_estimators=350, learning_rate=0.1, subsample=0.92, reg_lambda=1 \n",
      "[CV]  colsample_bytree=0.8, max_depth=10, min_child_weight=6, gamma=0, n_estimators=350, learning_rate=0.1, subsample=0.9, reg_lambda=1, total= 3.4min\n",
      "[CV] colsample_bytree=0.8, max_depth=10, min_child_weight=6, gamma=0, n_estimators=350, learning_rate=0.1, subsample=0.95, reg_lambda=1 \n",
      "[CV]  colsample_bytree=0.8, max_depth=10, min_child_weight=6, gamma=0, n_estimators=350, learning_rate=0.1, subsample=0.92, reg_lambda=1, total= 3.6min\n",
      "[CV] colsample_bytree=0.8, max_depth=10, min_child_weight=6, gamma=0, n_estimators=350, learning_rate=0.1, subsample=0.95, reg_lambda=1 \n",
      "[CV]  colsample_bytree=0.8, max_depth=10, min_child_weight=6, gamma=0, n_estimators=350, learning_rate=0.1, subsample=0.92, reg_lambda=1, total= 3.5min\n",
      "[CV] colsample_bytree=0.8, max_depth=10, min_child_weight=6, gamma=0, n_estimators=350, learning_rate=0.1, subsample=0.95, reg_lambda=1 \n",
      "[CV]  colsample_bytree=0.8, max_depth=10, min_child_weight=6, gamma=0, n_estimators=350, learning_rate=0.1, subsample=0.92, reg_lambda=1, total= 3.7min\n",
      "[CV] colsample_bytree=0.83, max_depth=10, min_child_weight=6, gamma=0, n_estimators=350, learning_rate=0.1, subsample=0.85, reg_lambda=1 \n",
      "[CV]  colsample_bytree=0.8, max_depth=10, min_child_weight=6, gamma=0, n_estimators=350, learning_rate=0.1, subsample=0.95, reg_lambda=1, total= 3.5min\n",
      "[CV] colsample_bytree=0.83, max_depth=10, min_child_weight=6, gamma=0, n_estimators=350, learning_rate=0.1, subsample=0.85, reg_lambda=1 \n",
      "[CV]  colsample_bytree=0.8, max_depth=10, min_child_weight=6, gamma=0, n_estimators=350, learning_rate=0.1, subsample=0.95, reg_lambda=1, total= 3.5min\n",
      "[CV] colsample_bytree=0.83, max_depth=10, min_child_weight=6, gamma=0, n_estimators=350, learning_rate=0.1, subsample=0.85, reg_lambda=1 \n",
      "[CV]  colsample_bytree=0.8, max_depth=10, min_child_weight=6, gamma=0, n_estimators=350, learning_rate=0.1, subsample=0.95, reg_lambda=1, total= 3.6min\n",
      "[CV] colsample_bytree=0.83, max_depth=10, min_child_weight=6, gamma=0, n_estimators=350, learning_rate=0.1, subsample=0.88, reg_lambda=1 \n",
      "[CV]  colsample_bytree=0.83, max_depth=10, min_child_weight=6, gamma=0, n_estimators=350, learning_rate=0.1, subsample=0.85, reg_lambda=1, total= 3.8min\n",
      "[CV] colsample_bytree=0.83, max_depth=10, min_child_weight=6, gamma=0, n_estimators=350, learning_rate=0.1, subsample=0.88, reg_lambda=1 \n",
      "[CV]  colsample_bytree=0.83, max_depth=10, min_child_weight=6, gamma=0, n_estimators=350, learning_rate=0.1, subsample=0.85, reg_lambda=1, total= 3.7min\n",
      "[CV] colsample_bytree=0.83, max_depth=10, min_child_weight=6, gamma=0, n_estimators=350, learning_rate=0.1, subsample=0.88, reg_lambda=1 \n",
      "[CV]  colsample_bytree=0.83, max_depth=10, min_child_weight=6, gamma=0, n_estimators=350, learning_rate=0.1, subsample=0.85, reg_lambda=1, total= 3.7min\n",
      "[CV] colsample_bytree=0.83, max_depth=10, min_child_weight=6, gamma=0, n_estimators=350, learning_rate=0.1, subsample=0.9, reg_lambda=1 \n",
      "[CV]  colsample_bytree=0.83, max_depth=10, min_child_weight=6, gamma=0, n_estimators=350, learning_rate=0.1, subsample=0.88, reg_lambda=1, total= 3.7min\n",
      "[CV] colsample_bytree=0.83, max_depth=10, min_child_weight=6, gamma=0, n_estimators=350, learning_rate=0.1, subsample=0.9, reg_lambda=1 \n",
      "[CV]  colsample_bytree=0.83, max_depth=10, min_child_weight=6, gamma=0, n_estimators=350, learning_rate=0.1, subsample=0.88, reg_lambda=1, total= 3.5min\n",
      "[CV] colsample_bytree=0.83, max_depth=10, min_child_weight=6, gamma=0, n_estimators=350, learning_rate=0.1, subsample=0.9, reg_lambda=1 \n",
      "[CV]  colsample_bytree=0.83, max_depth=10, min_child_weight=6, gamma=0, n_estimators=350, learning_rate=0.1, subsample=0.88, reg_lambda=1, total= 3.4min\n",
      "[CV] colsample_bytree=0.83, max_depth=10, min_child_weight=6, gamma=0, n_estimators=350, learning_rate=0.1, subsample=0.92, reg_lambda=1 \n",
      "[CV]  colsample_bytree=0.83, max_depth=10, min_child_weight=6, gamma=0, n_estimators=350, learning_rate=0.1, subsample=0.9, reg_lambda=1, total= 3.4min\n",
      "[CV] colsample_bytree=0.83, max_depth=10, min_child_weight=6, gamma=0, n_estimators=350, learning_rate=0.1, subsample=0.92, reg_lambda=1 \n",
      "[CV]  colsample_bytree=0.83, max_depth=10, min_child_weight=6, gamma=0, n_estimators=350, learning_rate=0.1, subsample=0.9, reg_lambda=1, total= 3.4min\n",
      "[CV] colsample_bytree=0.83, max_depth=10, min_child_weight=6, gamma=0, n_estimators=350, learning_rate=0.1, subsample=0.92, reg_lambda=1 \n",
      "[CV]  colsample_bytree=0.83, max_depth=10, min_child_weight=6, gamma=0, n_estimators=350, learning_rate=0.1, subsample=0.9, reg_lambda=1, total= 3.4min\n",
      "[CV] colsample_bytree=0.83, max_depth=10, min_child_weight=6, gamma=0, n_estimators=350, learning_rate=0.1, subsample=0.95, reg_lambda=1 \n",
      "[CV]  colsample_bytree=0.83, max_depth=10, min_child_weight=6, gamma=0, n_estimators=350, learning_rate=0.1, subsample=0.92, reg_lambda=1, total= 3.3min\n",
      "[CV] colsample_bytree=0.83, max_depth=10, min_child_weight=6, gamma=0, n_estimators=350, learning_rate=0.1, subsample=0.95, reg_lambda=1 \n",
      "[CV]  colsample_bytree=0.83, max_depth=10, min_child_weight=6, gamma=0, n_estimators=350, learning_rate=0.1, subsample=0.92, reg_lambda=1, total= 3.3min\n",
      "[CV] colsample_bytree=0.83, max_depth=10, min_child_weight=6, gamma=0, n_estimators=350, learning_rate=0.1, subsample=0.95, reg_lambda=1 \n",
      "[CV]  colsample_bytree=0.83, max_depth=10, min_child_weight=6, gamma=0, n_estimators=350, learning_rate=0.1, subsample=0.92, reg_lambda=1, total= 3.4min\n"
     ]
    },
    {
     "name": "stdout",
     "output_type": "stream",
     "text": [
      "[CV] colsample_bytree=0.85, max_depth=10, min_child_weight=6, gamma=0, n_estimators=350, learning_rate=0.1, subsample=0.85, reg_lambda=1 \n",
      "[CV]  colsample_bytree=0.83, max_depth=10, min_child_weight=6, gamma=0, n_estimators=350, learning_rate=0.1, subsample=0.95, reg_lambda=1, total= 3.3min\n",
      "[CV] colsample_bytree=0.85, max_depth=10, min_child_weight=6, gamma=0, n_estimators=350, learning_rate=0.1, subsample=0.85, reg_lambda=1 \n",
      "[CV]  colsample_bytree=0.83, max_depth=10, min_child_weight=6, gamma=0, n_estimators=350, learning_rate=0.1, subsample=0.95, reg_lambda=1, total= 3.2min\n",
      "[CV] colsample_bytree=0.85, max_depth=10, min_child_weight=6, gamma=0, n_estimators=350, learning_rate=0.1, subsample=0.85, reg_lambda=1 \n",
      "[CV]  colsample_bytree=0.83, max_depth=10, min_child_weight=6, gamma=0, n_estimators=350, learning_rate=0.1, subsample=0.95, reg_lambda=1, total= 3.2min\n",
      "[CV] colsample_bytree=0.85, max_depth=10, min_child_weight=6, gamma=0, n_estimators=350, learning_rate=0.1, subsample=0.88, reg_lambda=1 \n",
      "[CV]  colsample_bytree=0.85, max_depth=10, min_child_weight=6, gamma=0, n_estimators=350, learning_rate=0.1, subsample=0.85, reg_lambda=1, total= 3.6min\n",
      "[CV] colsample_bytree=0.85, max_depth=10, min_child_weight=6, gamma=0, n_estimators=350, learning_rate=0.1, subsample=0.88, reg_lambda=1 \n",
      "[CV]  colsample_bytree=0.85, max_depth=10, min_child_weight=6, gamma=0, n_estimators=350, learning_rate=0.1, subsample=0.85, reg_lambda=1, total= 3.6min\n",
      "[CV] colsample_bytree=0.85, max_depth=10, min_child_weight=6, gamma=0, n_estimators=350, learning_rate=0.1, subsample=0.88, reg_lambda=1 \n",
      "[CV]  colsample_bytree=0.85, max_depth=10, min_child_weight=6, gamma=0, n_estimators=350, learning_rate=0.1, subsample=0.85, reg_lambda=1, total= 3.7min\n",
      "[CV] colsample_bytree=0.85, max_depth=10, min_child_weight=6, gamma=0, n_estimators=350, learning_rate=0.1, subsample=0.9, reg_lambda=1 \n"
     ]
    },
    {
     "name": "stderr",
     "output_type": "stream",
     "text": [
      "[Parallel(n_jobs=4)]: Done  33 tasks      | elapsed: 31.2min\n"
     ]
    },
    {
     "name": "stdout",
     "output_type": "stream",
     "text": [
      "[CV]  colsample_bytree=0.85, max_depth=10, min_child_weight=6, gamma=0, n_estimators=350, learning_rate=0.1, subsample=0.88, reg_lambda=1, total= 3.6min\n",
      "[CV] colsample_bytree=0.85, max_depth=10, min_child_weight=6, gamma=0, n_estimators=350, learning_rate=0.1, subsample=0.9, reg_lambda=1 \n",
      "[CV]  colsample_bytree=0.85, max_depth=10, min_child_weight=6, gamma=0, n_estimators=350, learning_rate=0.1, subsample=0.88, reg_lambda=1, total= 3.6min\n",
      "[CV] colsample_bytree=0.85, max_depth=10, min_child_weight=6, gamma=0, n_estimators=350, learning_rate=0.1, subsample=0.9, reg_lambda=1 \n",
      "[CV]  colsample_bytree=0.85, max_depth=10, min_child_weight=6, gamma=0, n_estimators=350, learning_rate=0.1, subsample=0.88, reg_lambda=1, total= 3.6min\n",
      "[CV] colsample_bytree=0.85, max_depth=10, min_child_weight=6, gamma=0, n_estimators=350, learning_rate=0.1, subsample=0.92, reg_lambda=1 \n",
      "[CV]  colsample_bytree=0.85, max_depth=10, min_child_weight=6, gamma=0, n_estimators=350, learning_rate=0.1, subsample=0.9, reg_lambda=1, total= 3.7min\n",
      "[CV] colsample_bytree=0.85, max_depth=10, min_child_weight=6, gamma=0, n_estimators=350, learning_rate=0.1, subsample=0.92, reg_lambda=1 \n",
      "[CV]  colsample_bytree=0.85, max_depth=10, min_child_weight=6, gamma=0, n_estimators=350, learning_rate=0.1, subsample=0.9, reg_lambda=1, total= 3.7min\n",
      "[CV] colsample_bytree=0.85, max_depth=10, min_child_weight=6, gamma=0, n_estimators=350, learning_rate=0.1, subsample=0.92, reg_lambda=1 \n",
      "[CV]  colsample_bytree=0.85, max_depth=10, min_child_weight=6, gamma=0, n_estimators=350, learning_rate=0.1, subsample=0.9, reg_lambda=1, total= 3.6min\n",
      "[CV] colsample_bytree=0.85, max_depth=10, min_child_weight=6, gamma=0, n_estimators=350, learning_rate=0.1, subsample=0.95, reg_lambda=1 \n",
      "[CV]  colsample_bytree=0.85, max_depth=10, min_child_weight=6, gamma=0, n_estimators=350, learning_rate=0.1, subsample=0.92, reg_lambda=1, total= 3.5min\n",
      "[CV] colsample_bytree=0.85, max_depth=10, min_child_weight=6, gamma=0, n_estimators=350, learning_rate=0.1, subsample=0.95, reg_lambda=1 \n",
      "[CV]  colsample_bytree=0.85, max_depth=10, min_child_weight=6, gamma=0, n_estimators=350, learning_rate=0.1, subsample=0.92, reg_lambda=1, total= 3.4min\n",
      "[CV] colsample_bytree=0.85, max_depth=10, min_child_weight=6, gamma=0, n_estimators=350, learning_rate=0.1, subsample=0.95, reg_lambda=1 \n",
      "[CV]  colsample_bytree=0.85, max_depth=10, min_child_weight=6, gamma=0, n_estimators=350, learning_rate=0.1, subsample=0.92, reg_lambda=1, total= 3.4min\n",
      "[CV] colsample_bytree=0.87, max_depth=10, min_child_weight=6, gamma=0, n_estimators=350, learning_rate=0.1, subsample=0.85, reg_lambda=1 \n",
      "[CV]  colsample_bytree=0.85, max_depth=10, min_child_weight=6, gamma=0, n_estimators=350, learning_rate=0.1, subsample=0.95, reg_lambda=1, total= 3.4min\n",
      "[CV] colsample_bytree=0.87, max_depth=10, min_child_weight=6, gamma=0, n_estimators=350, learning_rate=0.1, subsample=0.85, reg_lambda=1 \n",
      "[CV]  colsample_bytree=0.85, max_depth=10, min_child_weight=6, gamma=0, n_estimators=350, learning_rate=0.1, subsample=0.95, reg_lambda=1, total= 3.4min\n",
      "[CV] colsample_bytree=0.87, max_depth=10, min_child_weight=6, gamma=0, n_estimators=350, learning_rate=0.1, subsample=0.85, reg_lambda=1 \n",
      "[CV]  colsample_bytree=0.85, max_depth=10, min_child_weight=6, gamma=0, n_estimators=350, learning_rate=0.1, subsample=0.95, reg_lambda=1, total= 3.3min\n",
      "[CV] colsample_bytree=0.87, max_depth=10, min_child_weight=6, gamma=0, n_estimators=350, learning_rate=0.1, subsample=0.88, reg_lambda=1 \n",
      "[CV]  colsample_bytree=0.87, max_depth=10, min_child_weight=6, gamma=0, n_estimators=350, learning_rate=0.1, subsample=0.85, reg_lambda=1, total= 3.6min\n",
      "[CV] colsample_bytree=0.87, max_depth=10, min_child_weight=6, gamma=0, n_estimators=350, learning_rate=0.1, subsample=0.88, reg_lambda=1 \n",
      "[CV]  colsample_bytree=0.87, max_depth=10, min_child_weight=6, gamma=0, n_estimators=350, learning_rate=0.1, subsample=0.85, reg_lambda=1, total= 3.7min\n",
      "[CV] colsample_bytree=0.87, max_depth=10, min_child_weight=6, gamma=0, n_estimators=350, learning_rate=0.1, subsample=0.88, reg_lambda=1 \n",
      "[CV]  colsample_bytree=0.87, max_depth=10, min_child_weight=6, gamma=0, n_estimators=350, learning_rate=0.1, subsample=0.85, reg_lambda=1, total= 3.7min\n",
      "[CV] colsample_bytree=0.87, max_depth=10, min_child_weight=6, gamma=0, n_estimators=350, learning_rate=0.1, subsample=0.9, reg_lambda=1 \n",
      "[CV]  colsample_bytree=0.87, max_depth=10, min_child_weight=6, gamma=0, n_estimators=350, learning_rate=0.1, subsample=0.88, reg_lambda=1, total= 3.6min\n",
      "[CV] colsample_bytree=0.87, max_depth=10, min_child_weight=6, gamma=0, n_estimators=350, learning_rate=0.1, subsample=0.9, reg_lambda=1 \n",
      "[CV]  colsample_bytree=0.87, max_depth=10, min_child_weight=6, gamma=0, n_estimators=350, learning_rate=0.1, subsample=0.88, reg_lambda=1, total= 3.5min\n",
      "[CV] colsample_bytree=0.87, max_depth=10, min_child_weight=6, gamma=0, n_estimators=350, learning_rate=0.1, subsample=0.9, reg_lambda=1 \n",
      "[CV]  colsample_bytree=0.87, max_depth=10, min_child_weight=6, gamma=0, n_estimators=350, learning_rate=0.1, subsample=0.88, reg_lambda=1, total= 3.6min\n",
      "[CV] colsample_bytree=0.87, max_depth=10, min_child_weight=6, gamma=0, n_estimators=350, learning_rate=0.1, subsample=0.92, reg_lambda=1 \n",
      "[CV]  colsample_bytree=0.87, max_depth=10, min_child_weight=6, gamma=0, n_estimators=350, learning_rate=0.1, subsample=0.9, reg_lambda=1, total= 3.5min\n",
      "[CV] colsample_bytree=0.87, max_depth=10, min_child_weight=6, gamma=0, n_estimators=350, learning_rate=0.1, subsample=0.92, reg_lambda=1 \n",
      "[CV]  colsample_bytree=0.87, max_depth=10, min_child_weight=6, gamma=0, n_estimators=350, learning_rate=0.1, subsample=0.9, reg_lambda=1, total= 3.7min\n",
      "[CV] colsample_bytree=0.87, max_depth=10, min_child_weight=6, gamma=0, n_estimators=350, learning_rate=0.1, subsample=0.92, reg_lambda=1 \n",
      "[CV]  colsample_bytree=0.87, max_depth=10, min_child_weight=6, gamma=0, n_estimators=350, learning_rate=0.1, subsample=0.9, reg_lambda=1, total= 3.7min\n",
      "[CV] colsample_bytree=0.87, max_depth=10, min_child_weight=6, gamma=0, n_estimators=350, learning_rate=0.1, subsample=0.95, reg_lambda=1 \n",
      "[CV]  colsample_bytree=0.87, max_depth=10, min_child_weight=6, gamma=0, n_estimators=350, learning_rate=0.1, subsample=0.92, reg_lambda=1, total= 3.7min\n",
      "[CV] colsample_bytree=0.87, max_depth=10, min_child_weight=6, gamma=0, n_estimators=350, learning_rate=0.1, subsample=0.95, reg_lambda=1 \n",
      "[CV]  colsample_bytree=0.87, max_depth=10, min_child_weight=6, gamma=0, n_estimators=350, learning_rate=0.1, subsample=0.92, reg_lambda=1, total= 3.7min\n",
      "[CV] colsample_bytree=0.87, max_depth=10, min_child_weight=6, gamma=0, n_estimators=350, learning_rate=0.1, subsample=0.95, reg_lambda=1 \n",
      "[CV]  colsample_bytree=0.87, max_depth=10, min_child_weight=6, gamma=0, n_estimators=350, learning_rate=0.1, subsample=0.92, reg_lambda=1, total= 3.6min\n",
      "[CV] colsample_bytree=0.9, max_depth=10, min_child_weight=6, gamma=0, n_estimators=350, learning_rate=0.1, subsample=0.85, reg_lambda=1 \n",
      "[CV]  colsample_bytree=0.87, max_depth=10, min_child_weight=6, gamma=0, n_estimators=350, learning_rate=0.1, subsample=0.95, reg_lambda=1, total= 3.5min\n",
      "[CV] colsample_bytree=0.9, max_depth=10, min_child_weight=6, gamma=0, n_estimators=350, learning_rate=0.1, subsample=0.85, reg_lambda=1 \n",
      "[CV]  colsample_bytree=0.87, max_depth=10, min_child_weight=6, gamma=0, n_estimators=350, learning_rate=0.1, subsample=0.95, reg_lambda=1, total= 3.5min\n",
      "[CV] colsample_bytree=0.9, max_depth=10, min_child_weight=6, gamma=0, n_estimators=350, learning_rate=0.1, subsample=0.85, reg_lambda=1 \n",
      "[CV]  colsample_bytree=0.87, max_depth=10, min_child_weight=6, gamma=0, n_estimators=350, learning_rate=0.1, subsample=0.95, reg_lambda=1, total= 3.6min\n",
      "[CV] colsample_bytree=0.9, max_depth=10, min_child_weight=6, gamma=0, n_estimators=350, learning_rate=0.1, subsample=0.88, reg_lambda=1 \n",
      "[CV]  colsample_bytree=0.9, max_depth=10, min_child_weight=6, gamma=0, n_estimators=350, learning_rate=0.1, subsample=0.85, reg_lambda=1, total= 3.9min\n",
      "[CV] colsample_bytree=0.9, max_depth=10, min_child_weight=6, gamma=0, n_estimators=350, learning_rate=0.1, subsample=0.88, reg_lambda=1 \n",
      "[CV]  colsample_bytree=0.9, max_depth=10, min_child_weight=6, gamma=0, n_estimators=350, learning_rate=0.1, subsample=0.85, reg_lambda=1, total= 3.9min\n"
     ]
    },
    {
     "name": "stdout",
     "output_type": "stream",
     "text": [
      "[CV] colsample_bytree=0.9, max_depth=10, min_child_weight=6, gamma=0, n_estimators=350, learning_rate=0.1, subsample=0.88, reg_lambda=1 \n",
      "[CV]  colsample_bytree=0.9, max_depth=10, min_child_weight=6, gamma=0, n_estimators=350, learning_rate=0.1, subsample=0.88, reg_lambda=1, total= 3.8min\n",
      "[CV] colsample_bytree=0.9, max_depth=10, min_child_weight=6, gamma=0, n_estimators=350, learning_rate=0.1, subsample=0.9, reg_lambda=1 \n",
      "[CV]  colsample_bytree=0.9, max_depth=10, min_child_weight=6, gamma=0, n_estimators=350, learning_rate=0.1, subsample=0.85, reg_lambda=1, total= 4.0min\n",
      "[CV] colsample_bytree=0.9, max_depth=10, min_child_weight=6, gamma=0, n_estimators=350, learning_rate=0.1, subsample=0.9, reg_lambda=1 \n",
      "[CV]  colsample_bytree=0.9, max_depth=10, min_child_weight=6, gamma=0, n_estimators=350, learning_rate=0.1, subsample=0.88, reg_lambda=1, total= 3.8min\n",
      "[CV] colsample_bytree=0.9, max_depth=10, min_child_weight=6, gamma=0, n_estimators=350, learning_rate=0.1, subsample=0.9, reg_lambda=1 \n",
      "[CV]  colsample_bytree=0.9, max_depth=10, min_child_weight=6, gamma=0, n_estimators=350, learning_rate=0.1, subsample=0.88, reg_lambda=1, total= 3.8min\n",
      "[CV] colsample_bytree=0.9, max_depth=10, min_child_weight=6, gamma=0, n_estimators=350, learning_rate=0.1, subsample=0.92, reg_lambda=1 \n",
      "[CV]  colsample_bytree=0.9, max_depth=10, min_child_weight=6, gamma=0, n_estimators=350, learning_rate=0.1, subsample=0.9, reg_lambda=1, total= 3.7min\n",
      "[CV] colsample_bytree=0.9, max_depth=10, min_child_weight=6, gamma=0, n_estimators=350, learning_rate=0.1, subsample=0.92, reg_lambda=1 \n",
      "[CV]  colsample_bytree=0.9, max_depth=10, min_child_weight=6, gamma=0, n_estimators=350, learning_rate=0.1, subsample=0.9, reg_lambda=1, total= 3.7min\n",
      "[CV] colsample_bytree=0.9, max_depth=10, min_child_weight=6, gamma=0, n_estimators=350, learning_rate=0.1, subsample=0.92, reg_lambda=1 \n",
      "[CV]  colsample_bytree=0.9, max_depth=10, min_child_weight=6, gamma=0, n_estimators=350, learning_rate=0.1, subsample=0.9, reg_lambda=1, total= 3.8min\n",
      "[CV] colsample_bytree=0.9, max_depth=10, min_child_weight=6, gamma=0, n_estimators=350, learning_rate=0.1, subsample=0.95, reg_lambda=1 \n",
      "[CV]  colsample_bytree=0.9, max_depth=10, min_child_weight=6, gamma=0, n_estimators=350, learning_rate=0.1, subsample=0.92, reg_lambda=1, total= 3.6min\n",
      "[CV] colsample_bytree=0.9, max_depth=10, min_child_weight=6, gamma=0, n_estimators=350, learning_rate=0.1, subsample=0.95, reg_lambda=1 \n",
      "[CV]  colsample_bytree=0.9, max_depth=10, min_child_weight=6, gamma=0, n_estimators=350, learning_rate=0.1, subsample=0.92, reg_lambda=1, total= 3.6min\n",
      "[CV] colsample_bytree=0.9, max_depth=10, min_child_weight=6, gamma=0, n_estimators=350, learning_rate=0.1, subsample=0.95, reg_lambda=1 \n",
      "[CV]  colsample_bytree=0.9, max_depth=10, min_child_weight=6, gamma=0, n_estimators=350, learning_rate=0.1, subsample=0.92, reg_lambda=1, total= 3.6min\n",
      "[CV]  colsample_bytree=0.9, max_depth=10, min_child_weight=6, gamma=0, n_estimators=350, learning_rate=0.1, subsample=0.95, reg_lambda=1, total= 3.4min\n",
      "[CV]  colsample_bytree=0.9, max_depth=10, min_child_weight=6, gamma=0, n_estimators=350, learning_rate=0.1, subsample=0.95, reg_lambda=1, total= 3.5min\n",
      "[CV]  colsample_bytree=0.9, max_depth=10, min_child_weight=6, gamma=0, n_estimators=350, learning_rate=0.1, subsample=0.95, reg_lambda=1, total= 3.5min\n"
     ]
    },
    {
     "name": "stderr",
     "output_type": "stream",
     "text": [
      "[Parallel(n_jobs=4)]: Done  75 out of  75 | elapsed: 67.9min finished\n"
     ]
    },
    {
     "name": "stdout",
     "output_type": "stream",
     "text": [
      "Cross-validation Training Time =  4361.710444927216\n",
      "\n",
      "Grid scores:\n",
      "\n",
      "0.845 (+/-0.003) for {'n_estimators': 350, 'max_depth': 10, 'min_child_weight': 6, 'learning_rate': 0.1, 'colsample_bytree': 0.8, 'gamma': 0, 'subsample': 0.85, 'reg_lambda': 1}\n",
      "0.847 (+/-0.006) for {'n_estimators': 350, 'max_depth': 10, 'min_child_weight': 6, 'learning_rate': 0.1, 'colsample_bytree': 0.8, 'gamma': 0, 'subsample': 0.88, 'reg_lambda': 1}\n",
      "0.847 (+/-0.005) for {'n_estimators': 350, 'max_depth': 10, 'min_child_weight': 6, 'learning_rate': 0.1, 'colsample_bytree': 0.8, 'gamma': 0, 'subsample': 0.9, 'reg_lambda': 1}\n",
      "0.847 (+/-0.004) for {'n_estimators': 350, 'max_depth': 10, 'min_child_weight': 6, 'learning_rate': 0.1, 'colsample_bytree': 0.8, 'gamma': 0, 'subsample': 0.92, 'reg_lambda': 1}\n",
      "0.848 (+/-0.003) for {'n_estimators': 350, 'max_depth': 10, 'min_child_weight': 6, 'learning_rate': 0.1, 'colsample_bytree': 0.8, 'gamma': 0, 'subsample': 0.95, 'reg_lambda': 1}\n",
      "0.846 (+/-0.008) for {'n_estimators': 350, 'max_depth': 10, 'min_child_weight': 6, 'learning_rate': 0.1, 'colsample_bytree': 0.83, 'gamma': 0, 'subsample': 0.85, 'reg_lambda': 1}\n",
      "0.849 (+/-0.006) for {'n_estimators': 350, 'max_depth': 10, 'min_child_weight': 6, 'learning_rate': 0.1, 'colsample_bytree': 0.83, 'gamma': 0, 'subsample': 0.88, 'reg_lambda': 1}\n",
      "0.848 (+/-0.009) for {'n_estimators': 350, 'max_depth': 10, 'min_child_weight': 6, 'learning_rate': 0.1, 'colsample_bytree': 0.83, 'gamma': 0, 'subsample': 0.9, 'reg_lambda': 1}\n",
      "0.847 (+/-0.004) for {'n_estimators': 350, 'max_depth': 10, 'min_child_weight': 6, 'learning_rate': 0.1, 'colsample_bytree': 0.83, 'gamma': 0, 'subsample': 0.92, 'reg_lambda': 1}\n",
      "0.846 (+/-0.004) for {'n_estimators': 350, 'max_depth': 10, 'min_child_weight': 6, 'learning_rate': 0.1, 'colsample_bytree': 0.83, 'gamma': 0, 'subsample': 0.95, 'reg_lambda': 1}\n",
      "0.847 (+/-0.008) for {'n_estimators': 350, 'max_depth': 10, 'min_child_weight': 6, 'learning_rate': 0.1, 'colsample_bytree': 0.85, 'gamma': 0, 'subsample': 0.85, 'reg_lambda': 1}\n",
      "0.846 (+/-0.005) for {'n_estimators': 350, 'max_depth': 10, 'min_child_weight': 6, 'learning_rate': 0.1, 'colsample_bytree': 0.85, 'gamma': 0, 'subsample': 0.88, 'reg_lambda': 1}\n",
      "0.848 (+/-0.004) for {'n_estimators': 350, 'max_depth': 10, 'min_child_weight': 6, 'learning_rate': 0.1, 'colsample_bytree': 0.85, 'gamma': 0, 'subsample': 0.9, 'reg_lambda': 1}\n",
      "0.847 (+/-0.007) for {'n_estimators': 350, 'max_depth': 10, 'min_child_weight': 6, 'learning_rate': 0.1, 'colsample_bytree': 0.85, 'gamma': 0, 'subsample': 0.92, 'reg_lambda': 1}\n",
      "0.847 (+/-0.004) for {'n_estimators': 350, 'max_depth': 10, 'min_child_weight': 6, 'learning_rate': 0.1, 'colsample_bytree': 0.85, 'gamma': 0, 'subsample': 0.95, 'reg_lambda': 1}\n",
      "0.847 (+/-0.009) for {'n_estimators': 350, 'max_depth': 10, 'min_child_weight': 6, 'learning_rate': 0.1, 'colsample_bytree': 0.87, 'gamma': 0, 'subsample': 0.85, 'reg_lambda': 1}\n",
      "0.846 (+/-0.005) for {'n_estimators': 350, 'max_depth': 10, 'min_child_weight': 6, 'learning_rate': 0.1, 'colsample_bytree': 0.87, 'gamma': 0, 'subsample': 0.88, 'reg_lambda': 1}\n",
      "0.846 (+/-0.004) for {'n_estimators': 350, 'max_depth': 10, 'min_child_weight': 6, 'learning_rate': 0.1, 'colsample_bytree': 0.87, 'gamma': 0, 'subsample': 0.9, 'reg_lambda': 1}\n",
      "0.849 (+/-0.005) for {'n_estimators': 350, 'max_depth': 10, 'min_child_weight': 6, 'learning_rate': 0.1, 'colsample_bytree': 0.87, 'gamma': 0, 'subsample': 0.92, 'reg_lambda': 1}\n",
      "0.846 (+/-0.009) for {'n_estimators': 350, 'max_depth': 10, 'min_child_weight': 6, 'learning_rate': 0.1, 'colsample_bytree': 0.87, 'gamma': 0, 'subsample': 0.95, 'reg_lambda': 1}\n",
      "0.846 (+/-0.005) for {'n_estimators': 350, 'max_depth': 10, 'min_child_weight': 6, 'learning_rate': 0.1, 'colsample_bytree': 0.9, 'gamma': 0, 'subsample': 0.85, 'reg_lambda': 1}\n",
      "0.848 (+/-0.005) for {'n_estimators': 350, 'max_depth': 10, 'min_child_weight': 6, 'learning_rate': 0.1, 'colsample_bytree': 0.9, 'gamma': 0, 'subsample': 0.88, 'reg_lambda': 1}\n",
      "0.847 (+/-0.005) for {'n_estimators': 350, 'max_depth': 10, 'min_child_weight': 6, 'learning_rate': 0.1, 'colsample_bytree': 0.9, 'gamma': 0, 'subsample': 0.9, 'reg_lambda': 1}\n",
      "0.847 (+/-0.008) for {'n_estimators': 350, 'max_depth': 10, 'min_child_weight': 6, 'learning_rate': 0.1, 'colsample_bytree': 0.9, 'gamma': 0, 'subsample': 0.92, 'reg_lambda': 1}\n",
      "0.848 (+/-0.008) for {'n_estimators': 350, 'max_depth': 10, 'min_child_weight': 6, 'learning_rate': 0.1, 'colsample_bytree': 0.9, 'gamma': 0, 'subsample': 0.95, 'reg_lambda': 1}\n",
      "\n",
      "Best parameter set:\n",
      "{'n_estimators': 350, 'max_depth': 10, 'min_child_weight': 6, 'learning_rate': 0.1, 'colsample_bytree': 0.83, 'gamma': 0, 'subsample': 0.88, 'reg_lambda': 1}\n",
      "\n"
     ]
    }
   ],
   "source": [
    "K_folds = 3\n",
    "params = [{'max_depth': [10], 'min_child_weight':[6], 'learning_rate': [.1], 'n_estimators':[350], 'gamma':[0], 'subsample':[.85,.88,.9,.92,.95], 'colsample_bytree':[.80,.83,.85,.87,.90], 'reg_lambda':[1]}]\n",
    "crossvalidate_XGBoost(X_train, y_train, params, K_folds)"
   ]
  },
  {
   "cell_type": "code",
   "execution_count": 4,
   "metadata": {
    "scrolled": true
   },
   "outputs": [
    {
     "name": "stdout",
     "output_type": "stream",
     "text": [
      "Fitting 3 folds for each of 25 candidates, totalling 75 fits\n",
      "[CV] colsample_bytree=0.83, max_depth=10, min_child_weight=6, gamma=0, n_estimators=350, learning_rate=0.1, subsample=0.88, reg_lambda=0.01 \n",
      "[CV] colsample_bytree=0.83, max_depth=10, min_child_weight=6, gamma=0, n_estimators=350, learning_rate=0.1, subsample=0.88, reg_lambda=0.01 \n",
      "[CV] colsample_bytree=0.83, max_depth=10, min_child_weight=6, gamma=0, n_estimators=350, learning_rate=0.1, subsample=0.88, reg_lambda=0.01 \n",
      "[CV] colsample_bytree=0.83, max_depth=10, min_child_weight=6, gamma=0, n_estimators=350, learning_rate=0.1, subsample=0.88, reg_lambda=0.05 \n",
      "[CV]  colsample_bytree=0.83, max_depth=10, min_child_weight=6, gamma=0, n_estimators=350, learning_rate=0.1, subsample=0.88, reg_lambda=0.01, total= 3.4min\n",
      "[CV] colsample_bytree=0.83, max_depth=10, min_child_weight=6, gamma=0, n_estimators=350, learning_rate=0.1, subsample=0.88, reg_lambda=0.05 \n",
      "[CV]  colsample_bytree=0.83, max_depth=10, min_child_weight=6, gamma=0, n_estimators=350, learning_rate=0.1, subsample=0.88, reg_lambda=0.05, total= 3.4min\n",
      "[CV] colsample_bytree=0.83, max_depth=10, min_child_weight=6, gamma=0, n_estimators=350, learning_rate=0.1, subsample=0.88, reg_lambda=0.05 \n",
      "[CV]  colsample_bytree=0.83, max_depth=10, min_child_weight=6, gamma=0, n_estimators=350, learning_rate=0.1, subsample=0.88, reg_lambda=0.01, total= 3.4min\n",
      "[CV] colsample_bytree=0.83, max_depth=10, min_child_weight=6, gamma=0, n_estimators=350, learning_rate=0.1, subsample=0.88, reg_lambda=0.1 \n",
      "[CV]  colsample_bytree=0.83, max_depth=10, min_child_weight=6, gamma=0, n_estimators=350, learning_rate=0.1, subsample=0.88, reg_lambda=0.01, total= 3.5min\n",
      "[CV] colsample_bytree=0.83, max_depth=10, min_child_weight=6, gamma=0, n_estimators=350, learning_rate=0.1, subsample=0.88, reg_lambda=0.1 \n",
      "[CV]  colsample_bytree=0.83, max_depth=10, min_child_weight=6, gamma=0, n_estimators=350, learning_rate=0.1, subsample=0.88, reg_lambda=0.05, total= 3.4min\n",
      "[CV] colsample_bytree=0.83, max_depth=10, min_child_weight=6, gamma=0, n_estimators=350, learning_rate=0.1, subsample=0.88, reg_lambda=0.1 \n",
      "[CV]  colsample_bytree=0.83, max_depth=10, min_child_weight=6, gamma=0, n_estimators=350, learning_rate=0.1, subsample=0.88, reg_lambda=0.05, total= 3.4min\n",
      "[CV] colsample_bytree=0.83, max_depth=10, min_child_weight=6, gamma=0, n_estimators=350, learning_rate=0.1, subsample=0.88, reg_lambda=0.5 \n",
      "[CV]  colsample_bytree=0.83, max_depth=10, min_child_weight=6, gamma=0, n_estimators=350, learning_rate=0.1, subsample=0.88, reg_lambda=0.1, total= 3.4min\n",
      "[CV] colsample_bytree=0.83, max_depth=10, min_child_weight=6, gamma=0, n_estimators=350, learning_rate=0.1, subsample=0.88, reg_lambda=0.5 \n",
      "[CV]  colsample_bytree=0.83, max_depth=10, min_child_weight=6, gamma=0, n_estimators=350, learning_rate=0.1, subsample=0.88, reg_lambda=0.1, total= 3.4min\n",
      "[CV] colsample_bytree=0.83, max_depth=10, min_child_weight=6, gamma=0, n_estimators=350, learning_rate=0.1, subsample=0.88, reg_lambda=0.5 \n",
      "[CV]  colsample_bytree=0.83, max_depth=10, min_child_weight=6, gamma=0, n_estimators=350, learning_rate=0.1, subsample=0.88, reg_lambda=0.1, total= 3.4min\n",
      "[CV] colsample_bytree=0.83, max_depth=10, min_child_weight=6, gamma=0, n_estimators=350, learning_rate=0.1, subsample=0.88, reg_lambda=1 \n",
      "[CV]  colsample_bytree=0.83, max_depth=10, min_child_weight=6, gamma=0, n_estimators=350, learning_rate=0.1, subsample=0.88, reg_lambda=0.5, total= 3.4min\n",
      "[CV] colsample_bytree=0.83, max_depth=10, min_child_weight=6, gamma=0, n_estimators=350, learning_rate=0.1, subsample=0.88, reg_lambda=1 \n",
      "[CV]  colsample_bytree=0.83, max_depth=10, min_child_weight=6, gamma=0, n_estimators=350, learning_rate=0.1, subsample=0.88, reg_lambda=0.5, total= 3.3min\n",
      "[CV] colsample_bytree=0.83, max_depth=10, min_child_weight=6, gamma=0, n_estimators=350, learning_rate=0.1, subsample=0.88, reg_lambda=1 \n",
      "[CV]  colsample_bytree=0.83, max_depth=10, min_child_weight=6, gamma=0, n_estimators=350, learning_rate=0.1, subsample=0.88, reg_lambda=0.5, total= 3.4min\n",
      "[CV] colsample_bytree=0.83, max_depth=10, min_child_weight=6, gamma=0.05, n_estimators=350, learning_rate=0.1, subsample=0.88, reg_lambda=0.01 \n",
      "[CV]  colsample_bytree=0.83, max_depth=10, min_child_weight=6, gamma=0, n_estimators=350, learning_rate=0.1, subsample=0.88, reg_lambda=1, total= 3.3min\n",
      "[CV] colsample_bytree=0.83, max_depth=10, min_child_weight=6, gamma=0.05, n_estimators=350, learning_rate=0.1, subsample=0.88, reg_lambda=0.01 \n",
      "[CV]  colsample_bytree=0.83, max_depth=10, min_child_weight=6, gamma=0, n_estimators=350, learning_rate=0.1, subsample=0.88, reg_lambda=1, total= 3.4min\n",
      "[CV] colsample_bytree=0.83, max_depth=10, min_child_weight=6, gamma=0.05, n_estimators=350, learning_rate=0.1, subsample=0.88, reg_lambda=0.01 \n",
      "[CV]  colsample_bytree=0.83, max_depth=10, min_child_weight=6, gamma=0, n_estimators=350, learning_rate=0.1, subsample=0.88, reg_lambda=1, total= 3.4min\n",
      "[CV] colsample_bytree=0.83, max_depth=10, min_child_weight=6, gamma=0.05, n_estimators=350, learning_rate=0.1, subsample=0.88, reg_lambda=0.05 \n",
      "[CV]  colsample_bytree=0.83, max_depth=10, min_child_weight=6, gamma=0.05, n_estimators=350, learning_rate=0.1, subsample=0.88, reg_lambda=0.01, total= 3.3min\n",
      "[CV] colsample_bytree=0.83, max_depth=10, min_child_weight=6, gamma=0.05, n_estimators=350, learning_rate=0.1, subsample=0.88, reg_lambda=0.05 \n",
      "[CV]  colsample_bytree=0.83, max_depth=10, min_child_weight=6, gamma=0.05, n_estimators=350, learning_rate=0.1, subsample=0.88, reg_lambda=0.01, total= 3.4min\n",
      "[CV] colsample_bytree=0.83, max_depth=10, min_child_weight=6, gamma=0.05, n_estimators=350, learning_rate=0.1, subsample=0.88, reg_lambda=0.05 \n",
      "[CV]  colsample_bytree=0.83, max_depth=10, min_child_weight=6, gamma=0.05, n_estimators=350, learning_rate=0.1, subsample=0.88, reg_lambda=0.05, total= 3.4min\n",
      "[CV] colsample_bytree=0.83, max_depth=10, min_child_weight=6, gamma=0.05, n_estimators=350, learning_rate=0.1, subsample=0.88, reg_lambda=0.1 \n",
      "[CV]  colsample_bytree=0.83, max_depth=10, min_child_weight=6, gamma=0.05, n_estimators=350, learning_rate=0.1, subsample=0.88, reg_lambda=0.01, total= 3.5min\n",
      "[CV] colsample_bytree=0.83, max_depth=10, min_child_weight=6, gamma=0.05, n_estimators=350, learning_rate=0.1, subsample=0.88, reg_lambda=0.1 \n",
      "[CV]  colsample_bytree=0.83, max_depth=10, min_child_weight=6, gamma=0.05, n_estimators=350, learning_rate=0.1, subsample=0.88, reg_lambda=0.05, total= 3.5min\n",
      "[CV] colsample_bytree=0.83, max_depth=10, min_child_weight=6, gamma=0.05, n_estimators=350, learning_rate=0.1, subsample=0.88, reg_lambda=0.1 \n",
      "[CV]  colsample_bytree=0.83, max_depth=10, min_child_weight=6, gamma=0.05, n_estimators=350, learning_rate=0.1, subsample=0.88, reg_lambda=0.05, total= 3.5min\n",
      "[CV] colsample_bytree=0.83, max_depth=10, min_child_weight=6, gamma=0.05, n_estimators=350, learning_rate=0.1, subsample=0.88, reg_lambda=0.5 \n",
      "[CV]  colsample_bytree=0.83, max_depth=10, min_child_weight=6, gamma=0.05, n_estimators=350, learning_rate=0.1, subsample=0.88, reg_lambda=0.1, total= 3.4min\n",
      "[CV] colsample_bytree=0.83, max_depth=10, min_child_weight=6, gamma=0.05, n_estimators=350, learning_rate=0.1, subsample=0.88, reg_lambda=0.5 \n",
      "[CV]  colsample_bytree=0.83, max_depth=10, min_child_weight=6, gamma=0.05, n_estimators=350, learning_rate=0.1, subsample=0.88, reg_lambda=0.1, total= 3.4min\n",
      "[CV] colsample_bytree=0.83, max_depth=10, min_child_weight=6, gamma=0.05, n_estimators=350, learning_rate=0.1, subsample=0.88, reg_lambda=0.5 \n",
      "[CV]  colsample_bytree=0.83, max_depth=10, min_child_weight=6, gamma=0.05, n_estimators=350, learning_rate=0.1, subsample=0.88, reg_lambda=0.1, total= 3.3min\n",
      "[CV] colsample_bytree=0.83, max_depth=10, min_child_weight=6, gamma=0.05, n_estimators=350, learning_rate=0.1, subsample=0.88, reg_lambda=1 \n",
      "[CV]  colsample_bytree=0.83, max_depth=10, min_child_weight=6, gamma=0.05, n_estimators=350, learning_rate=0.1, subsample=0.88, reg_lambda=0.5, total= 3.3min\n",
      "[CV] colsample_bytree=0.83, max_depth=10, min_child_weight=6, gamma=0.05, n_estimators=350, learning_rate=0.1, subsample=0.88, reg_lambda=1 \n",
      "[CV]  colsample_bytree=0.83, max_depth=10, min_child_weight=6, gamma=0.05, n_estimators=350, learning_rate=0.1, subsample=0.88, reg_lambda=0.5, total= 3.5min\n"
     ]
    },
    {
     "name": "stdout",
     "output_type": "stream",
     "text": [
      "[CV] colsample_bytree=0.83, max_depth=10, min_child_weight=6, gamma=0.05, n_estimators=350, learning_rate=0.1, subsample=0.88, reg_lambda=1 \n",
      "[CV]  colsample_bytree=0.83, max_depth=10, min_child_weight=6, gamma=0.05, n_estimators=350, learning_rate=0.1, subsample=0.88, reg_lambda=0.5, total= 3.4min\n",
      "[CV] colsample_bytree=0.83, max_depth=10, min_child_weight=6, gamma=0.1, n_estimators=350, learning_rate=0.1, subsample=0.88, reg_lambda=0.01 \n",
      "[CV]  colsample_bytree=0.83, max_depth=10, min_child_weight=6, gamma=0.05, n_estimators=350, learning_rate=0.1, subsample=0.88, reg_lambda=1, total= 3.4min\n",
      "[CV] colsample_bytree=0.83, max_depth=10, min_child_weight=6, gamma=0.1, n_estimators=350, learning_rate=0.1, subsample=0.88, reg_lambda=0.01 \n",
      "[CV]  colsample_bytree=0.83, max_depth=10, min_child_weight=6, gamma=0.05, n_estimators=350, learning_rate=0.1, subsample=0.88, reg_lambda=1, total= 3.3min\n",
      "[CV] colsample_bytree=0.83, max_depth=10, min_child_weight=6, gamma=0.1, n_estimators=350, learning_rate=0.1, subsample=0.88, reg_lambda=0.01 \n",
      "[CV]  colsample_bytree=0.83, max_depth=10, min_child_weight=6, gamma=0.1, n_estimators=350, learning_rate=0.1, subsample=0.88, reg_lambda=0.01, total= 3.4min\n",
      "[CV] colsample_bytree=0.83, max_depth=10, min_child_weight=6, gamma=0.1, n_estimators=350, learning_rate=0.1, subsample=0.88, reg_lambda=0.05 \n",
      "[CV]  colsample_bytree=0.83, max_depth=10, min_child_weight=6, gamma=0.05, n_estimators=350, learning_rate=0.1, subsample=0.88, reg_lambda=1, total= 3.4min\n",
      "[CV] colsample_bytree=0.83, max_depth=10, min_child_weight=6, gamma=0.1, n_estimators=350, learning_rate=0.1, subsample=0.88, reg_lambda=0.05 \n",
      "[CV]  colsample_bytree=0.83, max_depth=10, min_child_weight=6, gamma=0.1, n_estimators=350, learning_rate=0.1, subsample=0.88, reg_lambda=0.01, total= 3.4min\n",
      "[CV] colsample_bytree=0.83, max_depth=10, min_child_weight=6, gamma=0.1, n_estimators=350, learning_rate=0.1, subsample=0.88, reg_lambda=0.05 \n",
      "[CV]  colsample_bytree=0.83, max_depth=10, min_child_weight=6, gamma=0.1, n_estimators=350, learning_rate=0.1, subsample=0.88, reg_lambda=0.01, total= 3.4min\n",
      "[CV] colsample_bytree=0.83, max_depth=10, min_child_weight=6, gamma=0.1, n_estimators=350, learning_rate=0.1, subsample=0.88, reg_lambda=0.1 \n"
     ]
    },
    {
     "name": "stderr",
     "output_type": "stream",
     "text": [
      "[Parallel(n_jobs=4)]: Done  33 tasks      | elapsed: 30.5min\n"
     ]
    },
    {
     "name": "stdout",
     "output_type": "stream",
     "text": [
      "[CV]  colsample_bytree=0.83, max_depth=10, min_child_weight=6, gamma=0.1, n_estimators=350, learning_rate=0.1, subsample=0.88, reg_lambda=0.05, total= 3.3min\n",
      "[CV] colsample_bytree=0.83, max_depth=10, min_child_weight=6, gamma=0.1, n_estimators=350, learning_rate=0.1, subsample=0.88, reg_lambda=0.1 \n",
      "[CV]  colsample_bytree=0.83, max_depth=10, min_child_weight=6, gamma=0.1, n_estimators=350, learning_rate=0.1, subsample=0.88, reg_lambda=0.05, total= 3.4min\n",
      "[CV] colsample_bytree=0.83, max_depth=10, min_child_weight=6, gamma=0.1, n_estimators=350, learning_rate=0.1, subsample=0.88, reg_lambda=0.1 \n",
      "[CV]  colsample_bytree=0.83, max_depth=10, min_child_weight=6, gamma=0.1, n_estimators=350, learning_rate=0.1, subsample=0.88, reg_lambda=0.05, total= 3.3min\n",
      "[CV] colsample_bytree=0.83, max_depth=10, min_child_weight=6, gamma=0.1, n_estimators=350, learning_rate=0.1, subsample=0.88, reg_lambda=0.5 \n",
      "[CV]  colsample_bytree=0.83, max_depth=10, min_child_weight=6, gamma=0.1, n_estimators=350, learning_rate=0.1, subsample=0.88, reg_lambda=0.1, total= 3.3min\n",
      "[CV] colsample_bytree=0.83, max_depth=10, min_child_weight=6, gamma=0.1, n_estimators=350, learning_rate=0.1, subsample=0.88, reg_lambda=0.5 \n",
      "[CV]  colsample_bytree=0.83, max_depth=10, min_child_weight=6, gamma=0.1, n_estimators=350, learning_rate=0.1, subsample=0.88, reg_lambda=0.1, total= 3.4min\n",
      "[CV] colsample_bytree=0.83, max_depth=10, min_child_weight=6, gamma=0.1, n_estimators=350, learning_rate=0.1, subsample=0.88, reg_lambda=0.5 \n",
      "[CV]  colsample_bytree=0.83, max_depth=10, min_child_weight=6, gamma=0.1, n_estimators=350, learning_rate=0.1, subsample=0.88, reg_lambda=0.1, total= 3.4min\n",
      "[CV] colsample_bytree=0.83, max_depth=10, min_child_weight=6, gamma=0.1, n_estimators=350, learning_rate=0.1, subsample=0.88, reg_lambda=1 \n",
      "[CV]  colsample_bytree=0.83, max_depth=10, min_child_weight=6, gamma=0.1, n_estimators=350, learning_rate=0.1, subsample=0.88, reg_lambda=0.5, total= 3.4min\n",
      "[CV] colsample_bytree=0.83, max_depth=10, min_child_weight=6, gamma=0.1, n_estimators=350, learning_rate=0.1, subsample=0.88, reg_lambda=1 \n",
      "[CV]  colsample_bytree=0.83, max_depth=10, min_child_weight=6, gamma=0.1, n_estimators=350, learning_rate=0.1, subsample=0.88, reg_lambda=0.5, total= 3.4min\n",
      "[CV] colsample_bytree=0.83, max_depth=10, min_child_weight=6, gamma=0.1, n_estimators=350, learning_rate=0.1, subsample=0.88, reg_lambda=1 \n",
      "[CV]  colsample_bytree=0.83, max_depth=10, min_child_weight=6, gamma=0.1, n_estimators=350, learning_rate=0.1, subsample=0.88, reg_lambda=0.5, total= 3.3min\n",
      "[CV] colsample_bytree=0.83, max_depth=10, min_child_weight=6, gamma=0.15, n_estimators=350, learning_rate=0.1, subsample=0.88, reg_lambda=0.01 \n",
      "[CV]  colsample_bytree=0.83, max_depth=10, min_child_weight=6, gamma=0.1, n_estimators=350, learning_rate=0.1, subsample=0.88, reg_lambda=1, total= 3.4min\n",
      "[CV] colsample_bytree=0.83, max_depth=10, min_child_weight=6, gamma=0.15, n_estimators=350, learning_rate=0.1, subsample=0.88, reg_lambda=0.01 \n",
      "[CV]  colsample_bytree=0.83, max_depth=10, min_child_weight=6, gamma=0.1, n_estimators=350, learning_rate=0.1, subsample=0.88, reg_lambda=1, total= 3.3min\n",
      "[CV] colsample_bytree=0.83, max_depth=10, min_child_weight=6, gamma=0.15, n_estimators=350, learning_rate=0.1, subsample=0.88, reg_lambda=0.01 \n",
      "[CV]  colsample_bytree=0.83, max_depth=10, min_child_weight=6, gamma=0.1, n_estimators=350, learning_rate=0.1, subsample=0.88, reg_lambda=1, total= 3.4min\n",
      "[CV] colsample_bytree=0.83, max_depth=10, min_child_weight=6, gamma=0.15, n_estimators=350, learning_rate=0.1, subsample=0.88, reg_lambda=0.05 \n",
      "[CV]  colsample_bytree=0.83, max_depth=10, min_child_weight=6, gamma=0.15, n_estimators=350, learning_rate=0.1, subsample=0.88, reg_lambda=0.01, total= 3.4min\n",
      "[CV] colsample_bytree=0.83, max_depth=10, min_child_weight=6, gamma=0.15, n_estimators=350, learning_rate=0.1, subsample=0.88, reg_lambda=0.05 \n",
      "[CV]  colsample_bytree=0.83, max_depth=10, min_child_weight=6, gamma=0.15, n_estimators=350, learning_rate=0.1, subsample=0.88, reg_lambda=0.01, total= 3.4min\n",
      "[CV] colsample_bytree=0.83, max_depth=10, min_child_weight=6, gamma=0.15, n_estimators=350, learning_rate=0.1, subsample=0.88, reg_lambda=0.05 \n",
      "[CV]  colsample_bytree=0.83, max_depth=10, min_child_weight=6, gamma=0.15, n_estimators=350, learning_rate=0.1, subsample=0.88, reg_lambda=0.01, total= 3.4min\n",
      "[CV] colsample_bytree=0.83, max_depth=10, min_child_weight=6, gamma=0.15, n_estimators=350, learning_rate=0.1, subsample=0.88, reg_lambda=0.1 \n",
      "[CV]  colsample_bytree=0.83, max_depth=10, min_child_weight=6, gamma=0.15, n_estimators=350, learning_rate=0.1, subsample=0.88, reg_lambda=0.05, total= 3.3min\n",
      "[CV] colsample_bytree=0.83, max_depth=10, min_child_weight=6, gamma=0.15, n_estimators=350, learning_rate=0.1, subsample=0.88, reg_lambda=0.1 \n",
      "[CV]  colsample_bytree=0.83, max_depth=10, min_child_weight=6, gamma=0.15, n_estimators=350, learning_rate=0.1, subsample=0.88, reg_lambda=0.05, total= 3.4min\n",
      "[CV] colsample_bytree=0.83, max_depth=10, min_child_weight=6, gamma=0.15, n_estimators=350, learning_rate=0.1, subsample=0.88, reg_lambda=0.1 \n",
      "[CV]  colsample_bytree=0.83, max_depth=10, min_child_weight=6, gamma=0.15, n_estimators=350, learning_rate=0.1, subsample=0.88, reg_lambda=0.05, total= 3.4min\n",
      "[CV] colsample_bytree=0.83, max_depth=10, min_child_weight=6, gamma=0.15, n_estimators=350, learning_rate=0.1, subsample=0.88, reg_lambda=0.5 \n",
      "[CV]  colsample_bytree=0.83, max_depth=10, min_child_weight=6, gamma=0.15, n_estimators=350, learning_rate=0.1, subsample=0.88, reg_lambda=0.1, total= 3.4min\n",
      "[CV] colsample_bytree=0.83, max_depth=10, min_child_weight=6, gamma=0.15, n_estimators=350, learning_rate=0.1, subsample=0.88, reg_lambda=0.5 \n",
      "[CV]  colsample_bytree=0.83, max_depth=10, min_child_weight=6, gamma=0.15, n_estimators=350, learning_rate=0.1, subsample=0.88, reg_lambda=0.1, total= 3.4min\n",
      "[CV] colsample_bytree=0.83, max_depth=10, min_child_weight=6, gamma=0.15, n_estimators=350, learning_rate=0.1, subsample=0.88, reg_lambda=0.5 \n",
      "[CV]  colsample_bytree=0.83, max_depth=10, min_child_weight=6, gamma=0.15, n_estimators=350, learning_rate=0.1, subsample=0.88, reg_lambda=0.1, total= 3.4min\n",
      "[CV] colsample_bytree=0.83, max_depth=10, min_child_weight=6, gamma=0.15, n_estimators=350, learning_rate=0.1, subsample=0.88, reg_lambda=1 \n",
      "[CV]  colsample_bytree=0.83, max_depth=10, min_child_weight=6, gamma=0.15, n_estimators=350, learning_rate=0.1, subsample=0.88, reg_lambda=0.5, total= 3.3min\n",
      "[CV] colsample_bytree=0.83, max_depth=10, min_child_weight=6, gamma=0.15, n_estimators=350, learning_rate=0.1, subsample=0.88, reg_lambda=1 \n",
      "[CV]  colsample_bytree=0.83, max_depth=10, min_child_weight=6, gamma=0.15, n_estimators=350, learning_rate=0.1, subsample=0.88, reg_lambda=0.5, total= 3.3min\n",
      "[CV] colsample_bytree=0.83, max_depth=10, min_child_weight=6, gamma=0.15, n_estimators=350, learning_rate=0.1, subsample=0.88, reg_lambda=1 \n",
      "[CV]  colsample_bytree=0.83, max_depth=10, min_child_weight=6, gamma=0.15, n_estimators=350, learning_rate=0.1, subsample=0.88, reg_lambda=0.5, total= 3.4min\n",
      "[CV] colsample_bytree=0.83, max_depth=10, min_child_weight=6, gamma=0.2, n_estimators=350, learning_rate=0.1, subsample=0.88, reg_lambda=0.01 \n",
      "[CV]  colsample_bytree=0.83, max_depth=10, min_child_weight=6, gamma=0.15, n_estimators=350, learning_rate=0.1, subsample=0.88, reg_lambda=1, total= 3.4min\n",
      "[CV] colsample_bytree=0.83, max_depth=10, min_child_weight=6, gamma=0.2, n_estimators=350, learning_rate=0.1, subsample=0.88, reg_lambda=0.01 \n",
      "[CV]  colsample_bytree=0.83, max_depth=10, min_child_weight=6, gamma=0.15, n_estimators=350, learning_rate=0.1, subsample=0.88, reg_lambda=1, total= 3.4min\n",
      "[CV] colsample_bytree=0.83, max_depth=10, min_child_weight=6, gamma=0.2, n_estimators=350, learning_rate=0.1, subsample=0.88, reg_lambda=0.01 \n",
      "[CV]  colsample_bytree=0.83, max_depth=10, min_child_weight=6, gamma=0.15, n_estimators=350, learning_rate=0.1, subsample=0.88, reg_lambda=1, total= 3.4min\n",
      "[CV] colsample_bytree=0.83, max_depth=10, min_child_weight=6, gamma=0.2, n_estimators=350, learning_rate=0.1, subsample=0.88, reg_lambda=0.05 \n",
      "[CV]  colsample_bytree=0.83, max_depth=10, min_child_weight=6, gamma=0.2, n_estimators=350, learning_rate=0.1, subsample=0.88, reg_lambda=0.01, total= 3.4min\n"
     ]
    },
    {
     "name": "stdout",
     "output_type": "stream",
     "text": [
      "[CV] colsample_bytree=0.83, max_depth=10, min_child_weight=6, gamma=0.2, n_estimators=350, learning_rate=0.1, subsample=0.88, reg_lambda=0.05 \n",
      "[CV]  colsample_bytree=0.83, max_depth=10, min_child_weight=6, gamma=0.2, n_estimators=350, learning_rate=0.1, subsample=0.88, reg_lambda=0.01, total= 3.4min\n",
      "[CV] colsample_bytree=0.83, max_depth=10, min_child_weight=6, gamma=0.2, n_estimators=350, learning_rate=0.1, subsample=0.88, reg_lambda=0.05 \n",
      "[CV]  colsample_bytree=0.83, max_depth=10, min_child_weight=6, gamma=0.2, n_estimators=350, learning_rate=0.1, subsample=0.88, reg_lambda=0.01, total= 3.4min\n",
      "[CV] colsample_bytree=0.83, max_depth=10, min_child_weight=6, gamma=0.2, n_estimators=350, learning_rate=0.1, subsample=0.88, reg_lambda=0.1 \n",
      "[CV]  colsample_bytree=0.83, max_depth=10, min_child_weight=6, gamma=0.2, n_estimators=350, learning_rate=0.1, subsample=0.88, reg_lambda=0.05, total= 3.4min\n",
      "[CV] colsample_bytree=0.83, max_depth=10, min_child_weight=6, gamma=0.2, n_estimators=350, learning_rate=0.1, subsample=0.88, reg_lambda=0.1 \n",
      "[CV]  colsample_bytree=0.83, max_depth=10, min_child_weight=6, gamma=0.2, n_estimators=350, learning_rate=0.1, subsample=0.88, reg_lambda=0.05, total= 3.4min\n",
      "[CV] colsample_bytree=0.83, max_depth=10, min_child_weight=6, gamma=0.2, n_estimators=350, learning_rate=0.1, subsample=0.88, reg_lambda=0.1 \n",
      "[CV]  colsample_bytree=0.83, max_depth=10, min_child_weight=6, gamma=0.2, n_estimators=350, learning_rate=0.1, subsample=0.88, reg_lambda=0.1, total= 3.3min\n",
      "[CV] colsample_bytree=0.83, max_depth=10, min_child_weight=6, gamma=0.2, n_estimators=350, learning_rate=0.1, subsample=0.88, reg_lambda=0.5 \n",
      "[CV]  colsample_bytree=0.83, max_depth=10, min_child_weight=6, gamma=0.2, n_estimators=350, learning_rate=0.1, subsample=0.88, reg_lambda=0.05, total= 3.4min\n",
      "[CV] colsample_bytree=0.83, max_depth=10, min_child_weight=6, gamma=0.2, n_estimators=350, learning_rate=0.1, subsample=0.88, reg_lambda=0.5 \n",
      "[CV]  colsample_bytree=0.83, max_depth=10, min_child_weight=6, gamma=0.2, n_estimators=350, learning_rate=0.1, subsample=0.88, reg_lambda=0.1, total= 3.4min\n",
      "[CV] colsample_bytree=0.83, max_depth=10, min_child_weight=6, gamma=0.2, n_estimators=350, learning_rate=0.1, subsample=0.88, reg_lambda=0.5 \n",
      "[CV]  colsample_bytree=0.83, max_depth=10, min_child_weight=6, gamma=0.2, n_estimators=350, learning_rate=0.1, subsample=0.88, reg_lambda=0.1, total= 3.4min\n",
      "[CV] colsample_bytree=0.83, max_depth=10, min_child_weight=6, gamma=0.2, n_estimators=350, learning_rate=0.1, subsample=0.88, reg_lambda=1 \n",
      "[CV]  colsample_bytree=0.83, max_depth=10, min_child_weight=6, gamma=0.2, n_estimators=350, learning_rate=0.1, subsample=0.88, reg_lambda=0.5, total= 3.4min\n",
      "[CV] colsample_bytree=0.83, max_depth=10, min_child_weight=6, gamma=0.2, n_estimators=350, learning_rate=0.1, subsample=0.88, reg_lambda=1 \n",
      "[CV]  colsample_bytree=0.83, max_depth=10, min_child_weight=6, gamma=0.2, n_estimators=350, learning_rate=0.1, subsample=0.88, reg_lambda=0.5, total= 3.4min\n",
      "[CV] colsample_bytree=0.83, max_depth=10, min_child_weight=6, gamma=0.2, n_estimators=350, learning_rate=0.1, subsample=0.88, reg_lambda=1 \n",
      "[CV]  colsample_bytree=0.83, max_depth=10, min_child_weight=6, gamma=0.2, n_estimators=350, learning_rate=0.1, subsample=0.88, reg_lambda=0.5, total= 3.4min\n",
      "[CV]  colsample_bytree=0.83, max_depth=10, min_child_weight=6, gamma=0.2, n_estimators=350, learning_rate=0.1, subsample=0.88, reg_lambda=1, total= 3.3min\n",
      "[CV]  colsample_bytree=0.83, max_depth=10, min_child_weight=6, gamma=0.2, n_estimators=350, learning_rate=0.1, subsample=0.88, reg_lambda=1, total= 3.3min\n",
      "[CV]  colsample_bytree=0.83, max_depth=10, min_child_weight=6, gamma=0.2, n_estimators=350, learning_rate=0.1, subsample=0.88, reg_lambda=1, total= 3.3min\n"
     ]
    },
    {
     "name": "stderr",
     "output_type": "stream",
     "text": [
      "[Parallel(n_jobs=4)]: Done  75 out of  75 | elapsed: 64.4min finished\n"
     ]
    },
    {
     "name": "stdout",
     "output_type": "stream",
     "text": [
      "Cross-validation Training Time =  4151.135474443436\n",
      "\n",
      "Grid scores:\n",
      "\n",
      "0.849 (+/-0.005) for {'n_estimators': 350, 'max_depth': 10, 'min_child_weight': 6, 'learning_rate': 0.1, 'colsample_bytree': 0.83, 'gamma': 0, 'subsample': 0.88, 'reg_lambda': 0.01}\n",
      "0.847 (+/-0.003) for {'n_estimators': 350, 'max_depth': 10, 'min_child_weight': 6, 'learning_rate': 0.1, 'colsample_bytree': 0.83, 'gamma': 0, 'subsample': 0.88, 'reg_lambda': 0.05}\n",
      "0.848 (+/-0.005) for {'n_estimators': 350, 'max_depth': 10, 'min_child_weight': 6, 'learning_rate': 0.1, 'colsample_bytree': 0.83, 'gamma': 0, 'subsample': 0.88, 'reg_lambda': 0.1}\n",
      "0.848 (+/-0.006) for {'n_estimators': 350, 'max_depth': 10, 'min_child_weight': 6, 'learning_rate': 0.1, 'colsample_bytree': 0.83, 'gamma': 0, 'subsample': 0.88, 'reg_lambda': 0.5}\n",
      "0.849 (+/-0.006) for {'n_estimators': 350, 'max_depth': 10, 'min_child_weight': 6, 'learning_rate': 0.1, 'colsample_bytree': 0.83, 'gamma': 0, 'subsample': 0.88, 'reg_lambda': 1}\n",
      "0.848 (+/-0.003) for {'n_estimators': 350, 'max_depth': 10, 'min_child_weight': 6, 'learning_rate': 0.1, 'colsample_bytree': 0.83, 'gamma': 0.05, 'subsample': 0.88, 'reg_lambda': 0.01}\n",
      "0.849 (+/-0.001) for {'n_estimators': 350, 'max_depth': 10, 'min_child_weight': 6, 'learning_rate': 0.1, 'colsample_bytree': 0.83, 'gamma': 0.05, 'subsample': 0.88, 'reg_lambda': 0.05}\n",
      "0.848 (+/-0.008) for {'n_estimators': 350, 'max_depth': 10, 'min_child_weight': 6, 'learning_rate': 0.1, 'colsample_bytree': 0.83, 'gamma': 0.05, 'subsample': 0.88, 'reg_lambda': 0.1}\n",
      "0.847 (+/-0.004) for {'n_estimators': 350, 'max_depth': 10, 'min_child_weight': 6, 'learning_rate': 0.1, 'colsample_bytree': 0.83, 'gamma': 0.05, 'subsample': 0.88, 'reg_lambda': 0.5}\n",
      "0.846 (+/-0.003) for {'n_estimators': 350, 'max_depth': 10, 'min_child_weight': 6, 'learning_rate': 0.1, 'colsample_bytree': 0.83, 'gamma': 0.05, 'subsample': 0.88, 'reg_lambda': 1}\n",
      "0.848 (+/-0.006) for {'n_estimators': 350, 'max_depth': 10, 'min_child_weight': 6, 'learning_rate': 0.1, 'colsample_bytree': 0.83, 'gamma': 0.1, 'subsample': 0.88, 'reg_lambda': 0.01}\n",
      "0.846 (+/-0.003) for {'n_estimators': 350, 'max_depth': 10, 'min_child_weight': 6, 'learning_rate': 0.1, 'colsample_bytree': 0.83, 'gamma': 0.1, 'subsample': 0.88, 'reg_lambda': 0.05}\n",
      "0.848 (+/-0.006) for {'n_estimators': 350, 'max_depth': 10, 'min_child_weight': 6, 'learning_rate': 0.1, 'colsample_bytree': 0.83, 'gamma': 0.1, 'subsample': 0.88, 'reg_lambda': 0.1}\n",
      "0.848 (+/-0.007) for {'n_estimators': 350, 'max_depth': 10, 'min_child_weight': 6, 'learning_rate': 0.1, 'colsample_bytree': 0.83, 'gamma': 0.1, 'subsample': 0.88, 'reg_lambda': 0.5}\n",
      "0.847 (+/-0.004) for {'n_estimators': 350, 'max_depth': 10, 'min_child_weight': 6, 'learning_rate': 0.1, 'colsample_bytree': 0.83, 'gamma': 0.1, 'subsample': 0.88, 'reg_lambda': 1}\n",
      "0.848 (+/-0.007) for {'n_estimators': 350, 'max_depth': 10, 'min_child_weight': 6, 'learning_rate': 0.1, 'colsample_bytree': 0.83, 'gamma': 0.15, 'subsample': 0.88, 'reg_lambda': 0.01}\n",
      "0.848 (+/-0.003) for {'n_estimators': 350, 'max_depth': 10, 'min_child_weight': 6, 'learning_rate': 0.1, 'colsample_bytree': 0.83, 'gamma': 0.15, 'subsample': 0.88, 'reg_lambda': 0.05}\n",
      "0.848 (+/-0.006) for {'n_estimators': 350, 'max_depth': 10, 'min_child_weight': 6, 'learning_rate': 0.1, 'colsample_bytree': 0.83, 'gamma': 0.15, 'subsample': 0.88, 'reg_lambda': 0.1}\n",
      "0.848 (+/-0.005) for {'n_estimators': 350, 'max_depth': 10, 'min_child_weight': 6, 'learning_rate': 0.1, 'colsample_bytree': 0.83, 'gamma': 0.15, 'subsample': 0.88, 'reg_lambda': 0.5}\n",
      "0.848 (+/-0.004) for {'n_estimators': 350, 'max_depth': 10, 'min_child_weight': 6, 'learning_rate': 0.1, 'colsample_bytree': 0.83, 'gamma': 0.15, 'subsample': 0.88, 'reg_lambda': 1}\n",
      "0.848 (+/-0.006) for {'n_estimators': 350, 'max_depth': 10, 'min_child_weight': 6, 'learning_rate': 0.1, 'colsample_bytree': 0.83, 'gamma': 0.2, 'subsample': 0.88, 'reg_lambda': 0.01}\n",
      "0.847 (+/-0.003) for {'n_estimators': 350, 'max_depth': 10, 'min_child_weight': 6, 'learning_rate': 0.1, 'colsample_bytree': 0.83, 'gamma': 0.2, 'subsample': 0.88, 'reg_lambda': 0.05}\n",
      "0.846 (+/-0.006) for {'n_estimators': 350, 'max_depth': 10, 'min_child_weight': 6, 'learning_rate': 0.1, 'colsample_bytree': 0.83, 'gamma': 0.2, 'subsample': 0.88, 'reg_lambda': 0.1}\n",
      "0.846 (+/-0.007) for {'n_estimators': 350, 'max_depth': 10, 'min_child_weight': 6, 'learning_rate': 0.1, 'colsample_bytree': 0.83, 'gamma': 0.2, 'subsample': 0.88, 'reg_lambda': 0.5}\n",
      "0.848 (+/-0.004) for {'n_estimators': 350, 'max_depth': 10, 'min_child_weight': 6, 'learning_rate': 0.1, 'colsample_bytree': 0.83, 'gamma': 0.2, 'subsample': 0.88, 'reg_lambda': 1}\n",
      "\n",
      "Best parameter set:\n",
      "{'n_estimators': 350, 'max_depth': 10, 'min_child_weight': 6, 'learning_rate': 0.1, 'colsample_bytree': 0.83, 'gamma': 0, 'subsample': 0.88, 'reg_lambda': 0.01}\n",
      "\n"
     ]
    }
   ],
   "source": [
    "K_folds = 3\n",
    "params = [{'max_depth': [10], 'min_child_weight':[6], 'learning_rate': [.1], 'n_estimators':[350], 'gamma':[0,.05,.10,.15,.20], 'subsample':[.88], 'colsample_bytree':[.83], 'reg_lambda':[.01,.05,.1,.5,1]}]\n",
    "crossvalidate_XGBoost(X_train, y_train, params, K_folds)"
   ]
  },
  {
   "cell_type": "markdown",
   "metadata": {},
   "source": [
    "Have tuned gamma = 0 , subsample = .88 , colsample_bytree = .83, reg_lambda = 0.01"
   ]
  },
  {
   "cell_type": "markdown",
   "metadata": {},
   "source": [
    "## Final Model"
   ]
  },
  {
   "cell_type": "markdown",
   "metadata": {},
   "source": [
    "Now determine optimal learning rate and number of estimators. Fit final model to the dataset and predict test labels."
   ]
  },
  {
   "cell_type": "code",
   "execution_count": 73,
   "metadata": {
    "scrolled": false
   },
   "outputs": [
    {
     "name": "stdout",
     "output_type": "stream",
     "text": [
      "Learning rate = 0.3\n",
      "Cross-validation time = 78.36275434494019\n",
      "Number of iterations = 122\n",
      "Test Error = 0.15399966666666667 +/- 0.0017764808533227178\n",
      "\n",
      "Learning rate = 0.1\n",
      "Cross-validation time = 142.0630099773407\n",
      "Number of iterations = 260\n",
      "Test Error = 0.153 +/- 0.0024515970305088865\n",
      "\n",
      "Learning rate = 0.03\n",
      "Cross-validation time = 455.487779378891\n",
      "Number of iterations = 951\n",
      "Test Error = 0.15155 +/- 0.0027175931753422255\n",
      "\n",
      "Learning rate = 0.01\n",
      "Cross-validation time = 810.1910254955292\n",
      "Number of iterations = 1741\n",
      "Test Error = 0.15714999999999998 +/- 0.0009138533799248164\n",
      "\n"
     ]
    },
    {
     "ename": "NameError",
     "evalue": "name 'y_label' is not defined",
     "output_type": "error",
     "traceback": [
      "\u001b[0;31m---------------------------------------------------------------------------\u001b[0m",
      "\u001b[0;31mNameError\u001b[0m                                 Traceback (most recent call last)",
      "\u001b[0;32m<ipython-input-73-b10c9af3e026>\u001b[0m in \u001b[0;36m<module>\u001b[0;34m()\u001b[0m\n\u001b[1;32m     53\u001b[0m \u001b[0;31m# Predict test labels and save\u001b[0m\u001b[0;34m\u001b[0m\u001b[0;34m\u001b[0m\u001b[0m\n\u001b[1;32m     54\u001b[0m \u001b[0my_labels\u001b[0m \u001b[0;34m=\u001b[0m \u001b[0mfinalModel\u001b[0m\u001b[0;34m.\u001b[0m\u001b[0mpredict\u001b[0m\u001b[0;34m(\u001b[0m\u001b[0mX_test\u001b[0m\u001b[0;34m)\u001b[0m\u001b[0;34m\u001b[0m\u001b[0m\n\u001b[0;32m---> 55\u001b[0;31m \u001b[0my_label\u001b[0m \u001b[0;34m=\u001b[0m \u001b[0my_label\u001b[0m\u001b[0;34m.\u001b[0m\u001b[0mreshape\u001b[0m\u001b[0;34m(\u001b[0m\u001b[0;34m(\u001b[0m\u001b[0mlen\u001b[0m\u001b[0;34m(\u001b[0m\u001b[0my_label\u001b[0m\u001b[0;34m)\u001b[0m\u001b[0;34m,\u001b[0m\u001b[0;36m1\u001b[0m\u001b[0;34m)\u001b[0m\u001b[0;34m)\u001b[0m\u001b[0;34m\u001b[0m\u001b[0m\n\u001b[0m\u001b[1;32m     56\u001b[0m \u001b[0mresult_col_1\u001b[0m \u001b[0;34m=\u001b[0m \u001b[0;34m(\u001b[0m\u001b[0mnp\u001b[0m\u001b[0;34m.\u001b[0m\u001b[0marray\u001b[0m\u001b[0;34m(\u001b[0m\u001b[0mrange\u001b[0m\u001b[0;34m(\u001b[0m\u001b[0mlen\u001b[0m\u001b[0;34m(\u001b[0m\u001b[0my_label\u001b[0m\u001b[0;34m)\u001b[0m\u001b[0;34m)\u001b[0m\u001b[0;34m)\u001b[0m\u001b[0;34m+\u001b[0m\u001b[0;36m1\u001b[0m\u001b[0;34m)\u001b[0m\u001b[0;34m.\u001b[0m\u001b[0mreshape\u001b[0m\u001b[0;34m(\u001b[0m\u001b[0;34m(\u001b[0m\u001b[0mlen\u001b[0m\u001b[0;34m(\u001b[0m\u001b[0my_label\u001b[0m\u001b[0;34m)\u001b[0m\u001b[0;34m,\u001b[0m\u001b[0;36m1\u001b[0m\u001b[0;34m)\u001b[0m\u001b[0;34m)\u001b[0m\u001b[0;34m\u001b[0m\u001b[0m\n\u001b[1;32m     57\u001b[0m \u001b[0mresult\u001b[0m \u001b[0;34m=\u001b[0m \u001b[0mnp\u001b[0m\u001b[0;34m.\u001b[0m\u001b[0mconcatenate\u001b[0m\u001b[0;34m(\u001b[0m\u001b[0;34m(\u001b[0m\u001b[0mresult_col_1\u001b[0m\u001b[0;34m,\u001b[0m\u001b[0my_label\u001b[0m\u001b[0;34m)\u001b[0m\u001b[0;34m,\u001b[0m \u001b[0maxis\u001b[0m \u001b[0;34m=\u001b[0m \u001b[0;36m1\u001b[0m\u001b[0;34m)\u001b[0m\u001b[0;34m\u001b[0m\u001b[0m\n",
      "\u001b[0;31mNameError\u001b[0m: name 'y_label' is not defined"
     ]
    }
   ],
   "source": [
    "def crossvalidateLearningRate(X_train, y_train, maxEstimators, otherparams, cv_folds, early_stopping_rounds):\n",
    "    dTrain = xgboost.DMatrix(X_train, label=y_train)\n",
    "    cvresult = xgboost.cv(otherparams, dTrain, num_boost_round=maxEstimators, nfold=cv_folds, early_stopping_rounds=early_stopping_rounds, as_pandas=False)\n",
    "    return cvresult\n",
    "\n",
    "# Find optimal learning rate and number of estimators\n",
    "rates = [.3, .1, .03, .01]\n",
    "errorArray = []\n",
    "nEstArray = []\n",
    "for rate in rates:\n",
    "    t1 = time.time()\n",
    "    clf = xgboost.XGBClassifier(learning_rate = rate,\n",
    "                                max_depth = 10, \n",
    "                                min_child_weight = 6, \n",
    "                                gamma = 0, \n",
    "                                subsample = .88,\n",
    "                                colsample_bytree = .83,\n",
    "                                reg_lambda = .01,\n",
    "                                n_jobs=4)\n",
    "    params = clf.get_xgb_params()\n",
    "    cvOUT = crossvalidateLearningRate(X_train, y_train, 10000, params, 3, 50)\n",
    "    testErrors = cvOUT['test-error-mean']\n",
    "    errorSTDs = cvOUT['test-error-std']\n",
    "    numIterations = len(testErrors)\n",
    "    finalError = testErrors[-1]\n",
    "    finalSTD = errorSTDs[-1]\n",
    "    errorArray.append(finalError)\n",
    "    nEstArray.append(numIterations)\n",
    "    t2 = time.time()\n",
    "    print(\"Learning rate = %s\" % rate)\n",
    "    print(\"Cross-validation time = %s\" % (t2-t1))\n",
    "    print(\"Number of iterations = %s\" % numIterations)\n",
    "    print(\"Test Error = %s +/- %s\" % (finalError, finalSTD))\n",
    "    print()\n",
    "\n",
    "# Set optimal rate and number of estimators\n",
    "ind = np.argmin(errorArray)\n",
    "optimal_rate = rates[ind]\n",
    "optimal_n = nEstArray[ind]\n",
    "\n",
    "# Train final model\n",
    "finalModel = xgboost.XGBClassifier(learning_rate = optimal_rate, \n",
    "                                   n_estimators = optimal_n,\n",
    "                                   max_depth = 10, \n",
    "                                   min_child_weight = 6, \n",
    "                                   gamma = 0, \n",
    "                                   subsample = .88,\n",
    "                                   colsample_bytree = .83,\n",
    "                                   reg_lambda = .01,\n",
    "                                   n_jobs=4)\n",
    "finalModel.fit(X_train, y_train)\n",
    "\n",
    "# Predict test labels and save\n",
    "y_label = finalModel.predict(X_test)\n",
    "y_label = y_label.reshape((len(y_label),1))\n",
    "result_col_1 = (np.array(range(len(y_label)))+1).reshape((len(y_label),1))\n",
    "result = np.concatenate((result_col_1,y_label), axis = 1)\n",
    "np.savetxt(\"XGBoost_pred_labels.txt\", result, fmt=\"%d\", delimiter=',', header='Id,Prediction')"
   ]
  },
  {
   "cell_type": "code",
   "execution_count": 74,
   "metadata": {},
   "outputs": [
    {
     "data": {
      "text/plain": [
       "XGBClassifier(base_score=0.5, booster='gbtree', colsample_bylevel=1,\n",
       "       colsample_bytree=0.83, gamma=0, learning_rate=0.03,\n",
       "       max_delta_step=0, max_depth=10, min_child_weight=6, missing=None,\n",
       "       n_estimators=951, n_jobs=4, nthread=None,\n",
       "       objective='binary:logistic', random_state=0, reg_alpha=0,\n",
       "       reg_lambda=0.01, scale_pos_weight=1, seed=None, silent=True,\n",
       "       subsample=0.88)"
      ]
     },
     "execution_count": 74,
     "metadata": {},
     "output_type": "execute_result"
    }
   ],
   "source": [
    "finalModel"
   ]
  },
  {
   "cell_type": "code",
   "execution_count": 75,
   "metadata": {},
   "outputs": [],
   "source": [
    "y_label = finalModel.predict(X_test)\n",
    "y_label = y_label.reshape((len(y_label),1))\n",
    "result_col_1 = (np.array(range(len(y_label)))+1).reshape((len(y_label),1))\n",
    "result = np.concatenate((result_col_1,y_label), axis = 1)\n",
    "np.savetxt(\"XGBoost_pred_labels.txt\", result, fmt=\"%d\", delimiter=',', header='Id,Prediction')"
   ]
  },
  {
   "cell_type": "code",
   "execution_count": null,
   "metadata": {},
   "outputs": [],
   "source": []
  }
 ],
 "metadata": {
  "kernelspec": {
   "display_name": "Python 3",
   "language": "python",
   "name": "python3"
  },
  "language_info": {
   "codemirror_mode": {
    "name": "ipython",
    "version": 3
   },
   "file_extension": ".py",
   "mimetype": "text/x-python",
   "name": "python",
   "nbconvert_exporter": "python",
   "pygments_lexer": "ipython3",
   "version": "3.5.2"
  }
 },
 "nbformat": 4,
 "nbformat_minor": 2
}
