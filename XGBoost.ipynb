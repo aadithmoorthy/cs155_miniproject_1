{
 "cells": [
  {
   "cell_type": "markdown",
   "metadata": {},
   "source": [
    "## Imports"
   ]
  },
  {
   "cell_type": "code",
   "execution_count": 6,
   "metadata": {},
   "outputs": [],
   "source": [
    "from utils import get_unsplit_data, get_test_data\n",
    "from sklearn.model_selection import GridSearchCV\n",
    "from sklearn.decomposition import PCA\n",
    "import numpy as np\n",
    "import xgboost\n",
    "import time\n",
    "import pickle\n",
    "import warnings\n",
    "warnings.filterwarnings(\"ignore\", category=DeprecationWarning) \n",
    "\n",
    "X_train, y_train, = get_unsplit_data()\n",
    "X_test = get_test_data()"
   ]
  },
  {
   "cell_type": "markdown",
   "metadata": {},
   "source": [
    "## Crossvalidation Function"
   ]
  },
  {
   "cell_type": "code",
   "execution_count": 7,
   "metadata": {},
   "outputs": [],
   "source": [
    "def crossvalidate_XGBoost(X_t, y_t, params, K_folds):\n",
    "    \n",
    "    start = time.time()\n",
    "    # Perform cross validation\n",
    "    clf = GridSearchCV(xgboost.XGBClassifier(), params, cv=K_folds, scoring='accuracy', n_jobs=4, verbose=2)\n",
    "    clf.fit(X_t, y_t)\n",
    "    end = time.time()\n",
    "    \n",
    "    print(\"Cross-validation Training Time = \", (end - start))\n",
    "    print()\n",
    "\n",
    "    print(\"Grid scores:\")\n",
    "    print()\n",
    "    means = clf.cv_results_['mean_test_score']\n",
    "    stds = clf.cv_results_['std_test_score']\n",
    "    for mean, std, params in zip(means, stds, clf.cv_results_['params']):\n",
    "        print(\"%0.3f (+/-%0.03f) for %r\" % (mean, std * 2, params))\n",
    "    print()\n",
    "    \n",
    "    print(\"Best parameter set:\")\n",
    "    print(clf.best_params_)\n",
    "    print()\n",
    "    \n",
    "    return"
   ]
  },
  {
   "cell_type": "markdown",
   "metadata": {},
   "source": [
    "## Hand-tuning"
   ]
  },
  {
   "cell_type": "markdown",
   "metadata": {},
   "source": [
    "Initial hand-tuning seems to indicate max_depth = 5 seems to work for default parameters. Early stopping indicated ~350 estimators is when overfitting begins. Start with these parameters.  \n",
    "\n",
    "First try to determine colsample_bytree."
   ]
  },
  {
   "cell_type": "code",
   "execution_count": 5,
   "metadata": {},
   "outputs": [
    {
     "name": "stdout",
     "output_type": "stream",
     "text": [
      "Fitting 3 folds for each of 7 candidates, totalling 21 fits\n",
      "[CV] booster=gbtree, max_depth=5, reg_lambda=1, n_estimators=350, colsample_bytree=0.7, subsample=1, learning_rate=0.1, gamma=0 \n",
      "[CV] booster=gbtree, max_depth=5, reg_lambda=1, n_estimators=350, colsample_bytree=0.7, subsample=1, learning_rate=0.1, gamma=0 \n",
      "[CV] booster=gbtree, max_depth=5, reg_lambda=1, n_estimators=350, colsample_bytree=0.7, subsample=1, learning_rate=0.1, gamma=0 \n",
      "[CV] booster=gbtree, max_depth=5, reg_lambda=1, n_estimators=350, colsample_bytree=0.75, subsample=1, learning_rate=0.1, gamma=0 \n"
     ]
    },
    {
     "name": "stderr",
     "output_type": "stream",
     "text": [
      "/home/tony/MachineLearning/env/lib/python3.5/site-packages/sklearn/preprocessing/label.py:151: DeprecationWarning: The truth value of an empty array is ambiguous. Returning False, but in future this will result in an error. Use `array.size > 0` to check that an array is not empty.\n",
      "  if diff:\n",
      "/home/tony/MachineLearning/env/lib/python3.5/site-packages/sklearn/preprocessing/label.py:151: DeprecationWarning: The truth value of an empty array is ambiguous. Returning False, but in future this will result in an error. Use `array.size > 0` to check that an array is not empty.\n",
      "  if diff:\n",
      "/home/tony/MachineLearning/env/lib/python3.5/site-packages/sklearn/preprocessing/label.py:151: DeprecationWarning: The truth value of an empty array is ambiguous. Returning False, but in future this will result in an error. Use `array.size > 0` to check that an array is not empty.\n",
      "  if diff:\n"
     ]
    },
    {
     "name": "stdout",
     "output_type": "stream",
     "text": [
      "[CV]  booster=gbtree, max_depth=5, reg_lambda=1, n_estimators=350, colsample_bytree=0.7, subsample=1, learning_rate=0.1, gamma=0, total= 1.3min\n",
      "[CV] booster=gbtree, max_depth=5, reg_lambda=1, n_estimators=350, colsample_bytree=0.75, subsample=1, learning_rate=0.1, gamma=0 \n"
     ]
    },
    {
     "name": "stderr",
     "output_type": "stream",
     "text": [
      "/home/tony/MachineLearning/env/lib/python3.5/site-packages/sklearn/preprocessing/label.py:151: DeprecationWarning: The truth value of an empty array is ambiguous. Returning False, but in future this will result in an error. Use `array.size > 0` to check that an array is not empty.\n",
      "  if diff:\n"
     ]
    },
    {
     "name": "stdout",
     "output_type": "stream",
     "text": [
      "[CV]  booster=gbtree, max_depth=5, reg_lambda=1, n_estimators=350, colsample_bytree=0.7, subsample=1, learning_rate=0.1, gamma=0, total= 1.4min\n",
      "[CV] booster=gbtree, max_depth=5, reg_lambda=1, n_estimators=350, colsample_bytree=0.75, subsample=1, learning_rate=0.1, gamma=0 \n"
     ]
    },
    {
     "name": "stderr",
     "output_type": "stream",
     "text": [
      "/home/tony/MachineLearning/env/lib/python3.5/site-packages/sklearn/preprocessing/label.py:151: DeprecationWarning: The truth value of an empty array is ambiguous. Returning False, but in future this will result in an error. Use `array.size > 0` to check that an array is not empty.\n",
      "  if diff:\n",
      "/home/tony/MachineLearning/env/lib/python3.5/site-packages/sklearn/preprocessing/label.py:151: DeprecationWarning: The truth value of an empty array is ambiguous. Returning False, but in future this will result in an error. Use `array.size > 0` to check that an array is not empty.\n",
      "  if diff:\n"
     ]
    },
    {
     "name": "stdout",
     "output_type": "stream",
     "text": [
      "[CV]  booster=gbtree, max_depth=5, reg_lambda=1, n_estimators=350, colsample_bytree=0.7, subsample=1, learning_rate=0.1, gamma=0, total= 1.4min\n",
      "[CV] booster=gbtree, max_depth=5, reg_lambda=1, n_estimators=350, colsample_bytree=0.8, subsample=1, learning_rate=0.1, gamma=0 \n"
     ]
    },
    {
     "name": "stderr",
     "output_type": "stream",
     "text": [
      "/home/tony/MachineLearning/env/lib/python3.5/site-packages/sklearn/preprocessing/label.py:151: DeprecationWarning: The truth value of an empty array is ambiguous. Returning False, but in future this will result in an error. Use `array.size > 0` to check that an array is not empty.\n",
      "  if diff:\n",
      "/home/tony/MachineLearning/env/lib/python3.5/site-packages/sklearn/preprocessing/label.py:151: DeprecationWarning: The truth value of an empty array is ambiguous. Returning False, but in future this will result in an error. Use `array.size > 0` to check that an array is not empty.\n",
      "  if diff:\n"
     ]
    },
    {
     "name": "stdout",
     "output_type": "stream",
     "text": [
      "[CV]  booster=gbtree, max_depth=5, reg_lambda=1, n_estimators=350, colsample_bytree=0.75, subsample=1, learning_rate=0.1, gamma=0, total= 1.4min\n",
      "[CV] booster=gbtree, max_depth=5, reg_lambda=1, n_estimators=350, colsample_bytree=0.8, subsample=1, learning_rate=0.1, gamma=0 \n"
     ]
    },
    {
     "name": "stderr",
     "output_type": "stream",
     "text": [
      "/home/tony/MachineLearning/env/lib/python3.5/site-packages/sklearn/preprocessing/label.py:151: DeprecationWarning: The truth value of an empty array is ambiguous. Returning False, but in future this will result in an error. Use `array.size > 0` to check that an array is not empty.\n",
      "  if diff:\n",
      "/home/tony/MachineLearning/env/lib/python3.5/site-packages/sklearn/preprocessing/label.py:151: DeprecationWarning: The truth value of an empty array is ambiguous. Returning False, but in future this will result in an error. Use `array.size > 0` to check that an array is not empty.\n",
      "  if diff:\n"
     ]
    },
    {
     "name": "stdout",
     "output_type": "stream",
     "text": [
      "[CV]  booster=gbtree, max_depth=5, reg_lambda=1, n_estimators=350, colsample_bytree=0.75, subsample=1, learning_rate=0.1, gamma=0, total= 1.4min\n",
      "[CV] booster=gbtree, max_depth=5, reg_lambda=1, n_estimators=350, colsample_bytree=0.8, subsample=1, learning_rate=0.1, gamma=0 \n"
     ]
    },
    {
     "name": "stderr",
     "output_type": "stream",
     "text": [
      "/home/tony/MachineLearning/env/lib/python3.5/site-packages/sklearn/preprocessing/label.py:151: DeprecationWarning: The truth value of an empty array is ambiguous. Returning False, but in future this will result in an error. Use `array.size > 0` to check that an array is not empty.\n",
      "  if diff:\n",
      "/home/tony/MachineLearning/env/lib/python3.5/site-packages/sklearn/preprocessing/label.py:151: DeprecationWarning: The truth value of an empty array is ambiguous. Returning False, but in future this will result in an error. Use `array.size > 0` to check that an array is not empty.\n",
      "  if diff:\n"
     ]
    },
    {
     "name": "stdout",
     "output_type": "stream",
     "text": [
      "[CV]  booster=gbtree, max_depth=5, reg_lambda=1, n_estimators=350, colsample_bytree=0.75, subsample=1, learning_rate=0.1, gamma=0, total= 1.5min\n",
      "[CV] booster=gbtree, max_depth=5, reg_lambda=1, n_estimators=350, colsample_bytree=0.85, subsample=1, learning_rate=0.1, gamma=0 \n"
     ]
    },
    {
     "name": "stderr",
     "output_type": "stream",
     "text": [
      "/home/tony/MachineLearning/env/lib/python3.5/site-packages/sklearn/preprocessing/label.py:151: DeprecationWarning: The truth value of an empty array is ambiguous. Returning False, but in future this will result in an error. Use `array.size > 0` to check that an array is not empty.\n",
      "  if diff:\n",
      "/home/tony/MachineLearning/env/lib/python3.5/site-packages/sklearn/preprocessing/label.py:151: DeprecationWarning: The truth value of an empty array is ambiguous. Returning False, but in future this will result in an error. Use `array.size > 0` to check that an array is not empty.\n",
      "  if diff:\n"
     ]
    },
    {
     "name": "stdout",
     "output_type": "stream",
     "text": [
      "[CV]  booster=gbtree, max_depth=5, reg_lambda=1, n_estimators=350, colsample_bytree=0.8, subsample=1, learning_rate=0.1, gamma=0, total= 1.5min\n",
      "[CV] booster=gbtree, max_depth=5, reg_lambda=1, n_estimators=350, colsample_bytree=0.85, subsample=1, learning_rate=0.1, gamma=0 \n"
     ]
    },
    {
     "name": "stderr",
     "output_type": "stream",
     "text": [
      "/home/tony/MachineLearning/env/lib/python3.5/site-packages/sklearn/preprocessing/label.py:151: DeprecationWarning: The truth value of an empty array is ambiguous. Returning False, but in future this will result in an error. Use `array.size > 0` to check that an array is not empty.\n",
      "  if diff:\n",
      "/home/tony/MachineLearning/env/lib/python3.5/site-packages/sklearn/preprocessing/label.py:151: DeprecationWarning: The truth value of an empty array is ambiguous. Returning False, but in future this will result in an error. Use `array.size > 0` to check that an array is not empty.\n",
      "  if diff:\n"
     ]
    },
    {
     "name": "stdout",
     "output_type": "stream",
     "text": [
      "[CV]  booster=gbtree, max_depth=5, reg_lambda=1, n_estimators=350, colsample_bytree=0.8, subsample=1, learning_rate=0.1, gamma=0, total= 1.6min\n",
      "[CV] booster=gbtree, max_depth=5, reg_lambda=1, n_estimators=350, colsample_bytree=0.85, subsample=1, learning_rate=0.1, gamma=0 \n"
     ]
    },
    {
     "name": "stderr",
     "output_type": "stream",
     "text": [
      "/home/tony/MachineLearning/env/lib/python3.5/site-packages/sklearn/preprocessing/label.py:151: DeprecationWarning: The truth value of an empty array is ambiguous. Returning False, but in future this will result in an error. Use `array.size > 0` to check that an array is not empty.\n",
      "  if diff:\n",
      "/home/tony/MachineLearning/env/lib/python3.5/site-packages/sklearn/preprocessing/label.py:151: DeprecationWarning: The truth value of an empty array is ambiguous. Returning False, but in future this will result in an error. Use `array.size > 0` to check that an array is not empty.\n",
      "  if diff:\n"
     ]
    },
    {
     "name": "stdout",
     "output_type": "stream",
     "text": [
      "[CV]  booster=gbtree, max_depth=5, reg_lambda=1, n_estimators=350, colsample_bytree=0.8, subsample=1, learning_rate=0.1, gamma=0, total= 1.5min\n",
      "[CV] booster=gbtree, max_depth=5, reg_lambda=1, n_estimators=350, colsample_bytree=0.9, subsample=1, learning_rate=0.1, gamma=0 \n"
     ]
    },
    {
     "name": "stderr",
     "output_type": "stream",
     "text": [
      "/home/tony/MachineLearning/env/lib/python3.5/site-packages/sklearn/preprocessing/label.py:151: DeprecationWarning: The truth value of an empty array is ambiguous. Returning False, but in future this will result in an error. Use `array.size > 0` to check that an array is not empty.\n",
      "  if diff:\n",
      "/home/tony/MachineLearning/env/lib/python3.5/site-packages/sklearn/preprocessing/label.py:151: DeprecationWarning: The truth value of an empty array is ambiguous. Returning False, but in future this will result in an error. Use `array.size > 0` to check that an array is not empty.\n",
      "  if diff:\n"
     ]
    },
    {
     "name": "stdout",
     "output_type": "stream",
     "text": [
      "[CV]  booster=gbtree, max_depth=5, reg_lambda=1, n_estimators=350, colsample_bytree=0.85, subsample=1, learning_rate=0.1, gamma=0, total= 1.7min\n",
      "[CV] booster=gbtree, max_depth=5, reg_lambda=1, n_estimators=350, colsample_bytree=0.9, subsample=1, learning_rate=0.1, gamma=0 \n"
     ]
    },
    {
     "name": "stderr",
     "output_type": "stream",
     "text": [
      "/home/tony/MachineLearning/env/lib/python3.5/site-packages/sklearn/preprocessing/label.py:151: DeprecationWarning: The truth value of an empty array is ambiguous. Returning False, but in future this will result in an error. Use `array.size > 0` to check that an array is not empty.\n",
      "  if diff:\n",
      "/home/tony/MachineLearning/env/lib/python3.5/site-packages/sklearn/preprocessing/label.py:151: DeprecationWarning: The truth value of an empty array is ambiguous. Returning False, but in future this will result in an error. Use `array.size > 0` to check that an array is not empty.\n",
      "  if diff:\n"
     ]
    },
    {
     "name": "stdout",
     "output_type": "stream",
     "text": [
      "[CV]  booster=gbtree, max_depth=5, reg_lambda=1, n_estimators=350, colsample_bytree=0.85, subsample=1, learning_rate=0.1, gamma=0, total= 1.6min\n",
      "[CV] booster=gbtree, max_depth=5, reg_lambda=1, n_estimators=350, colsample_bytree=0.9, subsample=1, learning_rate=0.1, gamma=0 \n"
     ]
    },
    {
     "name": "stderr",
     "output_type": "stream",
     "text": [
      "/home/tony/MachineLearning/env/lib/python3.5/site-packages/sklearn/preprocessing/label.py:151: DeprecationWarning: The truth value of an empty array is ambiguous. Returning False, but in future this will result in an error. Use `array.size > 0` to check that an array is not empty.\n",
      "  if diff:\n",
      "/home/tony/MachineLearning/env/lib/python3.5/site-packages/sklearn/preprocessing/label.py:151: DeprecationWarning: The truth value of an empty array is ambiguous. Returning False, but in future this will result in an error. Use `array.size > 0` to check that an array is not empty.\n",
      "  if diff:\n"
     ]
    },
    {
     "name": "stdout",
     "output_type": "stream",
     "text": [
      "[CV]  booster=gbtree, max_depth=5, reg_lambda=1, n_estimators=350, colsample_bytree=0.85, subsample=1, learning_rate=0.1, gamma=0, total= 1.6min\n",
      "[CV] booster=gbtree, max_depth=5, reg_lambda=1, n_estimators=350, colsample_bytree=0.95, subsample=1, learning_rate=0.1, gamma=0 \n"
     ]
    },
    {
     "name": "stderr",
     "output_type": "stream",
     "text": [
      "/home/tony/MachineLearning/env/lib/python3.5/site-packages/sklearn/preprocessing/label.py:151: DeprecationWarning: The truth value of an empty array is ambiguous. Returning False, but in future this will result in an error. Use `array.size > 0` to check that an array is not empty.\n",
      "  if diff:\n",
      "/home/tony/MachineLearning/env/lib/python3.5/site-packages/sklearn/preprocessing/label.py:151: DeprecationWarning: The truth value of an empty array is ambiguous. Returning False, but in future this will result in an error. Use `array.size > 0` to check that an array is not empty.\n",
      "  if diff:\n"
     ]
    },
    {
     "name": "stdout",
     "output_type": "stream",
     "text": [
      "[CV]  booster=gbtree, max_depth=5, reg_lambda=1, n_estimators=350, colsample_bytree=0.9, subsample=1, learning_rate=0.1, gamma=0, total= 1.6min\n",
      "[CV] booster=gbtree, max_depth=5, reg_lambda=1, n_estimators=350, colsample_bytree=0.95, subsample=1, learning_rate=0.1, gamma=0 \n"
     ]
    },
    {
     "name": "stderr",
     "output_type": "stream",
     "text": [
      "/home/tony/MachineLearning/env/lib/python3.5/site-packages/sklearn/preprocessing/label.py:151: DeprecationWarning: The truth value of an empty array is ambiguous. Returning False, but in future this will result in an error. Use `array.size > 0` to check that an array is not empty.\n",
      "  if diff:\n",
      "/home/tony/MachineLearning/env/lib/python3.5/site-packages/sklearn/preprocessing/label.py:151: DeprecationWarning: The truth value of an empty array is ambiguous. Returning False, but in future this will result in an error. Use `array.size > 0` to check that an array is not empty.\n",
      "  if diff:\n"
     ]
    },
    {
     "name": "stdout",
     "output_type": "stream",
     "text": [
      "[CV]  booster=gbtree, max_depth=5, reg_lambda=1, n_estimators=350, colsample_bytree=0.9, subsample=1, learning_rate=0.1, gamma=0, total= 1.8min\n",
      "[CV] booster=gbtree, max_depth=5, reg_lambda=1, n_estimators=350, colsample_bytree=0.95, subsample=1, learning_rate=0.1, gamma=0 \n"
     ]
    },
    {
     "name": "stderr",
     "output_type": "stream",
     "text": [
      "/home/tony/MachineLearning/env/lib/python3.5/site-packages/sklearn/preprocessing/label.py:151: DeprecationWarning: The truth value of an empty array is ambiguous. Returning False, but in future this will result in an error. Use `array.size > 0` to check that an array is not empty.\n",
      "  if diff:\n",
      "/home/tony/MachineLearning/env/lib/python3.5/site-packages/sklearn/preprocessing/label.py:151: DeprecationWarning: The truth value of an empty array is ambiguous. Returning False, but in future this will result in an error. Use `array.size > 0` to check that an array is not empty.\n",
      "  if diff:\n"
     ]
    },
    {
     "name": "stdout",
     "output_type": "stream",
     "text": [
      "[CV]  booster=gbtree, max_depth=5, reg_lambda=1, n_estimators=350, colsample_bytree=0.9, subsample=1, learning_rate=0.1, gamma=0, total= 1.7min\n",
      "[CV] booster=gbtree, max_depth=5, reg_lambda=1, n_estimators=350, colsample_bytree=1.0, subsample=1, learning_rate=0.1, gamma=0 \n"
     ]
    },
    {
     "name": "stderr",
     "output_type": "stream",
     "text": [
      "/home/tony/MachineLearning/env/lib/python3.5/site-packages/sklearn/preprocessing/label.py:151: DeprecationWarning: The truth value of an empty array is ambiguous. Returning False, but in future this will result in an error. Use `array.size > 0` to check that an array is not empty.\n",
      "  if diff:\n",
      "/home/tony/MachineLearning/env/lib/python3.5/site-packages/sklearn/preprocessing/label.py:151: DeprecationWarning: The truth value of an empty array is ambiguous. Returning False, but in future this will result in an error. Use `array.size > 0` to check that an array is not empty.\n",
      "  if diff:\n"
     ]
    },
    {
     "name": "stdout",
     "output_type": "stream",
     "text": [
      "[CV]  booster=gbtree, max_depth=5, reg_lambda=1, n_estimators=350, colsample_bytree=0.95, subsample=1, learning_rate=0.1, gamma=0, total= 1.8min\n",
      "[CV] booster=gbtree, max_depth=5, reg_lambda=1, n_estimators=350, colsample_bytree=1.0, subsample=1, learning_rate=0.1, gamma=0 \n"
     ]
    },
    {
     "name": "stderr",
     "output_type": "stream",
     "text": [
      "/home/tony/MachineLearning/env/lib/python3.5/site-packages/sklearn/preprocessing/label.py:151: DeprecationWarning: The truth value of an empty array is ambiguous. Returning False, but in future this will result in an error. Use `array.size > 0` to check that an array is not empty.\n",
      "  if diff:\n",
      "/home/tony/MachineLearning/env/lib/python3.5/site-packages/sklearn/preprocessing/label.py:151: DeprecationWarning: The truth value of an empty array is ambiguous. Returning False, but in future this will result in an error. Use `array.size > 0` to check that an array is not empty.\n",
      "  if diff:\n"
     ]
    },
    {
     "name": "stdout",
     "output_type": "stream",
     "text": [
      "[CV]  booster=gbtree, max_depth=5, reg_lambda=1, n_estimators=350, colsample_bytree=0.95, subsample=1, learning_rate=0.1, gamma=0, total= 1.7min\n",
      "[CV] booster=gbtree, max_depth=5, reg_lambda=1, n_estimators=350, colsample_bytree=1.0, subsample=1, learning_rate=0.1, gamma=0 \n"
     ]
    },
    {
     "name": "stderr",
     "output_type": "stream",
     "text": [
      "/home/tony/MachineLearning/env/lib/python3.5/site-packages/sklearn/preprocessing/label.py:151: DeprecationWarning: The truth value of an empty array is ambiguous. Returning False, but in future this will result in an error. Use `array.size > 0` to check that an array is not empty.\n",
      "  if diff:\n",
      "/home/tony/MachineLearning/env/lib/python3.5/site-packages/sklearn/preprocessing/label.py:151: DeprecationWarning: The truth value of an empty array is ambiguous. Returning False, but in future this will result in an error. Use `array.size > 0` to check that an array is not empty.\n",
      "  if diff:\n"
     ]
    },
    {
     "name": "stdout",
     "output_type": "stream",
     "text": [
      "[CV]  booster=gbtree, max_depth=5, reg_lambda=1, n_estimators=350, colsample_bytree=0.95, subsample=1, learning_rate=0.1, gamma=0, total= 1.8min\n"
     ]
    },
    {
     "name": "stderr",
     "output_type": "stream",
     "text": [
      "/home/tony/MachineLearning/env/lib/python3.5/site-packages/sklearn/preprocessing/label.py:151: DeprecationWarning: The truth value of an empty array is ambiguous. Returning False, but in future this will result in an error. Use `array.size > 0` to check that an array is not empty.\n",
      "  if diff:\n",
      "/home/tony/MachineLearning/env/lib/python3.5/site-packages/sklearn/preprocessing/label.py:151: DeprecationWarning: The truth value of an empty array is ambiguous. Returning False, but in future this will result in an error. Use `array.size > 0` to check that an array is not empty.\n",
      "  if diff:\n"
     ]
    },
    {
     "name": "stdout",
     "output_type": "stream",
     "text": [
      "[CV]  booster=gbtree, max_depth=5, reg_lambda=1, n_estimators=350, colsample_bytree=1.0, subsample=1, learning_rate=0.1, gamma=0, total= 1.9min\n"
     ]
    },
    {
     "name": "stderr",
     "output_type": "stream",
     "text": [
      "/home/tony/MachineLearning/env/lib/python3.5/site-packages/sklearn/preprocessing/label.py:151: DeprecationWarning: The truth value of an empty array is ambiguous. Returning False, but in future this will result in an error. Use `array.size > 0` to check that an array is not empty.\n",
      "  if diff:\n",
      "/home/tony/MachineLearning/env/lib/python3.5/site-packages/sklearn/preprocessing/label.py:151: DeprecationWarning: The truth value of an empty array is ambiguous. Returning False, but in future this will result in an error. Use `array.size > 0` to check that an array is not empty.\n",
      "  if diff:\n"
     ]
    },
    {
     "name": "stdout",
     "output_type": "stream",
     "text": [
      "[CV]  booster=gbtree, max_depth=5, reg_lambda=1, n_estimators=350, colsample_bytree=1.0, subsample=1, learning_rate=0.1, gamma=0, total= 1.9min\n"
     ]
    },
    {
     "name": "stderr",
     "output_type": "stream",
     "text": [
      "/home/tony/MachineLearning/env/lib/python3.5/site-packages/sklearn/preprocessing/label.py:151: DeprecationWarning: The truth value of an empty array is ambiguous. Returning False, but in future this will result in an error. Use `array.size > 0` to check that an array is not empty.\n",
      "  if diff:\n",
      "/home/tony/MachineLearning/env/lib/python3.5/site-packages/sklearn/preprocessing/label.py:151: DeprecationWarning: The truth value of an empty array is ambiguous. Returning False, but in future this will result in an error. Use `array.size > 0` to check that an array is not empty.\n",
      "  if diff:\n"
     ]
    },
    {
     "name": "stdout",
     "output_type": "stream",
     "text": [
      "[CV]  booster=gbtree, max_depth=5, reg_lambda=1, n_estimators=350, colsample_bytree=1.0, subsample=1, learning_rate=0.1, gamma=0, total= 1.7min\n"
     ]
    },
    {
     "name": "stderr",
     "output_type": "stream",
     "text": [
      "[Parallel(n_jobs=4)]: Done  21 out of  21 | elapsed:  9.6min finished\n"
     ]
    },
    {
     "name": "stdout",
     "output_type": "stream",
     "text": [
      "Cross-validation Training Time =  713.4897327423096\n",
      "\n",
      "Grid scores:\n",
      "\n",
      "0.840 (+/-0.004) for {'subsample': 1, 'max_depth': 5, 'reg_lambda': 1, 'gamma': 0, 'colsample_bytree': 0.7, 'booster': 'gbtree', 'learning_rate': 0.1, 'n_estimators': 350}\n",
      "0.839 (+/-0.008) for {'subsample': 1, 'max_depth': 5, 'reg_lambda': 1, 'gamma': 0, 'colsample_bytree': 0.75, 'booster': 'gbtree', 'learning_rate': 0.1, 'n_estimators': 350}\n",
      "0.839 (+/-0.004) for {'subsample': 1, 'max_depth': 5, 'reg_lambda': 1, 'gamma': 0, 'colsample_bytree': 0.8, 'booster': 'gbtree', 'learning_rate': 0.1, 'n_estimators': 350}\n",
      "0.842 (+/-0.005) for {'subsample': 1, 'max_depth': 5, 'reg_lambda': 1, 'gamma': 0, 'colsample_bytree': 0.85, 'booster': 'gbtree', 'learning_rate': 0.1, 'n_estimators': 350}\n",
      "0.839 (+/-0.005) for {'subsample': 1, 'max_depth': 5, 'reg_lambda': 1, 'gamma': 0, 'colsample_bytree': 0.9, 'booster': 'gbtree', 'learning_rate': 0.1, 'n_estimators': 350}\n",
      "0.840 (+/-0.006) for {'subsample': 1, 'max_depth': 5, 'reg_lambda': 1, 'gamma': 0, 'colsample_bytree': 0.95, 'booster': 'gbtree', 'learning_rate': 0.1, 'n_estimators': 350}\n",
      "0.840 (+/-0.005) for {'subsample': 1, 'max_depth': 5, 'reg_lambda': 1, 'gamma': 0, 'colsample_bytree': 1.0, 'booster': 'gbtree', 'learning_rate': 0.1, 'n_estimators': 350}\n",
      "\n",
      "Best parameter set:\n",
      "{'subsample': 1, 'max_depth': 5, 'reg_lambda': 1, 'gamma': 0, 'colsample_bytree': 0.85, 'booster': 'gbtree', 'learning_rate': 0.1, 'n_estimators': 350}\n",
      "\n"
     ]
    }
   ],
   "source": [
    "K_folds = 3\n",
    "params = [{'max_depth': [5], 'learning_rate': [.1], 'n_estimators':[350], 'gamma':[0], 'subsample':[1], 'colsample_bytree':[.7,.75,.8,.85,.9,.95,1.0], 'reg_lambda':[1]}]\n",
    "crossvalidate_XGBoost(X_train, y_train, params, K_folds)"
   ]
  },
  {
   "cell_type": "markdown",
   "metadata": {},
   "source": [
    "Find colsample_bytree = .85 works best.  \n",
    "\n",
    "Now try subsample."
   ]
  },
  {
   "cell_type": "code",
   "execution_count": 8,
   "metadata": {
    "scrolled": true
   },
   "outputs": [
    {
     "name": "stdout",
     "output_type": "stream",
     "text": [
      "Fitting 3 folds for each of 7 candidates, totalling 21 fits\n",
      "[CV] booster=gbtree, max_depth=5, reg_lambda=1, n_estimators=350, colsample_bytree=0.85, subsample=0.7, learning_rate=0.1, gamma=0 \n",
      "[CV] booster=gbtree, max_depth=5, reg_lambda=1, n_estimators=350, colsample_bytree=0.85, subsample=0.7, learning_rate=0.1, gamma=0 \n",
      "[CV] booster=gbtree, max_depth=5, reg_lambda=1, n_estimators=350, colsample_bytree=0.85, subsample=0.7, learning_rate=0.1, gamma=0 \n",
      "[CV] booster=gbtree, max_depth=5, reg_lambda=1, n_estimators=350, colsample_bytree=0.85, subsample=0.75, learning_rate=0.1, gamma=0 \n",
      "[CV]  booster=gbtree, max_depth=5, reg_lambda=1, n_estimators=350, colsample_bytree=0.85, subsample=0.75, learning_rate=0.1, gamma=0, total= 1.9min\n",
      "[CV] booster=gbtree, max_depth=5, reg_lambda=1, n_estimators=350, colsample_bytree=0.85, subsample=0.75, learning_rate=0.1, gamma=0 \n",
      "[CV]  booster=gbtree, max_depth=5, reg_lambda=1, n_estimators=350, colsample_bytree=0.85, subsample=0.7, learning_rate=0.1, gamma=0, total= 1.9min\n",
      "[CV] booster=gbtree, max_depth=5, reg_lambda=1, n_estimators=350, colsample_bytree=0.85, subsample=0.75, learning_rate=0.1, gamma=0 \n",
      "[CV]  booster=gbtree, max_depth=5, reg_lambda=1, n_estimators=350, colsample_bytree=0.85, subsample=0.7, learning_rate=0.1, gamma=0, total= 2.0min\n",
      "[CV] booster=gbtree, max_depth=5, reg_lambda=1, n_estimators=350, colsample_bytree=0.85, subsample=0.8, learning_rate=0.1, gamma=0 \n",
      "[CV]  booster=gbtree, max_depth=5, reg_lambda=1, n_estimators=350, colsample_bytree=0.85, subsample=0.7, learning_rate=0.1, gamma=0, total= 2.0min\n",
      "[CV] booster=gbtree, max_depth=5, reg_lambda=1, n_estimators=350, colsample_bytree=0.85, subsample=0.8, learning_rate=0.1, gamma=0 \n",
      "[CV]  booster=gbtree, max_depth=5, reg_lambda=1, n_estimators=350, colsample_bytree=0.85, subsample=0.75, learning_rate=0.1, gamma=0, total= 1.9min\n",
      "[CV] booster=gbtree, max_depth=5, reg_lambda=1, n_estimators=350, colsample_bytree=0.85, subsample=0.8, learning_rate=0.1, gamma=0 \n",
      "[CV]  booster=gbtree, max_depth=5, reg_lambda=1, n_estimators=350, colsample_bytree=0.85, subsample=0.8, learning_rate=0.1, gamma=0, total= 1.8min\n",
      "[CV] booster=gbtree, max_depth=5, reg_lambda=1, n_estimators=350, colsample_bytree=0.85, subsample=0.85, learning_rate=0.1, gamma=0 \n",
      "[CV]  booster=gbtree, max_depth=5, reg_lambda=1, n_estimators=350, colsample_bytree=0.85, subsample=0.75, learning_rate=0.1, gamma=0, total= 1.9min\n",
      "[CV] booster=gbtree, max_depth=5, reg_lambda=1, n_estimators=350, colsample_bytree=0.85, subsample=0.85, learning_rate=0.1, gamma=0 \n",
      "[CV]  booster=gbtree, max_depth=5, reg_lambda=1, n_estimators=350, colsample_bytree=0.85, subsample=0.8, learning_rate=0.1, gamma=0, total= 1.9min\n",
      "[CV] booster=gbtree, max_depth=5, reg_lambda=1, n_estimators=350, colsample_bytree=0.85, subsample=0.85, learning_rate=0.1, gamma=0 \n",
      "[CV]  booster=gbtree, max_depth=5, reg_lambda=1, n_estimators=350, colsample_bytree=0.85, subsample=0.85, learning_rate=0.1, gamma=0, total= 1.8min\n",
      "[CV] booster=gbtree, max_depth=5, reg_lambda=1, n_estimators=350, colsample_bytree=0.85, subsample=0.9, learning_rate=0.1, gamma=0 \n",
      "[CV]  booster=gbtree, max_depth=5, reg_lambda=1, n_estimators=350, colsample_bytree=0.85, subsample=0.8, learning_rate=0.1, gamma=0, total= 1.9min\n",
      "[CV] booster=gbtree, max_depth=5, reg_lambda=1, n_estimators=350, colsample_bytree=0.85, subsample=0.9, learning_rate=0.1, gamma=0 \n",
      "[CV]  booster=gbtree, max_depth=5, reg_lambda=1, n_estimators=350, colsample_bytree=0.85, subsample=0.85, learning_rate=0.1, gamma=0, total= 1.9min\n",
      "[CV] booster=gbtree, max_depth=5, reg_lambda=1, n_estimators=350, colsample_bytree=0.85, subsample=0.9, learning_rate=0.1, gamma=0 \n",
      "[CV]  booster=gbtree, max_depth=5, reg_lambda=1, n_estimators=350, colsample_bytree=0.85, subsample=0.85, learning_rate=0.1, gamma=0, total= 1.8min\n",
      "[CV] booster=gbtree, max_depth=5, reg_lambda=1, n_estimators=350, colsample_bytree=0.85, subsample=0.95, learning_rate=0.1, gamma=0 \n",
      "[CV]  booster=gbtree, max_depth=5, reg_lambda=1, n_estimators=350, colsample_bytree=0.85, subsample=0.9, learning_rate=0.1, gamma=0, total= 1.7min\n",
      "[CV] booster=gbtree, max_depth=5, reg_lambda=1, n_estimators=350, colsample_bytree=0.85, subsample=0.95, learning_rate=0.1, gamma=0 \n",
      "[CV]  booster=gbtree, max_depth=5, reg_lambda=1, n_estimators=350, colsample_bytree=0.85, subsample=0.95, learning_rate=0.1, gamma=0, total= 1.7min\n",
      "[CV] booster=gbtree, max_depth=5, reg_lambda=1, n_estimators=350, colsample_bytree=0.85, subsample=0.95, learning_rate=0.1, gamma=0 \n",
      "[CV]  booster=gbtree, max_depth=5, reg_lambda=1, n_estimators=350, colsample_bytree=0.85, subsample=0.9, learning_rate=0.1, gamma=0, total= 1.8min\n",
      "[CV] booster=gbtree, max_depth=5, reg_lambda=1, n_estimators=350, colsample_bytree=0.85, subsample=1.0, learning_rate=0.1, gamma=0 \n",
      "[CV]  booster=gbtree, max_depth=5, reg_lambda=1, n_estimators=350, colsample_bytree=0.85, subsample=0.9, learning_rate=0.1, gamma=0, total= 1.7min\n",
      "[CV] booster=gbtree, max_depth=5, reg_lambda=1, n_estimators=350, colsample_bytree=0.85, subsample=1.0, learning_rate=0.1, gamma=0 \n",
      "[CV]  booster=gbtree, max_depth=5, reg_lambda=1, n_estimators=350, colsample_bytree=0.85, subsample=0.95, learning_rate=0.1, gamma=0, total= 1.7min\n",
      "[CV] booster=gbtree, max_depth=5, reg_lambda=1, n_estimators=350, colsample_bytree=0.85, subsample=1.0, learning_rate=0.1, gamma=0 \n",
      "[CV]  booster=gbtree, max_depth=5, reg_lambda=1, n_estimators=350, colsample_bytree=0.85, subsample=1.0, learning_rate=0.1, gamma=0, total= 1.6min\n",
      "[CV]  booster=gbtree, max_depth=5, reg_lambda=1, n_estimators=350, colsample_bytree=0.85, subsample=1.0, learning_rate=0.1, gamma=0, total= 1.6min\n",
      "[CV]  booster=gbtree, max_depth=5, reg_lambda=1, n_estimators=350, colsample_bytree=0.85, subsample=0.95, learning_rate=0.1, gamma=0, total= 1.7min\n",
      "[CV]  booster=gbtree, max_depth=5, reg_lambda=1, n_estimators=350, colsample_bytree=0.85, subsample=1.0, learning_rate=0.1, gamma=0, total= 1.5min\n"
     ]
    },
    {
     "name": "stderr",
     "output_type": "stream",
     "text": [
      "[Parallel(n_jobs=4)]: Done  21 out of  21 | elapsed: 10.6min finished\n"
     ]
    },
    {
     "name": "stdout",
     "output_type": "stream",
     "text": [
      "Cross-validation Training Time =  784.4040081501007\n",
      "\n",
      "Grid scores:\n",
      "\n",
      "0.842 (+/-0.011) for {'subsample': 0.7, 'max_depth': 5, 'reg_lambda': 1, 'gamma': 0, 'colsample_bytree': 0.85, 'booster': 'gbtree', 'learning_rate': 0.1, 'n_estimators': 350}\n",
      "0.842 (+/-0.009) for {'subsample': 0.75, 'max_depth': 5, 'reg_lambda': 1, 'gamma': 0, 'colsample_bytree': 0.85, 'booster': 'gbtree', 'learning_rate': 0.1, 'n_estimators': 350}\n",
      "0.842 (+/-0.010) for {'subsample': 0.8, 'max_depth': 5, 'reg_lambda': 1, 'gamma': 0, 'colsample_bytree': 0.85, 'booster': 'gbtree', 'learning_rate': 0.1, 'n_estimators': 350}\n",
      "0.841 (+/-0.009) for {'subsample': 0.85, 'max_depth': 5, 'reg_lambda': 1, 'gamma': 0, 'colsample_bytree': 0.85, 'booster': 'gbtree', 'learning_rate': 0.1, 'n_estimators': 350}\n",
      "0.843 (+/-0.007) for {'subsample': 0.9, 'max_depth': 5, 'reg_lambda': 1, 'gamma': 0, 'colsample_bytree': 0.85, 'booster': 'gbtree', 'learning_rate': 0.1, 'n_estimators': 350}\n",
      "0.840 (+/-0.007) for {'subsample': 0.95, 'max_depth': 5, 'reg_lambda': 1, 'gamma': 0, 'colsample_bytree': 0.85, 'booster': 'gbtree', 'learning_rate': 0.1, 'n_estimators': 350}\n",
      "0.842 (+/-0.005) for {'subsample': 1.0, 'max_depth': 5, 'reg_lambda': 1, 'gamma': 0, 'colsample_bytree': 0.85, 'booster': 'gbtree', 'learning_rate': 0.1, 'n_estimators': 350}\n",
      "\n",
      "Best parameter set:\n",
      "{'subsample': 0.9, 'max_depth': 5, 'reg_lambda': 1, 'gamma': 0, 'colsample_bytree': 0.85, 'booster': 'gbtree', 'learning_rate': 0.1, 'n_estimators': 350}\n",
      "\n"
     ]
    }
   ],
   "source": [
    "K_folds = 3\n",
    "params = [{'max_depth': [5], 'learning_rate': [.1], 'n_estimators':[350], 'gamma':[0], 'subsample':[.7,.75,.8,.85,.9,.95,1.0], 'colsample_bytree':[.85], 'reg_lambda':[1]}]\n",
    "crossvalidate_XGBoost(X_train, y_train, params, K_folds)"
   ]
  },
  {
   "cell_type": "markdown",
   "metadata": {},
   "source": [
    "Find subsample = .9\n",
    "\n",
    "Now try gamma."
   ]
  },
  {
   "cell_type": "code",
   "execution_count": 9,
   "metadata": {
    "scrolled": true
   },
   "outputs": [
    {
     "name": "stdout",
     "output_type": "stream",
     "text": [
      "Fitting 3 folds for each of 8 candidates, totalling 24 fits\n",
      "[CV] booster=gbtree, max_depth=5, reg_lambda=1, n_estimators=350, colsample_bytree=0.85, subsample=0.9, learning_rate=0.1, gamma=0 \n",
      "[CV] booster=gbtree, max_depth=5, reg_lambda=1, n_estimators=350, colsample_bytree=0.85, subsample=0.9, learning_rate=0.1, gamma=0 \n",
      "[CV] booster=gbtree, max_depth=5, reg_lambda=1, n_estimators=350, colsample_bytree=0.85, subsample=0.9, learning_rate=0.1, gamma=0 \n",
      "[CV] booster=gbtree, max_depth=5, reg_lambda=1, n_estimators=350, colsample_bytree=0.85, subsample=0.9, learning_rate=0.1, gamma=0.2 \n",
      "[CV]  booster=gbtree, max_depth=5, reg_lambda=1, n_estimators=350, colsample_bytree=0.85, subsample=0.9, learning_rate=0.1, gamma=0, total= 1.7min\n",
      "[CV] booster=gbtree, max_depth=5, reg_lambda=1, n_estimators=350, colsample_bytree=0.85, subsample=0.9, learning_rate=0.1, gamma=0.2 \n",
      "[CV]  booster=gbtree, max_depth=5, reg_lambda=1, n_estimators=350, colsample_bytree=0.85, subsample=0.9, learning_rate=0.1, gamma=0.2, total= 1.7min\n",
      "[CV] booster=gbtree, max_depth=5, reg_lambda=1, n_estimators=350, colsample_bytree=0.85, subsample=0.9, learning_rate=0.1, gamma=0.2 \n",
      "[CV]  booster=gbtree, max_depth=5, reg_lambda=1, n_estimators=350, colsample_bytree=0.85, subsample=0.9, learning_rate=0.1, gamma=0, total= 1.8min\n",
      "[CV] booster=gbtree, max_depth=5, reg_lambda=1, n_estimators=350, colsample_bytree=0.85, subsample=0.9, learning_rate=0.1, gamma=0.4 \n",
      "[CV]  booster=gbtree, max_depth=5, reg_lambda=1, n_estimators=350, colsample_bytree=0.85, subsample=0.9, learning_rate=0.1, gamma=0, total= 1.8min\n",
      "[CV] booster=gbtree, max_depth=5, reg_lambda=1, n_estimators=350, colsample_bytree=0.85, subsample=0.9, learning_rate=0.1, gamma=0.4 \n",
      "[CV]  booster=gbtree, max_depth=5, reg_lambda=1, n_estimators=350, colsample_bytree=0.85, subsample=0.9, learning_rate=0.1, gamma=0.4, total= 1.7min\n",
      "[CV] booster=gbtree, max_depth=5, reg_lambda=1, n_estimators=350, colsample_bytree=0.85, subsample=0.9, learning_rate=0.1, gamma=0.4 \n",
      "[CV]  booster=gbtree, max_depth=5, reg_lambda=1, n_estimators=350, colsample_bytree=0.85, subsample=0.9, learning_rate=0.1, gamma=0.2, total= 1.8min\n",
      "[CV] booster=gbtree, max_depth=5, reg_lambda=1, n_estimators=350, colsample_bytree=0.85, subsample=0.9, learning_rate=0.1, gamma=0.6 \n",
      "[CV]  booster=gbtree, max_depth=5, reg_lambda=1, n_estimators=350, colsample_bytree=0.85, subsample=0.9, learning_rate=0.1, gamma=0.4, total= 1.8min\n",
      "[CV] booster=gbtree, max_depth=5, reg_lambda=1, n_estimators=350, colsample_bytree=0.85, subsample=0.9, learning_rate=0.1, gamma=0.6 \n",
      "[CV]  booster=gbtree, max_depth=5, reg_lambda=1, n_estimators=350, colsample_bytree=0.85, subsample=0.9, learning_rate=0.1, gamma=0.2, total= 1.9min\n",
      "[CV] booster=gbtree, max_depth=5, reg_lambda=1, n_estimators=350, colsample_bytree=0.85, subsample=0.9, learning_rate=0.1, gamma=0.6 \n",
      "[CV]  booster=gbtree, max_depth=5, reg_lambda=1, n_estimators=350, colsample_bytree=0.85, subsample=0.9, learning_rate=0.1, gamma=0.6, total= 1.8min\n",
      "[CV] booster=gbtree, max_depth=5, reg_lambda=1, n_estimators=350, colsample_bytree=0.85, subsample=0.9, learning_rate=0.1, gamma=0.8 \n",
      "[CV]  booster=gbtree, max_depth=5, reg_lambda=1, n_estimators=350, colsample_bytree=0.85, subsample=0.9, learning_rate=0.1, gamma=0.4, total= 1.8min\n",
      "[CV] booster=gbtree, max_depth=5, reg_lambda=1, n_estimators=350, colsample_bytree=0.85, subsample=0.9, learning_rate=0.1, gamma=0.8 \n",
      "[CV]  booster=gbtree, max_depth=5, reg_lambda=1, n_estimators=350, colsample_bytree=0.85, subsample=0.9, learning_rate=0.1, gamma=0.6, total= 1.8min\n",
      "[CV] booster=gbtree, max_depth=5, reg_lambda=1, n_estimators=350, colsample_bytree=0.85, subsample=0.9, learning_rate=0.1, gamma=0.8 \n",
      "[CV]  booster=gbtree, max_depth=5, reg_lambda=1, n_estimators=350, colsample_bytree=0.85, subsample=0.9, learning_rate=0.1, gamma=0.6, total= 1.8min\n",
      "[CV] booster=gbtree, max_depth=5, reg_lambda=1, n_estimators=350, colsample_bytree=0.85, subsample=0.9, learning_rate=0.1, gamma=1.0 \n",
      "[CV]  booster=gbtree, max_depth=5, reg_lambda=1, n_estimators=350, colsample_bytree=0.85, subsample=0.9, learning_rate=0.1, gamma=0.8, total= 1.7min\n",
      "[CV] booster=gbtree, max_depth=5, reg_lambda=1, n_estimators=350, colsample_bytree=0.85, subsample=0.9, learning_rate=0.1, gamma=1.0 \n",
      "[CV]  booster=gbtree, max_depth=5, reg_lambda=1, n_estimators=350, colsample_bytree=0.85, subsample=0.9, learning_rate=0.1, gamma=0.8, total= 1.8min\n",
      "[CV] booster=gbtree, max_depth=5, reg_lambda=1, n_estimators=350, colsample_bytree=0.85, subsample=0.9, learning_rate=0.1, gamma=1.0 \n",
      "[CV]  booster=gbtree, max_depth=5, reg_lambda=1, n_estimators=350, colsample_bytree=0.85, subsample=0.9, learning_rate=0.1, gamma=0.8, total= 1.8min\n",
      "[CV] booster=gbtree, max_depth=5, reg_lambda=1, n_estimators=350, colsample_bytree=0.85, subsample=0.9, learning_rate=0.1, gamma=1.2 \n",
      "[CV]  booster=gbtree, max_depth=5, reg_lambda=1, n_estimators=350, colsample_bytree=0.85, subsample=0.9, learning_rate=0.1, gamma=1.0, total= 1.8min\n",
      "[CV] booster=gbtree, max_depth=5, reg_lambda=1, n_estimators=350, colsample_bytree=0.85, subsample=0.9, learning_rate=0.1, gamma=1.2 \n",
      "[CV]  booster=gbtree, max_depth=5, reg_lambda=1, n_estimators=350, colsample_bytree=0.85, subsample=0.9, learning_rate=0.1, gamma=1.0, total= 1.7min\n",
      "[CV] booster=gbtree, max_depth=5, reg_lambda=1, n_estimators=350, colsample_bytree=0.85, subsample=0.9, learning_rate=0.1, gamma=1.2 \n",
      "[CV]  booster=gbtree, max_depth=5, reg_lambda=1, n_estimators=350, colsample_bytree=0.85, subsample=0.9, learning_rate=0.1, gamma=1.0, total= 1.7min\n",
      "[CV] booster=gbtree, max_depth=5, reg_lambda=1, n_estimators=350, colsample_bytree=0.85, subsample=0.9, learning_rate=0.1, gamma=1.4 \n",
      "[CV]  booster=gbtree, max_depth=5, reg_lambda=1, n_estimators=350, colsample_bytree=0.85, subsample=0.9, learning_rate=0.1, gamma=1.2, total= 1.7min\n",
      "[CV] booster=gbtree, max_depth=5, reg_lambda=1, n_estimators=350, colsample_bytree=0.85, subsample=0.9, learning_rate=0.1, gamma=1.4 \n",
      "[CV]  booster=gbtree, max_depth=5, reg_lambda=1, n_estimators=350, colsample_bytree=0.85, subsample=0.9, learning_rate=0.1, gamma=1.2, total= 1.8min\n",
      "[CV] booster=gbtree, max_depth=5, reg_lambda=1, n_estimators=350, colsample_bytree=0.85, subsample=0.9, learning_rate=0.1, gamma=1.4 \n",
      "[CV]  booster=gbtree, max_depth=5, reg_lambda=1, n_estimators=350, colsample_bytree=0.85, subsample=0.9, learning_rate=0.1, gamma=1.2, total= 1.7min\n",
      "[CV]  booster=gbtree, max_depth=5, reg_lambda=1, n_estimators=350, colsample_bytree=0.85, subsample=0.9, learning_rate=0.1, gamma=1.4, total= 1.7min\n",
      "[CV]  booster=gbtree, max_depth=5, reg_lambda=1, n_estimators=350, colsample_bytree=0.85, subsample=0.9, learning_rate=0.1, gamma=1.4, total= 1.7min\n",
      "[CV]  booster=gbtree, max_depth=5, reg_lambda=1, n_estimators=350, colsample_bytree=0.85, subsample=0.9, learning_rate=0.1, gamma=1.4, total= 1.8min\n"
     ]
    },
    {
     "name": "stderr",
     "output_type": "stream",
     "text": [
      "[Parallel(n_jobs=4)]: Done  24 out of  24 | elapsed: 10.7min finished\n"
     ]
    },
    {
     "name": "stdout",
     "output_type": "stream",
     "text": [
      "Cross-validation Training Time =  795.1574280261993\n",
      "\n",
      "Grid scores:\n",
      "\n",
      "0.843 (+/-0.007) for {'subsample': 0.9, 'max_depth': 5, 'reg_lambda': 1, 'gamma': 0, 'colsample_bytree': 0.85, 'booster': 'gbtree', 'learning_rate': 0.1, 'n_estimators': 350}\n",
      "0.842 (+/-0.005) for {'subsample': 0.9, 'max_depth': 5, 'reg_lambda': 1, 'gamma': 0.2, 'colsample_bytree': 0.85, 'booster': 'gbtree', 'learning_rate': 0.1, 'n_estimators': 350}\n",
      "0.842 (+/-0.004) for {'subsample': 0.9, 'max_depth': 5, 'reg_lambda': 1, 'gamma': 0.4, 'colsample_bytree': 0.85, 'booster': 'gbtree', 'learning_rate': 0.1, 'n_estimators': 350}\n",
      "0.841 (+/-0.008) for {'subsample': 0.9, 'max_depth': 5, 'reg_lambda': 1, 'gamma': 0.6, 'colsample_bytree': 0.85, 'booster': 'gbtree', 'learning_rate': 0.1, 'n_estimators': 350}\n",
      "0.842 (+/-0.005) for {'subsample': 0.9, 'max_depth': 5, 'reg_lambda': 1, 'gamma': 0.8, 'colsample_bytree': 0.85, 'booster': 'gbtree', 'learning_rate': 0.1, 'n_estimators': 350}\n",
      "0.842 (+/-0.008) for {'subsample': 0.9, 'max_depth': 5, 'reg_lambda': 1, 'gamma': 1.0, 'colsample_bytree': 0.85, 'booster': 'gbtree', 'learning_rate': 0.1, 'n_estimators': 350}\n",
      "0.842 (+/-0.008) for {'subsample': 0.9, 'max_depth': 5, 'reg_lambda': 1, 'gamma': 1.2, 'colsample_bytree': 0.85, 'booster': 'gbtree', 'learning_rate': 0.1, 'n_estimators': 350}\n",
      "0.841 (+/-0.005) for {'subsample': 0.9, 'max_depth': 5, 'reg_lambda': 1, 'gamma': 1.4, 'colsample_bytree': 0.85, 'booster': 'gbtree', 'learning_rate': 0.1, 'n_estimators': 350}\n",
      "\n",
      "Best parameter set:\n",
      "{'subsample': 0.9, 'max_depth': 5, 'reg_lambda': 1, 'gamma': 0, 'colsample_bytree': 0.85, 'booster': 'gbtree', 'learning_rate': 0.1, 'n_estimators': 350}\n",
      "\n"
     ]
    }
   ],
   "source": [
    "K_folds = 3\n",
    "params = [{'max_depth': [5], 'learning_rate': [.1], 'n_estimators':[350], 'gamma':[0,.2,.4,.6,.8,1.0,1.2,1.4], 'subsample':[.9], 'colsample_bytree':[.85], 'reg_lambda':[1]}]\n",
    "crossvalidate_XGBoost(X_train, y_train, params, K_folds)"
   ]
  },
  {
   "cell_type": "markdown",
   "metadata": {},
   "source": [
    "Find gamma = 0"
   ]
  },
  {
   "cell_type": "markdown",
   "metadata": {},
   "source": [
    "Now return to tuning of max_depth and min_child_weight. These are the most important parameters, so they will be evaluated together."
   ]
  },
  {
   "cell_type": "code",
   "execution_count": 11,
   "metadata": {},
   "outputs": [
    {
     "name": "stdout",
     "output_type": "stream",
     "text": [
      "Fitting 3 folds for each of 16 candidates, totalling 48 fits\n",
      "[CV] max_depth=4, reg_lambda=1, n_estimators=350, colsample_bytree=0.85, subsample=0.9, min_child_weight=1, learning_rate=0.1, gamma=0 \n",
      "[CV] max_depth=4, reg_lambda=1, n_estimators=350, colsample_bytree=0.85, subsample=0.9, min_child_weight=1, learning_rate=0.1, gamma=0 \n",
      "[CV] max_depth=4, reg_lambda=1, n_estimators=350, colsample_bytree=0.85, subsample=0.9, min_child_weight=1, learning_rate=0.1, gamma=0 \n",
      "[CV] max_depth=4, reg_lambda=1, n_estimators=350, colsample_bytree=0.85, subsample=0.9, min_child_weight=3, learning_rate=0.1, gamma=0 \n",
      "[CV]  max_depth=4, reg_lambda=1, n_estimators=350, colsample_bytree=0.85, subsample=0.9, min_child_weight=1, learning_rate=0.1, gamma=0, total= 1.4min\n",
      "[CV] max_depth=4, reg_lambda=1, n_estimators=350, colsample_bytree=0.85, subsample=0.9, min_child_weight=3, learning_rate=0.1, gamma=0 \n",
      "[CV]  max_depth=4, reg_lambda=1, n_estimators=350, colsample_bytree=0.85, subsample=0.9, min_child_weight=1, learning_rate=0.1, gamma=0, total= 1.4min\n",
      "[CV] max_depth=4, reg_lambda=1, n_estimators=350, colsample_bytree=0.85, subsample=0.9, min_child_weight=3, learning_rate=0.1, gamma=0 \n",
      "[CV]  max_depth=4, reg_lambda=1, n_estimators=350, colsample_bytree=0.85, subsample=0.9, min_child_weight=1, learning_rate=0.1, gamma=0, total= 1.4min\n",
      "[CV] max_depth=4, reg_lambda=1, n_estimators=350, colsample_bytree=0.85, subsample=0.9, min_child_weight=5, learning_rate=0.1, gamma=0 \n",
      "[CV]  max_depth=4, reg_lambda=1, n_estimators=350, colsample_bytree=0.85, subsample=0.9, min_child_weight=3, learning_rate=0.1, gamma=0, total= 1.4min\n",
      "[CV] max_depth=4, reg_lambda=1, n_estimators=350, colsample_bytree=0.85, subsample=0.9, min_child_weight=5, learning_rate=0.1, gamma=0 \n",
      "[CV]  max_depth=4, reg_lambda=1, n_estimators=350, colsample_bytree=0.85, subsample=0.9, min_child_weight=3, learning_rate=0.1, gamma=0, total= 1.5min\n",
      "[CV] max_depth=4, reg_lambda=1, n_estimators=350, colsample_bytree=0.85, subsample=0.9, min_child_weight=5, learning_rate=0.1, gamma=0 \n",
      "[CV]  max_depth=4, reg_lambda=1, n_estimators=350, colsample_bytree=0.85, subsample=0.9, min_child_weight=3, learning_rate=0.1, gamma=0, total= 1.5min\n",
      "[CV] max_depth=4, reg_lambda=1, n_estimators=350, colsample_bytree=0.85, subsample=0.9, min_child_weight=7, learning_rate=0.1, gamma=0 \n",
      "[CV]  max_depth=4, reg_lambda=1, n_estimators=350, colsample_bytree=0.85, subsample=0.9, min_child_weight=5, learning_rate=0.1, gamma=0, total= 1.5min\n",
      "[CV] max_depth=4, reg_lambda=1, n_estimators=350, colsample_bytree=0.85, subsample=0.9, min_child_weight=7, learning_rate=0.1, gamma=0 \n",
      "[CV]  max_depth=4, reg_lambda=1, n_estimators=350, colsample_bytree=0.85, subsample=0.9, min_child_weight=5, learning_rate=0.1, gamma=0, total= 1.4min\n",
      "[CV] max_depth=4, reg_lambda=1, n_estimators=350, colsample_bytree=0.85, subsample=0.9, min_child_weight=7, learning_rate=0.1, gamma=0 \n",
      "[CV]  max_depth=4, reg_lambda=1, n_estimators=350, colsample_bytree=0.85, subsample=0.9, min_child_weight=5, learning_rate=0.1, gamma=0, total= 1.4min\n",
      "[CV] max_depth=5, reg_lambda=1, n_estimators=350, colsample_bytree=0.85, subsample=0.9, min_child_weight=1, learning_rate=0.1, gamma=0 \n",
      "[CV]  max_depth=4, reg_lambda=1, n_estimators=350, colsample_bytree=0.85, subsample=0.9, min_child_weight=7, learning_rate=0.1, gamma=0, total= 1.4min\n",
      "[CV] max_depth=5, reg_lambda=1, n_estimators=350, colsample_bytree=0.85, subsample=0.9, min_child_weight=1, learning_rate=0.1, gamma=0 \n",
      "[CV]  max_depth=4, reg_lambda=1, n_estimators=350, colsample_bytree=0.85, subsample=0.9, min_child_weight=7, learning_rate=0.1, gamma=0, total= 1.4min\n",
      "[CV] max_depth=5, reg_lambda=1, n_estimators=350, colsample_bytree=0.85, subsample=0.9, min_child_weight=1, learning_rate=0.1, gamma=0 \n",
      "[CV]  max_depth=4, reg_lambda=1, n_estimators=350, colsample_bytree=0.85, subsample=0.9, min_child_weight=7, learning_rate=0.1, gamma=0, total= 1.4min\n",
      "[CV] max_depth=5, reg_lambda=1, n_estimators=350, colsample_bytree=0.85, subsample=0.9, min_child_weight=3, learning_rate=0.1, gamma=0 \n",
      "[CV]  max_depth=5, reg_lambda=1, n_estimators=350, colsample_bytree=0.85, subsample=0.9, min_child_weight=1, learning_rate=0.1, gamma=0, total= 1.8min\n",
      "[CV] max_depth=5, reg_lambda=1, n_estimators=350, colsample_bytree=0.85, subsample=0.9, min_child_weight=3, learning_rate=0.1, gamma=0 \n",
      "[CV]  max_depth=5, reg_lambda=1, n_estimators=350, colsample_bytree=0.85, subsample=0.9, min_child_weight=1, learning_rate=0.1, gamma=0, total= 1.8min\n",
      "[CV] max_depth=5, reg_lambda=1, n_estimators=350, colsample_bytree=0.85, subsample=0.9, min_child_weight=3, learning_rate=0.1, gamma=0 \n",
      "[CV]  max_depth=5, reg_lambda=1, n_estimators=350, colsample_bytree=0.85, subsample=0.9, min_child_weight=3, learning_rate=0.1, gamma=0, total= 1.8min\n",
      "[CV] max_depth=5, reg_lambda=1, n_estimators=350, colsample_bytree=0.85, subsample=0.9, min_child_weight=5, learning_rate=0.1, gamma=0 \n",
      "[CV]  max_depth=5, reg_lambda=1, n_estimators=350, colsample_bytree=0.85, subsample=0.9, min_child_weight=1, learning_rate=0.1, gamma=0, total= 1.9min\n",
      "[CV] max_depth=5, reg_lambda=1, n_estimators=350, colsample_bytree=0.85, subsample=0.9, min_child_weight=5, learning_rate=0.1, gamma=0 \n",
      "[CV]  max_depth=5, reg_lambda=1, n_estimators=350, colsample_bytree=0.85, subsample=0.9, min_child_weight=5, learning_rate=0.1, gamma=0, total= 1.7min\n",
      "[CV] max_depth=5, reg_lambda=1, n_estimators=350, colsample_bytree=0.85, subsample=0.9, min_child_weight=5, learning_rate=0.1, gamma=0 \n",
      "[CV]  max_depth=5, reg_lambda=1, n_estimators=350, colsample_bytree=0.85, subsample=0.9, min_child_weight=3, learning_rate=0.1, gamma=0, total= 1.8min\n",
      "[CV] max_depth=5, reg_lambda=1, n_estimators=350, colsample_bytree=0.85, subsample=0.9, min_child_weight=7, learning_rate=0.1, gamma=0 \n",
      "[CV]  max_depth=5, reg_lambda=1, n_estimators=350, colsample_bytree=0.85, subsample=0.9, min_child_weight=3, learning_rate=0.1, gamma=0, total= 1.8min\n",
      "[CV] max_depth=5, reg_lambda=1, n_estimators=350, colsample_bytree=0.85, subsample=0.9, min_child_weight=7, learning_rate=0.1, gamma=0 \n",
      "[CV]  max_depth=5, reg_lambda=1, n_estimators=350, colsample_bytree=0.85, subsample=0.9, min_child_weight=5, learning_rate=0.1, gamma=0, total= 1.7min\n",
      "[CV] max_depth=5, reg_lambda=1, n_estimators=350, colsample_bytree=0.85, subsample=0.9, min_child_weight=7, learning_rate=0.1, gamma=0 \n",
      "[CV]  max_depth=5, reg_lambda=1, n_estimators=350, colsample_bytree=0.85, subsample=0.9, min_child_weight=7, learning_rate=0.1, gamma=0, total= 1.7min\n",
      "[CV] max_depth=6, reg_lambda=1, n_estimators=350, colsample_bytree=0.85, subsample=0.9, min_child_weight=1, learning_rate=0.1, gamma=0 \n",
      "[CV]  max_depth=5, reg_lambda=1, n_estimators=350, colsample_bytree=0.85, subsample=0.9, min_child_weight=5, learning_rate=0.1, gamma=0, total= 1.8min\n",
      "[CV] max_depth=6, reg_lambda=1, n_estimators=350, colsample_bytree=0.85, subsample=0.9, min_child_weight=1, learning_rate=0.1, gamma=0 \n",
      "[CV]  max_depth=5, reg_lambda=1, n_estimators=350, colsample_bytree=0.85, subsample=0.9, min_child_weight=7, learning_rate=0.1, gamma=0, total= 1.8min\n",
      "[CV] max_depth=6, reg_lambda=1, n_estimators=350, colsample_bytree=0.85, subsample=0.9, min_child_weight=1, learning_rate=0.1, gamma=0 \n",
      "[CV]  max_depth=5, reg_lambda=1, n_estimators=350, colsample_bytree=0.85, subsample=0.9, min_child_weight=7, learning_rate=0.1, gamma=0, total= 1.7min\n",
      "[CV] max_depth=6, reg_lambda=1, n_estimators=350, colsample_bytree=0.85, subsample=0.9, min_child_weight=3, learning_rate=0.1, gamma=0 \n",
      "[CV]  max_depth=6, reg_lambda=1, n_estimators=350, colsample_bytree=0.85, subsample=0.9, min_child_weight=1, learning_rate=0.1, gamma=0, total= 2.1min\n",
      "[CV] max_depth=6, reg_lambda=1, n_estimators=350, colsample_bytree=0.85, subsample=0.9, min_child_weight=3, learning_rate=0.1, gamma=0 \n",
      "[CV]  max_depth=6, reg_lambda=1, n_estimators=350, colsample_bytree=0.85, subsample=0.9, min_child_weight=1, learning_rate=0.1, gamma=0, total= 2.0min\n",
      "[CV] max_depth=6, reg_lambda=1, n_estimators=350, colsample_bytree=0.85, subsample=0.9, min_child_weight=3, learning_rate=0.1, gamma=0 \n",
      "[CV]  max_depth=6, reg_lambda=1, n_estimators=350, colsample_bytree=0.85, subsample=0.9, min_child_weight=1, learning_rate=0.1, gamma=0, total= 2.1min\n"
     ]
    },
    {
     "name": "stdout",
     "output_type": "stream",
     "text": [
      "[CV] max_depth=6, reg_lambda=1, n_estimators=350, colsample_bytree=0.85, subsample=0.9, min_child_weight=5, learning_rate=0.1, gamma=0 \n",
      "[CV]  max_depth=6, reg_lambda=1, n_estimators=350, colsample_bytree=0.85, subsample=0.9, min_child_weight=3, learning_rate=0.1, gamma=0, total= 2.1min\n",
      "[CV] max_depth=6, reg_lambda=1, n_estimators=350, colsample_bytree=0.85, subsample=0.9, min_child_weight=5, learning_rate=0.1, gamma=0 \n",
      "[CV]  max_depth=6, reg_lambda=1, n_estimators=350, colsample_bytree=0.85, subsample=0.9, min_child_weight=3, learning_rate=0.1, gamma=0, total= 2.0min\n",
      "[CV] max_depth=6, reg_lambda=1, n_estimators=350, colsample_bytree=0.85, subsample=0.9, min_child_weight=5, learning_rate=0.1, gamma=0 \n",
      "[CV]  max_depth=6, reg_lambda=1, n_estimators=350, colsample_bytree=0.85, subsample=0.9, min_child_weight=5, learning_rate=0.1, gamma=0, total= 2.0min\n",
      "[CV] max_depth=6, reg_lambda=1, n_estimators=350, colsample_bytree=0.85, subsample=0.9, min_child_weight=7, learning_rate=0.1, gamma=0 \n",
      "[CV]  max_depth=6, reg_lambda=1, n_estimators=350, colsample_bytree=0.85, subsample=0.9, min_child_weight=3, learning_rate=0.1, gamma=0, total= 2.1min\n",
      "[CV] max_depth=6, reg_lambda=1, n_estimators=350, colsample_bytree=0.85, subsample=0.9, min_child_weight=7, learning_rate=0.1, gamma=0 \n",
      "[CV]  max_depth=6, reg_lambda=1, n_estimators=350, colsample_bytree=0.85, subsample=0.9, min_child_weight=5, learning_rate=0.1, gamma=0, total= 2.0min\n",
      "[CV] max_depth=6, reg_lambda=1, n_estimators=350, colsample_bytree=0.85, subsample=0.9, min_child_weight=7, learning_rate=0.1, gamma=0 \n",
      "[CV]  max_depth=6, reg_lambda=1, n_estimators=350, colsample_bytree=0.85, subsample=0.9, min_child_weight=5, learning_rate=0.1, gamma=0, total= 2.1min\n",
      "[CV] max_depth=7, reg_lambda=1, n_estimators=350, colsample_bytree=0.85, subsample=0.9, min_child_weight=1, learning_rate=0.1, gamma=0 \n"
     ]
    },
    {
     "name": "stderr",
     "output_type": "stream",
     "text": [
      "[Parallel(n_jobs=4)]: Done  33 tasks      | elapsed: 15.8min\n"
     ]
    },
    {
     "name": "stdout",
     "output_type": "stream",
     "text": [
      "[CV]  max_depth=6, reg_lambda=1, n_estimators=350, colsample_bytree=0.85, subsample=0.9, min_child_weight=7, learning_rate=0.1, gamma=0, total= 2.1min\n",
      "[CV] max_depth=7, reg_lambda=1, n_estimators=350, colsample_bytree=0.85, subsample=0.9, min_child_weight=1, learning_rate=0.1, gamma=0 \n",
      "[CV]  max_depth=6, reg_lambda=1, n_estimators=350, colsample_bytree=0.85, subsample=0.9, min_child_weight=7, learning_rate=0.1, gamma=0, total= 2.1min\n",
      "[CV] max_depth=7, reg_lambda=1, n_estimators=350, colsample_bytree=0.85, subsample=0.9, min_child_weight=1, learning_rate=0.1, gamma=0 \n",
      "[CV]  max_depth=6, reg_lambda=1, n_estimators=350, colsample_bytree=0.85, subsample=0.9, min_child_weight=7, learning_rate=0.1, gamma=0, total= 2.1min\n",
      "[CV] max_depth=7, reg_lambda=1, n_estimators=350, colsample_bytree=0.85, subsample=0.9, min_child_weight=3, learning_rate=0.1, gamma=0 \n",
      "[CV]  max_depth=7, reg_lambda=1, n_estimators=350, colsample_bytree=0.85, subsample=0.9, min_child_weight=1, learning_rate=0.1, gamma=0, total= 2.3min\n",
      "[CV] max_depth=7, reg_lambda=1, n_estimators=350, colsample_bytree=0.85, subsample=0.9, min_child_weight=3, learning_rate=0.1, gamma=0 \n",
      "[CV]  max_depth=7, reg_lambda=1, n_estimators=350, colsample_bytree=0.85, subsample=0.9, min_child_weight=1, learning_rate=0.1, gamma=0, total= 2.3min\n",
      "[CV] max_depth=7, reg_lambda=1, n_estimators=350, colsample_bytree=0.85, subsample=0.9, min_child_weight=3, learning_rate=0.1, gamma=0 \n",
      "[CV]  max_depth=7, reg_lambda=1, n_estimators=350, colsample_bytree=0.85, subsample=0.9, min_child_weight=1, learning_rate=0.1, gamma=0, total= 2.3min\n",
      "[CV] max_depth=7, reg_lambda=1, n_estimators=350, colsample_bytree=0.85, subsample=0.9, min_child_weight=5, learning_rate=0.1, gamma=0 \n",
      "[CV]  max_depth=7, reg_lambda=1, n_estimators=350, colsample_bytree=0.85, subsample=0.9, min_child_weight=3, learning_rate=0.1, gamma=0, total= 2.4min\n",
      "[CV] max_depth=7, reg_lambda=1, n_estimators=350, colsample_bytree=0.85, subsample=0.9, min_child_weight=5, learning_rate=0.1, gamma=0 \n",
      "[CV]  max_depth=7, reg_lambda=1, n_estimators=350, colsample_bytree=0.85, subsample=0.9, min_child_weight=3, learning_rate=0.1, gamma=0, total= 2.4min\n",
      "[CV] max_depth=7, reg_lambda=1, n_estimators=350, colsample_bytree=0.85, subsample=0.9, min_child_weight=5, learning_rate=0.1, gamma=0 \n",
      "[CV]  max_depth=7, reg_lambda=1, n_estimators=350, colsample_bytree=0.85, subsample=0.9, min_child_weight=3, learning_rate=0.1, gamma=0, total= 2.4min\n",
      "[CV] max_depth=7, reg_lambda=1, n_estimators=350, colsample_bytree=0.85, subsample=0.9, min_child_weight=7, learning_rate=0.1, gamma=0 \n",
      "[CV]  max_depth=7, reg_lambda=1, n_estimators=350, colsample_bytree=0.85, subsample=0.9, min_child_weight=5, learning_rate=0.1, gamma=0, total= 2.4min\n",
      "[CV] max_depth=7, reg_lambda=1, n_estimators=350, colsample_bytree=0.85, subsample=0.9, min_child_weight=7, learning_rate=0.1, gamma=0 \n",
      "[CV]  max_depth=7, reg_lambda=1, n_estimators=350, colsample_bytree=0.85, subsample=0.9, min_child_weight=5, learning_rate=0.1, gamma=0, total= 2.4min\n",
      "[CV] max_depth=7, reg_lambda=1, n_estimators=350, colsample_bytree=0.85, subsample=0.9, min_child_weight=7, learning_rate=0.1, gamma=0 \n",
      "[CV]  max_depth=7, reg_lambda=1, n_estimators=350, colsample_bytree=0.85, subsample=0.9, min_child_weight=5, learning_rate=0.1, gamma=0, total= 2.4min\n",
      "[CV]  max_depth=7, reg_lambda=1, n_estimators=350, colsample_bytree=0.85, subsample=0.9, min_child_weight=7, learning_rate=0.1, gamma=0, total= 2.4min\n",
      "[CV]  max_depth=7, reg_lambda=1, n_estimators=350, colsample_bytree=0.85, subsample=0.9, min_child_weight=7, learning_rate=0.1, gamma=0, total= 2.4min\n",
      "[CV]  max_depth=7, reg_lambda=1, n_estimators=350, colsample_bytree=0.85, subsample=0.9, min_child_weight=7, learning_rate=0.1, gamma=0, total= 2.4min\n"
     ]
    },
    {
     "name": "stderr",
     "output_type": "stream",
     "text": [
      "[Parallel(n_jobs=4)]: Done  48 out of  48 | elapsed: 23.1min finished\n"
     ]
    },
    {
     "name": "stdout",
     "output_type": "stream",
     "text": [
      "Cross-validation Training Time =  1592.945865869522\n",
      "\n",
      "Grid scores:\n",
      "\n",
      "0.840 (+/-0.004) for {'max_depth': 4, 'reg_lambda': 1, 'gamma': 0, 'colsample_bytree': 0.85, 'subsample': 0.9, 'min_child_weight': 1, 'learning_rate': 0.1, 'n_estimators': 350}\n",
      "0.836 (+/-0.007) for {'max_depth': 4, 'reg_lambda': 1, 'gamma': 0, 'colsample_bytree': 0.85, 'subsample': 0.9, 'min_child_weight': 3, 'learning_rate': 0.1, 'n_estimators': 350}\n",
      "0.835 (+/-0.008) for {'max_depth': 4, 'reg_lambda': 1, 'gamma': 0, 'colsample_bytree': 0.85, 'subsample': 0.9, 'min_child_weight': 5, 'learning_rate': 0.1, 'n_estimators': 350}\n",
      "0.838 (+/-0.007) for {'max_depth': 4, 'reg_lambda': 1, 'gamma': 0, 'colsample_bytree': 0.85, 'subsample': 0.9, 'min_child_weight': 7, 'learning_rate': 0.1, 'n_estimators': 350}\n",
      "0.843 (+/-0.007) for {'max_depth': 5, 'reg_lambda': 1, 'gamma': 0, 'colsample_bytree': 0.85, 'subsample': 0.9, 'min_child_weight': 1, 'learning_rate': 0.1, 'n_estimators': 350}\n",
      "0.839 (+/-0.005) for {'max_depth': 5, 'reg_lambda': 1, 'gamma': 0, 'colsample_bytree': 0.85, 'subsample': 0.9, 'min_child_weight': 3, 'learning_rate': 0.1, 'n_estimators': 350}\n",
      "0.841 (+/-0.009) for {'max_depth': 5, 'reg_lambda': 1, 'gamma': 0, 'colsample_bytree': 0.85, 'subsample': 0.9, 'min_child_weight': 5, 'learning_rate': 0.1, 'n_estimators': 350}\n",
      "0.842 (+/-0.008) for {'max_depth': 5, 'reg_lambda': 1, 'gamma': 0, 'colsample_bytree': 0.85, 'subsample': 0.9, 'min_child_weight': 7, 'learning_rate': 0.1, 'n_estimators': 350}\n",
      "0.843 (+/-0.009) for {'max_depth': 6, 'reg_lambda': 1, 'gamma': 0, 'colsample_bytree': 0.85, 'subsample': 0.9, 'min_child_weight': 1, 'learning_rate': 0.1, 'n_estimators': 350}\n",
      "0.842 (+/-0.008) for {'max_depth': 6, 'reg_lambda': 1, 'gamma': 0, 'colsample_bytree': 0.85, 'subsample': 0.9, 'min_child_weight': 3, 'learning_rate': 0.1, 'n_estimators': 350}\n",
      "0.843 (+/-0.007) for {'max_depth': 6, 'reg_lambda': 1, 'gamma': 0, 'colsample_bytree': 0.85, 'subsample': 0.9, 'min_child_weight': 5, 'learning_rate': 0.1, 'n_estimators': 350}\n",
      "0.843 (+/-0.005) for {'max_depth': 6, 'reg_lambda': 1, 'gamma': 0, 'colsample_bytree': 0.85, 'subsample': 0.9, 'min_child_weight': 7, 'learning_rate': 0.1, 'n_estimators': 350}\n",
      "0.844 (+/-0.007) for {'max_depth': 7, 'reg_lambda': 1, 'gamma': 0, 'colsample_bytree': 0.85, 'subsample': 0.9, 'min_child_weight': 1, 'learning_rate': 0.1, 'n_estimators': 350}\n",
      "0.843 (+/-0.007) for {'max_depth': 7, 'reg_lambda': 1, 'gamma': 0, 'colsample_bytree': 0.85, 'subsample': 0.9, 'min_child_weight': 3, 'learning_rate': 0.1, 'n_estimators': 350}\n",
      "0.845 (+/-0.008) for {'max_depth': 7, 'reg_lambda': 1, 'gamma': 0, 'colsample_bytree': 0.85, 'subsample': 0.9, 'min_child_weight': 5, 'learning_rate': 0.1, 'n_estimators': 350}\n",
      "0.844 (+/-0.006) for {'max_depth': 7, 'reg_lambda': 1, 'gamma': 0, 'colsample_bytree': 0.85, 'subsample': 0.9, 'min_child_weight': 7, 'learning_rate': 0.1, 'n_estimators': 350}\n",
      "\n",
      "Best parameter set:\n",
      "{'max_depth': 7, 'reg_lambda': 1, 'gamma': 0, 'colsample_bytree': 0.85, 'subsample': 0.9, 'min_child_weight': 5, 'learning_rate': 0.1, 'n_estimators': 350}\n",
      "\n"
     ]
    }
   ],
   "source": [
    "K_folds = 3\n",
    "params = [{'max_depth': [4,5,6,7], 'min_child_weight':[1,3,5,7], 'learning_rate': [.1], 'n_estimators':[350], 'gamma':[0], 'subsample':[.9], 'colsample_bytree':[.85], 'reg_lambda':[1]}]\n",
    "crossvalidate_XGBoost(X_train, y_train, params, K_folds)"
   ]
  },
  {
   "cell_type": "markdown",
   "metadata": {},
   "source": [
    "Find max_depth = 7 and min_child_weight = 5. Ideal max_depth was at top of search range. Expand search again."
   ]
  },
  {
   "cell_type": "code",
   "execution_count": 12,
   "metadata": {
    "scrolled": true
   },
   "outputs": [
    {
     "name": "stdout",
     "output_type": "stream",
     "text": [
      "Fitting 3 folds for each of 12 candidates, totalling 36 fits\n",
      "[CV] max_depth=7, reg_lambda=1, n_estimators=350, colsample_bytree=0.85, subsample=0.9, min_child_weight=4, learning_rate=0.1, gamma=0 \n",
      "[CV] max_depth=7, reg_lambda=1, n_estimators=350, colsample_bytree=0.85, subsample=0.9, min_child_weight=4, learning_rate=0.1, gamma=0 \n",
      "[CV] max_depth=7, reg_lambda=1, n_estimators=350, colsample_bytree=0.85, subsample=0.9, min_child_weight=4, learning_rate=0.1, gamma=0 \n",
      "[CV] max_depth=7, reg_lambda=1, n_estimators=350, colsample_bytree=0.85, subsample=0.9, min_child_weight=5, learning_rate=0.1, gamma=0 \n",
      "[CV]  max_depth=7, reg_lambda=1, n_estimators=350, colsample_bytree=0.85, subsample=0.9, min_child_weight=4, learning_rate=0.1, gamma=0, total= 2.4min\n",
      "[CV] max_depth=7, reg_lambda=1, n_estimators=350, colsample_bytree=0.85, subsample=0.9, min_child_weight=5, learning_rate=0.1, gamma=0 \n",
      "[CV]  max_depth=7, reg_lambda=1, n_estimators=350, colsample_bytree=0.85, subsample=0.9, min_child_weight=4, learning_rate=0.1, gamma=0, total= 2.4min\n",
      "[CV] max_depth=7, reg_lambda=1, n_estimators=350, colsample_bytree=0.85, subsample=0.9, min_child_weight=5, learning_rate=0.1, gamma=0 \n",
      "[CV]  max_depth=7, reg_lambda=1, n_estimators=350, colsample_bytree=0.85, subsample=0.9, min_child_weight=5, learning_rate=0.1, gamma=0, total= 2.5min\n",
      "[CV] max_depth=7, reg_lambda=1, n_estimators=350, colsample_bytree=0.85, subsample=0.9, min_child_weight=6, learning_rate=0.1, gamma=0 \n",
      "[CV]  max_depth=7, reg_lambda=1, n_estimators=350, colsample_bytree=0.85, subsample=0.9, min_child_weight=4, learning_rate=0.1, gamma=0, total= 2.5min\n",
      "[CV] max_depth=7, reg_lambda=1, n_estimators=350, colsample_bytree=0.85, subsample=0.9, min_child_weight=6, learning_rate=0.1, gamma=0 \n",
      "[CV]  max_depth=7, reg_lambda=1, n_estimators=350, colsample_bytree=0.85, subsample=0.9, min_child_weight=5, learning_rate=0.1, gamma=0, total= 2.4min\n",
      "[CV] max_depth=7, reg_lambda=1, n_estimators=350, colsample_bytree=0.85, subsample=0.9, min_child_weight=6, learning_rate=0.1, gamma=0 \n",
      "[CV]  max_depth=7, reg_lambda=1, n_estimators=350, colsample_bytree=0.85, subsample=0.9, min_child_weight=5, learning_rate=0.1, gamma=0, total= 2.5min\n",
      "[CV] max_depth=8, reg_lambda=1, n_estimators=350, colsample_bytree=0.85, subsample=0.9, min_child_weight=4, learning_rate=0.1, gamma=0 \n",
      "[CV]  max_depth=7, reg_lambda=1, n_estimators=350, colsample_bytree=0.85, subsample=0.9, min_child_weight=6, learning_rate=0.1, gamma=0, total= 2.4min\n",
      "[CV] max_depth=8, reg_lambda=1, n_estimators=350, colsample_bytree=0.85, subsample=0.9, min_child_weight=4, learning_rate=0.1, gamma=0 \n",
      "[CV]  max_depth=7, reg_lambda=1, n_estimators=350, colsample_bytree=0.85, subsample=0.9, min_child_weight=6, learning_rate=0.1, gamma=0, total= 2.4min\n",
      "[CV] max_depth=8, reg_lambda=1, n_estimators=350, colsample_bytree=0.85, subsample=0.9, min_child_weight=4, learning_rate=0.1, gamma=0 \n",
      "[CV]  max_depth=7, reg_lambda=1, n_estimators=350, colsample_bytree=0.85, subsample=0.9, min_child_weight=6, learning_rate=0.1, gamma=0, total= 2.4min\n",
      "[CV] max_depth=8, reg_lambda=1, n_estimators=350, colsample_bytree=0.85, subsample=0.9, min_child_weight=5, learning_rate=0.1, gamma=0 \n",
      "[CV]  max_depth=8, reg_lambda=1, n_estimators=350, colsample_bytree=0.85, subsample=0.9, min_child_weight=4, learning_rate=0.1, gamma=0, total= 2.7min\n",
      "[CV] max_depth=8, reg_lambda=1, n_estimators=350, colsample_bytree=0.85, subsample=0.9, min_child_weight=5, learning_rate=0.1, gamma=0 \n",
      "[CV]  max_depth=8, reg_lambda=1, n_estimators=350, colsample_bytree=0.85, subsample=0.9, min_child_weight=4, learning_rate=0.1, gamma=0, total= 2.7min\n",
      "[CV] max_depth=8, reg_lambda=1, n_estimators=350, colsample_bytree=0.85, subsample=0.9, min_child_weight=5, learning_rate=0.1, gamma=0 \n",
      "[CV]  max_depth=8, reg_lambda=1, n_estimators=350, colsample_bytree=0.85, subsample=0.9, min_child_weight=4, learning_rate=0.1, gamma=0, total= 2.7min\n",
      "[CV] max_depth=8, reg_lambda=1, n_estimators=350, colsample_bytree=0.85, subsample=0.9, min_child_weight=6, learning_rate=0.1, gamma=0 \n",
      "[CV]  max_depth=8, reg_lambda=1, n_estimators=350, colsample_bytree=0.85, subsample=0.9, min_child_weight=5, learning_rate=0.1, gamma=0, total= 2.7min\n",
      "[CV] max_depth=8, reg_lambda=1, n_estimators=350, colsample_bytree=0.85, subsample=0.9, min_child_weight=6, learning_rate=0.1, gamma=0 \n",
      "[CV]  max_depth=8, reg_lambda=1, n_estimators=350, colsample_bytree=0.85, subsample=0.9, min_child_weight=5, learning_rate=0.1, gamma=0, total= 2.7min\n",
      "[CV] max_depth=8, reg_lambda=1, n_estimators=350, colsample_bytree=0.85, subsample=0.9, min_child_weight=6, learning_rate=0.1, gamma=0 \n",
      "[CV]  max_depth=8, reg_lambda=1, n_estimators=350, colsample_bytree=0.85, subsample=0.9, min_child_weight=5, learning_rate=0.1, gamma=0, total= 2.7min\n",
      "[CV] max_depth=9, reg_lambda=1, n_estimators=350, colsample_bytree=0.85, subsample=0.9, min_child_weight=4, learning_rate=0.1, gamma=0 \n",
      "[CV]  max_depth=8, reg_lambda=1, n_estimators=350, colsample_bytree=0.85, subsample=0.9, min_child_weight=6, learning_rate=0.1, gamma=0, total= 2.8min\n",
      "[CV] max_depth=9, reg_lambda=1, n_estimators=350, colsample_bytree=0.85, subsample=0.9, min_child_weight=4, learning_rate=0.1, gamma=0 \n",
      "[CV]  max_depth=8, reg_lambda=1, n_estimators=350, colsample_bytree=0.85, subsample=0.9, min_child_weight=6, learning_rate=0.1, gamma=0, total= 2.7min\n",
      "[CV] max_depth=9, reg_lambda=1, n_estimators=350, colsample_bytree=0.85, subsample=0.9, min_child_weight=4, learning_rate=0.1, gamma=0 \n",
      "[CV]  max_depth=8, reg_lambda=1, n_estimators=350, colsample_bytree=0.85, subsample=0.9, min_child_weight=6, learning_rate=0.1, gamma=0, total= 2.7min\n",
      "[CV] max_depth=9, reg_lambda=1, n_estimators=350, colsample_bytree=0.85, subsample=0.9, min_child_weight=5, learning_rate=0.1, gamma=0 \n",
      "[CV]  max_depth=9, reg_lambda=1, n_estimators=350, colsample_bytree=0.85, subsample=0.9, min_child_weight=4, learning_rate=0.1, gamma=0, total= 3.1min\n",
      "[CV] max_depth=9, reg_lambda=1, n_estimators=350, colsample_bytree=0.85, subsample=0.9, min_child_weight=5, learning_rate=0.1, gamma=0 \n",
      "[CV]  max_depth=9, reg_lambda=1, n_estimators=350, colsample_bytree=0.85, subsample=0.9, min_child_weight=4, learning_rate=0.1, gamma=0, total= 3.0min\n",
      "[CV] max_depth=9, reg_lambda=1, n_estimators=350, colsample_bytree=0.85, subsample=0.9, min_child_weight=5, learning_rate=0.1, gamma=0 \n",
      "[CV]  max_depth=9, reg_lambda=1, n_estimators=350, colsample_bytree=0.85, subsample=0.9, min_child_weight=4, learning_rate=0.1, gamma=0, total= 3.1min\n",
      "[CV] max_depth=9, reg_lambda=1, n_estimators=350, colsample_bytree=0.85, subsample=0.9, min_child_weight=6, learning_rate=0.1, gamma=0 \n",
      "[CV]  max_depth=9, reg_lambda=1, n_estimators=350, colsample_bytree=0.85, subsample=0.9, min_child_weight=5, learning_rate=0.1, gamma=0, total= 3.0min\n",
      "[CV] max_depth=9, reg_lambda=1, n_estimators=350, colsample_bytree=0.85, subsample=0.9, min_child_weight=6, learning_rate=0.1, gamma=0 \n",
      "[CV]  max_depth=9, reg_lambda=1, n_estimators=350, colsample_bytree=0.85, subsample=0.9, min_child_weight=5, learning_rate=0.1, gamma=0, total= 3.1min\n",
      "[CV] max_depth=9, reg_lambda=1, n_estimators=350, colsample_bytree=0.85, subsample=0.9, min_child_weight=6, learning_rate=0.1, gamma=0 \n",
      "[CV]  max_depth=9, reg_lambda=1, n_estimators=350, colsample_bytree=0.85, subsample=0.9, min_child_weight=5, learning_rate=0.1, gamma=0, total= 3.1min\n",
      "[CV] max_depth=10, reg_lambda=1, n_estimators=350, colsample_bytree=0.85, subsample=0.9, min_child_weight=4, learning_rate=0.1, gamma=0 \n",
      "[CV]  max_depth=9, reg_lambda=1, n_estimators=350, colsample_bytree=0.85, subsample=0.9, min_child_weight=6, learning_rate=0.1, gamma=0, total= 3.1min\n",
      "[CV] max_depth=10, reg_lambda=1, n_estimators=350, colsample_bytree=0.85, subsample=0.9, min_child_weight=4, learning_rate=0.1, gamma=0 \n",
      "[CV]  max_depth=9, reg_lambda=1, n_estimators=350, colsample_bytree=0.85, subsample=0.9, min_child_weight=6, learning_rate=0.1, gamma=0, total= 3.1min\n",
      "[CV] max_depth=10, reg_lambda=1, n_estimators=350, colsample_bytree=0.85, subsample=0.9, min_child_weight=4, learning_rate=0.1, gamma=0 \n",
      "[CV]  max_depth=9, reg_lambda=1, n_estimators=350, colsample_bytree=0.85, subsample=0.9, min_child_weight=6, learning_rate=0.1, gamma=0, total= 3.1min\n"
     ]
    },
    {
     "name": "stdout",
     "output_type": "stream",
     "text": [
      "[CV] max_depth=10, reg_lambda=1, n_estimators=350, colsample_bytree=0.85, subsample=0.9, min_child_weight=5, learning_rate=0.1, gamma=0 \n",
      "[CV]  max_depth=10, reg_lambda=1, n_estimators=350, colsample_bytree=0.85, subsample=0.9, min_child_weight=4, learning_rate=0.1, gamma=0, total= 3.4min\n",
      "[CV] max_depth=10, reg_lambda=1, n_estimators=350, colsample_bytree=0.85, subsample=0.9, min_child_weight=5, learning_rate=0.1, gamma=0 \n",
      "[CV]  max_depth=10, reg_lambda=1, n_estimators=350, colsample_bytree=0.85, subsample=0.9, min_child_weight=4, learning_rate=0.1, gamma=0, total= 3.4min\n",
      "[CV] max_depth=10, reg_lambda=1, n_estimators=350, colsample_bytree=0.85, subsample=0.9, min_child_weight=5, learning_rate=0.1, gamma=0 \n",
      "[CV]  max_depth=10, reg_lambda=1, n_estimators=350, colsample_bytree=0.85, subsample=0.9, min_child_weight=4, learning_rate=0.1, gamma=0, total= 3.4min\n",
      "[CV] max_depth=10, reg_lambda=1, n_estimators=350, colsample_bytree=0.85, subsample=0.9, min_child_weight=6, learning_rate=0.1, gamma=0 \n",
      "[CV]  max_depth=10, reg_lambda=1, n_estimators=350, colsample_bytree=0.85, subsample=0.9, min_child_weight=5, learning_rate=0.1, gamma=0, total= 3.3min\n",
      "[CV] max_depth=10, reg_lambda=1, n_estimators=350, colsample_bytree=0.85, subsample=0.9, min_child_weight=6, learning_rate=0.1, gamma=0 \n",
      "[CV]  max_depth=10, reg_lambda=1, n_estimators=350, colsample_bytree=0.85, subsample=0.9, min_child_weight=5, learning_rate=0.1, gamma=0, total= 3.5min\n",
      "[CV] max_depth=10, reg_lambda=1, n_estimators=350, colsample_bytree=0.85, subsample=0.9, min_child_weight=6, learning_rate=0.1, gamma=0 \n",
      "[CV]  max_depth=10, reg_lambda=1, n_estimators=350, colsample_bytree=0.85, subsample=0.9, min_child_weight=5, learning_rate=0.1, gamma=0, total= 3.3min\n",
      "[CV]  max_depth=10, reg_lambda=1, n_estimators=350, colsample_bytree=0.85, subsample=0.9, min_child_weight=6, learning_rate=0.1, gamma=0, total= 3.3min\n",
      "[CV]  max_depth=10, reg_lambda=1, n_estimators=350, colsample_bytree=0.85, subsample=0.9, min_child_weight=6, learning_rate=0.1, gamma=0, total= 3.4min\n",
      "[CV]  max_depth=10, reg_lambda=1, n_estimators=350, colsample_bytree=0.85, subsample=0.9, min_child_weight=6, learning_rate=0.1, gamma=0, total= 3.3min\n"
     ]
    },
    {
     "name": "stderr",
     "output_type": "stream",
     "text": [
      "[Parallel(n_jobs=4)]: Done  36 out of  36 | elapsed: 26.8min finished\n"
     ]
    },
    {
     "name": "stdout",
     "output_type": "stream",
     "text": [
      "Cross-validation Training Time =  1896.5005655288696\n",
      "\n",
      "Grid scores:\n",
      "\n",
      "0.844 (+/-0.005) for {'max_depth': 7, 'reg_lambda': 1, 'gamma': 0, 'colsample_bytree': 0.85, 'subsample': 0.9, 'min_child_weight': 4, 'learning_rate': 0.1, 'n_estimators': 350}\n",
      "0.845 (+/-0.008) for {'max_depth': 7, 'reg_lambda': 1, 'gamma': 0, 'colsample_bytree': 0.85, 'subsample': 0.9, 'min_child_weight': 5, 'learning_rate': 0.1, 'n_estimators': 350}\n",
      "0.843 (+/-0.004) for {'max_depth': 7, 'reg_lambda': 1, 'gamma': 0, 'colsample_bytree': 0.85, 'subsample': 0.9, 'min_child_weight': 6, 'learning_rate': 0.1, 'n_estimators': 350}\n",
      "0.844 (+/-0.008) for {'max_depth': 8, 'reg_lambda': 1, 'gamma': 0, 'colsample_bytree': 0.85, 'subsample': 0.9, 'min_child_weight': 4, 'learning_rate': 0.1, 'n_estimators': 350}\n",
      "0.845 (+/-0.006) for {'max_depth': 8, 'reg_lambda': 1, 'gamma': 0, 'colsample_bytree': 0.85, 'subsample': 0.9, 'min_child_weight': 5, 'learning_rate': 0.1, 'n_estimators': 350}\n",
      "0.846 (+/-0.006) for {'max_depth': 8, 'reg_lambda': 1, 'gamma': 0, 'colsample_bytree': 0.85, 'subsample': 0.9, 'min_child_weight': 6, 'learning_rate': 0.1, 'n_estimators': 350}\n",
      "0.847 (+/-0.005) for {'max_depth': 9, 'reg_lambda': 1, 'gamma': 0, 'colsample_bytree': 0.85, 'subsample': 0.9, 'min_child_weight': 4, 'learning_rate': 0.1, 'n_estimators': 350}\n",
      "0.847 (+/-0.006) for {'max_depth': 9, 'reg_lambda': 1, 'gamma': 0, 'colsample_bytree': 0.85, 'subsample': 0.9, 'min_child_weight': 5, 'learning_rate': 0.1, 'n_estimators': 350}\n",
      "0.847 (+/-0.005) for {'max_depth': 9, 'reg_lambda': 1, 'gamma': 0, 'colsample_bytree': 0.85, 'subsample': 0.9, 'min_child_weight': 6, 'learning_rate': 0.1, 'n_estimators': 350}\n",
      "0.846 (+/-0.002) for {'max_depth': 10, 'reg_lambda': 1, 'gamma': 0, 'colsample_bytree': 0.85, 'subsample': 0.9, 'min_child_weight': 4, 'learning_rate': 0.1, 'n_estimators': 350}\n",
      "0.848 (+/-0.005) for {'max_depth': 10, 'reg_lambda': 1, 'gamma': 0, 'colsample_bytree': 0.85, 'subsample': 0.9, 'min_child_weight': 5, 'learning_rate': 0.1, 'n_estimators': 350}\n",
      "0.848 (+/-0.004) for {'max_depth': 10, 'reg_lambda': 1, 'gamma': 0, 'colsample_bytree': 0.85, 'subsample': 0.9, 'min_child_weight': 6, 'learning_rate': 0.1, 'n_estimators': 350}\n",
      "\n",
      "Best parameter set:\n",
      "{'max_depth': 10, 'reg_lambda': 1, 'gamma': 0, 'colsample_bytree': 0.85, 'subsample': 0.9, 'min_child_weight': 6, 'learning_rate': 0.1, 'n_estimators': 350}\n",
      "\n"
     ]
    }
   ],
   "source": [
    "K_folds = 3\n",
    "params = [{'max_depth': [7,8,9,10], 'min_child_weight':[4,5,6], 'learning_rate': [.1], 'n_estimators':[350], 'gamma':[0], 'subsample':[.9], 'colsample_bytree':[.85], 'reg_lambda':[1]}]\n",
    "crossvalidate_XGBoost(X_train, y_train, params, K_folds)"
   ]
  },
  {
   "cell_type": "markdown",
   "metadata": {},
   "source": [
    "Take second pass over other parameters. Search parameter space more narrowly and try to validate two parameters each time."
   ]
  },
  {
   "cell_type": "code",
   "execution_count": null,
   "metadata": {},
   "outputs": [],
   "source": [
    "K_folds = 3\n",
    "params = [{'max_depth': [10], 'min_child_weight':[6], 'learning_rate': [.1], 'n_estimators':[350], 'gamma':[0], 'subsample':[.85,.88,.9,.92,.95], 'colsample_bytree':[.80,.83,.85,.87,.90], 'reg_lambda':[1]}]\n",
    "crossvalidate_XGBoost(X_train, y_train, params, K_folds)"
   ]
  },
  {
   "cell_type": "code",
   "execution_count": null,
   "metadata": {},
   "outputs": [],
   "source": [
    "K_folds = 3\n",
    "params = [{'max_depth': [10], 'min_child_weight':[6], 'learning_rate': [.1], 'n_estimators':[350], 'gamma':[0,.05,.10,.15,.20], 'subsample':[.85,.88,.9,.92,.95], 'colsample_bytree':[.80,.83,.85,.87,.90], 'reg_lambda':[.01,.05,.1,.5,1]}]\n",
    "crossvalidate_XGBoost(X_train, y_train, params, K_folds)"
   ]
  },
  {
   "cell_type": "markdown",
   "metadata": {},
   "source": [
    "Now determine optimal learning rate."
   ]
  },
  {
   "cell_type": "code",
   "execution_count": null,
   "metadata": {},
   "outputs": [],
   "source": [
    "    if useTrainCV:\n",
    "        xgb_param = alg.get_xgb_params()\n",
    "        xgtrain = xgb.DMatrix(dtrain[predictors].values, label=dtrain[target].values)\n",
    "        cvresult = xgb.cv(xgb_param, xgtrain, num_boost_round=alg.get_params()['n_estimators'], nfold=cv_folds,\n",
    "            metrics='auc', early_stopping_rounds=early_stopping_rounds, show_progress=False)\n",
    "\n",
    "xgboostost.cv(params, dtrain, num_boost_round=10, nfold=3, stratified=False, folds=None, metrics=(), obj=None, feval=None, maximize=False, early_stopping_rounds=None, fpreproc=None, as_pandas=True, verbose_eval=None, show_stdv=True, seed=0, callbacks=None, shuffle=True)"
   ]
  }
 ],
 "metadata": {
  "kernelspec": {
   "display_name": "Python 3",
   "language": "python",
   "name": "python3"
  },
  "language_info": {
   "codemirror_mode": {
    "name": "ipython",
    "version": 3
   },
   "file_extension": ".py",
   "mimetype": "text/x-python",
   "name": "python",
   "nbconvert_exporter": "python",
   "pygments_lexer": "ipython3",
   "version": "3.5.2"
  }
 },
 "nbformat": 4,
 "nbformat_minor": 2
}
