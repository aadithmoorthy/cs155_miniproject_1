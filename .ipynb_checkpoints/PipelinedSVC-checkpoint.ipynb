{
 "cells": [
  {
   "cell_type": "markdown",
   "metadata": {},
   "source": [
    "Pipeline is as follows:  \n",
    "1) Data is either raw word counts or word counts capped at one  \n",
    "2) Data is sent through PCA without whitening (linear SVC) or with whitening (RBF SVC)  \n",
    "3) Cross validation is used to chose the best L1-regularized LinearSVC  \n",
    "4) The LinearSVC defines the subspace of features used for final SVC  \n",
    "5) Cross validation is used to choose the best SVC on reduced feature space"
   ]
  },
  {
   "cell_type": "markdown",
   "metadata": {},
   "source": [
    "## Imports"
   ]
  },
  {
   "cell_type": "code",
   "execution_count": null,
   "metadata": {},
   "outputs": [],
   "source": [
    "from utils import get_split_data\n",
    "from sklearn.svm import SVC, LinearSVC\n",
    "from sklearn.model_selection import GridSearchCV\n",
    "from sklearn.metrics import classification_report\n",
    "from sklearn.decomposition import PCA\n",
    "import numpy as np\n",
    "import time\n",
    "\n",
    "X_train, y_train, X_val, y_val = get_split_data()"
   ]
  },
  {
   "cell_type": "markdown",
   "metadata": {},
   "source": [
    "## Data Preprocessing"
   ]
  },
  {
   "cell_type": "code",
   "execution_count": null,
   "metadata": {},
   "outputs": [],
   "source": [
    "# Truncate word counts to one\n",
    "X_train_trunc = np.minimum(X_train, np.ones(X_train.shape))\n",
    "X_val_trunc = np.minimum(X_val, np.ones(X_val.shape))"
   ]
  },
  {
   "cell_type": "code",
   "execution_count": null,
   "metadata": {},
   "outputs": [],
   "source": [
    "# PCA based on raw input data\n",
    "raw_PCA = PCA()\n",
    "raw_PCA.fit(X_train)\n",
    "\n",
    "# Transform training and validation data\n",
    "X_train_raw_PCA = raw_PCA.transform(X_train)\n",
    "X_val_raw_PCA = raw_PCA.transform(X_val)"
   ]
  },
  {
   "cell_type": "code",
   "execution_count": null,
   "metadata": {},
   "outputs": [],
   "source": [
    "# Whitened PCA based on raw input data\n",
    "raw_PCA_white = PCA(whiten=True)\n",
    "raw_PCA_white.fit(X_train)\n",
    "\n",
    "# Transform training and validation data\n",
    "X_train_raw_PCA_white = raw_PCA_white.transform(X_train)\n",
    "X_val_raw_PCA_white = raw_PCA_white.transform(X_val)"
   ]
  },
  {
   "cell_type": "code",
   "execution_count": null,
   "metadata": {},
   "outputs": [],
   "source": [
    "# PCA based on truncated input data\n",
    "trunc_PCA = PCA()\n",
    "trunc_PCA.fit(X_train_trunc)\n",
    "\n",
    "X_train_trunc_PCA = trunc_PCA.transform(X_train_trunc)\n",
    "X_val_trunc_PCA = trunc_PCA.transform(X_val_trunc)"
   ]
  },
  {
   "cell_type": "code",
   "execution_count": null,
   "metadata": {},
   "outputs": [],
   "source": [
    "# Whitened PCA based on truncated input data\n",
    "trunc_PCA_white = PCA(whiten=True)\n",
    "trunc_PCA_white.fit(X_train_trunc)\n",
    "\n",
    "X_train_trunc_PCA_white = trunc_PCA_white.transform(X_train_trunc)\n",
    "X_val_trunc_PCA_white = trunc_PCA_white.transform(X_val_trunc)"
   ]
  },
  {
   "cell_type": "markdown",
   "metadata": {},
   "source": [
    "## Functions"
   ]
  },
  {
   "cell_type": "code",
   "execution_count": null,
   "metadata": {},
   "outputs": [],
   "source": [
    "C_tests_L1 = np.logspace(-3,3,19)\n",
    "K_fold_L1 = 10"
   ]
  },
  {
   "cell_type": "code",
   "execution_count": null,
   "metadata": {},
   "outputs": [],
   "source": [
    "def crossvalidate_L1_LinearSVC(X_t, y_t, X_v, y_v, C_params, K_folds):\n",
    "    \n",
    "    start = time.time()\n",
    "    \n",
    "    # Set parameters to be crossvalidated\n",
    "    tuned_parameters = [{'loss':['squared_hinge'], 'penalty':['l1'], 'dual':[False], 'C': C_params}]\n",
    "    # Perform cross validation\n",
    "    clf = GridSearchCV(LinearSVC(), tuned_parameters, cv=K_folds, scoring='accuracy')\n",
    "    clf.fit(X_t, y_t)\n",
    "    \n",
    "    end = time.time()\n",
    "    \n",
    "    print(\"L1 Cross-validation Training Time = \", (end - start))\n",
    "\n",
    "    print(\"Best parameter set found on development set:\")\n",
    "    print(clf.best_params_)\n",
    "    print()\n",
    "    bestmodel = clf.best_estimator_\n",
    "    N_coef = sum(bestmodel.coef_[0] != 0)\n",
    "    N_dim = len(bestmodel.coef_[0])\n",
    "    print(\"Dimensionality of model: %s of %s\" % (N_coef, N_dim))\n",
    "    print()\n",
    "    \n",
    "    return bestmodel"
   ]
  },
  {
   "cell_type": "code",
   "execution_count": null,
   "metadata": {},
   "outputs": [],
   "source": [
    "def crossvalidate_final_LinearSVC(X_t, y_t, X_v, y_v, C_params, K_folds):\n",
    "    \n",
    "    start = time.time()\n",
    "    \n",
    "    # Set parameters to be crossvalidated\n",
    "    tuned_parameters = [{'loss':['hinge'], 'penalty':['l2'], 'dual':[False], 'C': C_params}]\n",
    "    # Perform cross validation\n",
    "    clf = GridSearchCV(LinearSVC(), tuned_parameters, cv=K_folds, scoring='accuracy')\n",
    "    clf.fit(X_t, y_t)\n",
    "    \n",
    "    end = time.time()\n",
    "    \n",
    "    print(\"Final Linear SVC Cross-validation Training Time = \", (end - start))\n",
    "\n",
    "    print(\"Best parameter set found on development set:\")\n",
    "    print(clf.best_params_)\n",
    "    print()\n",
    "    \n",
    "    bestmodel = clf.best_estimator_\n",
    "    fCorr = sum(bestmodel.predict(X_v) == y_v)/len(y_v)\n",
    "    print(\"Test Accuracy = \", fCorr)\n",
    "    print()\n",
    "    \n",
    "    return bestmodel"
   ]
  },
  {
   "cell_type": "code",
   "execution_count": null,
   "metadata": {},
   "outputs": [],
   "source": [
    "def crossvalidate_final_rbfSVC(X_t, y_t, X_v, y_v, C_params, K_folds):\n",
    "    \n",
    "    start = time.time()\n",
    "    \n",
    "    # Set parameters to be crossvalidated\n",
    "    tuned_parameters = [{'C': C_params, 'kernel':['rbf'], 'cache_size':[1000]}]\n",
    "    # Perform cross validation\n",
    "    clf = GridSearchCV(SVC(), tuned_parameters, cv=K_folds, scoring='accuracy')\n",
    "    clf.fit(X_t, y_t)\n",
    "    \n",
    "    end = time.time()\n",
    "    \n",
    "    print(\"Final RBF SVC Cross-validation Training Time = \", (end - start))\n",
    "\n",
    "    print(\"Best parameter set found on development set:\")\n",
    "    print(clf.best_params_)\n",
    "    print()\n",
    "    \n",
    "    bestmodel = clf.best_estimator_\n",
    "    fCorr = sum(bestmodel.predict(X_v) == y_v)/len(y_v)\n",
    "    print(\"Test Accuracy = \", fCorr)\n",
    "    print()\n",
    "    \n",
    "    return bestmodel"
   ]
  }
 ],
 "metadata": {
  "kernelspec": {
   "display_name": "Python 3",
   "language": "python",
   "name": "python3"
  },
  "language_info": {
   "codemirror_mode": {
    "name": "ipython",
    "version": 3
   },
   "file_extension": ".py",
   "mimetype": "text/x-python",
   "name": "python",
   "nbconvert_exporter": "python",
   "pygments_lexer": "ipython3",
   "version": "3.6.4"
  }
 },
 "nbformat": 4,
 "nbformat_minor": 2
}
